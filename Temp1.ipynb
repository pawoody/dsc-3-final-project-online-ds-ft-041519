{
 "cells": [
  {
   "cell_type": "markdown",
   "metadata": {
    "toc": true
   },
   "source": [
    "<h1>Table of Contents<span class=\"tocSkip\"></span></h1>\n",
    "<div class=\"toc\"><ul class=\"toc-item\"><li><span><a href=\"#ROC/AUC:\" data-toc-modified-id=\"ROC/AUC:-1\"><span class=\"toc-item-num\">1&nbsp;&nbsp;</span>ROC/AUC:</a></span></li></ul></div>"
   ]
  },
  {
   "cell_type": "markdown",
   "metadata": {},
   "source": [
    "- Who is controlling 4 central squares: d4, d5, e4, e5\n",
    "- Who captured the first piece\n",
    "- Which player castles sooner\n",
    "- Does player castle (yes, no)\n",
    "- Who moves all of their pieces off of the back row the quickest"
   ]
  },
  {
   "cell_type": "markdown",
   "metadata": {},
   "source": [
    "Logistic Regression\n",
    "Matrix Feature adjustments (need name)\n",
    "Feature importance\n",
    "Subspace sampling\n",
    "Ensemble methods\n",
    "Random forest method\n",
    "GridsearchCV (combinatorial, exhaustive)\n",
    "\n",
    "Parameter Tuning\n",
    "\n",
    "Grid Searching Cross val score for random forest classifier\n",
    "AdaBoost - tuning gradient boosted trees\n",
    "Gradient Boosting\n",
    "Weak vs Strong learners\n",
    "XGBoost - extreme gradient boosting"
   ]
  },
  {
   "cell_type": "code",
   "execution_count": 1,
   "metadata": {},
   "outputs": [],
   "source": [
    "import pandas as pd\n",
    "import numpy as np\n",
    "import itertools\n",
    "import matplotlib.pyplot as plt\n",
    "%matplotlib inline\n",
    "import seaborn as sns\n",
    "import sqlalchemy\n",
    "from sqlalchemy import create_engine\n",
    "from sqlalchemy.orm import Session, sessionmaker\n",
    "import scipy.stats as stats\n",
    "from scipy.stats import norm\n",
    "import statsmodels.api as sm\n",
    "from statsmodels.formula.api import ols\n",
    "\n",
    "\n",
    "from sklearn.datasets import load_iris\n",
    "from sklearn.model_selection import train_test_split, GridSearchCV, cross_val_score \n",
    "from sklearn.preprocessing import StandardScaler\n",
    "from sklearn.decomposition import PCA\n",
    "from sklearn.pipeline import Pipeline\n",
    "from sklearn.externals import joblib\n",
    "from sklearn.linear_model import LogisticRegression\n",
    "from sklearn.ensemble import RandomForestClassifier\n",
    "from sklearn.naive_bayes import MultinomialNB\n",
    "from sklearn.metrics import roc_curve, auc\n",
    "from sklearn import svm\n",
    "from sklearn import tree\n",
    "from imblearn.over_sampling import SMOTE, ADASYN"
   ]
  },
  {
   "cell_type": "code",
   "execution_count": 2,
   "metadata": {},
   "outputs": [
    {
     "data": {
      "text/plain": [
       "Index(['id', 'rated', 'created_at', 'last_move_at', 'turns', 'victory_status',\n",
       "       'winner', 'increment_code', 'white_id', 'white_rating', 'black_id',\n",
       "       'black_rating', 'moves', 'opening_eco', 'opening_name', 'opening_ply'],\n",
       "      dtype='object')"
      ]
     },
     "execution_count": 2,
     "metadata": {},
     "output_type": "execute_result"
    }
   ],
   "source": [
    "df = pd.read_csv(\"games.csv\")\n",
    "df.columns"
   ]
  },
  {
   "cell_type": "code",
   "execution_count": 3,
   "metadata": {},
   "outputs": [
    {
     "name": "stdout",
     "output_type": "stream",
     "text": [
      "0    d4 d5 c4 c6 cxd5 e6 dxe6 fxe6 Nf3 Bb4+ Nc3 Ba5...\n",
      "Name: moves, dtype: object\n"
     ]
    }
   ],
   "source": [
    "print(df.moves[:1])"
   ]
  },
  {
   "cell_type": "code",
   "execution_count": 4,
   "metadata": {},
   "outputs": [
    {
     "data": {
      "text/html": [
       "<div>\n",
       "<style scoped>\n",
       "    .dataframe tbody tr th:only-of-type {\n",
       "        vertical-align: middle;\n",
       "    }\n",
       "\n",
       "    .dataframe tbody tr th {\n",
       "        vertical-align: top;\n",
       "    }\n",
       "\n",
       "    .dataframe thead th {\n",
       "        text-align: right;\n",
       "    }\n",
       "</style>\n",
       "<table border=\"1\" class=\"dataframe\">\n",
       "  <thead>\n",
       "    <tr style=\"text-align: right;\">\n",
       "      <th></th>\n",
       "      <th>id</th>\n",
       "      <th>rated</th>\n",
       "      <th>created_at</th>\n",
       "      <th>last_move_at</th>\n",
       "      <th>turns</th>\n",
       "      <th>victory_status</th>\n",
       "      <th>winner</th>\n",
       "      <th>increment_code</th>\n",
       "      <th>white_id</th>\n",
       "      <th>white_rating</th>\n",
       "      <th>black_id</th>\n",
       "      <th>black_rating</th>\n",
       "      <th>moves</th>\n",
       "      <th>opening_eco</th>\n",
       "      <th>opening_name</th>\n",
       "      <th>opening_ply</th>\n",
       "    </tr>\n",
       "  </thead>\n",
       "  <tbody>\n",
       "    <tr>\n",
       "      <th>0</th>\n",
       "      <td>TZJHLljE</td>\n",
       "      <td>False</td>\n",
       "      <td>1.504210e+12</td>\n",
       "      <td>1.504210e+12</td>\n",
       "      <td>13</td>\n",
       "      <td>outoftime</td>\n",
       "      <td>white</td>\n",
       "      <td>15+2</td>\n",
       "      <td>bourgris</td>\n",
       "      <td>1500</td>\n",
       "      <td>a-00</td>\n",
       "      <td>1191</td>\n",
       "      <td>d4 d5 c4 c6 cxd5 e6 dxe6 fxe6 Nf3 Bb4+ Nc3 Ba5...</td>\n",
       "      <td>D10</td>\n",
       "      <td>Slav Defense: Exchange Variation</td>\n",
       "      <td>5</td>\n",
       "    </tr>\n",
       "    <tr>\n",
       "      <th>1</th>\n",
       "      <td>l1NXvwaE</td>\n",
       "      <td>True</td>\n",
       "      <td>1.504130e+12</td>\n",
       "      <td>1.504130e+12</td>\n",
       "      <td>16</td>\n",
       "      <td>resign</td>\n",
       "      <td>black</td>\n",
       "      <td>5+10</td>\n",
       "      <td>a-00</td>\n",
       "      <td>1322</td>\n",
       "      <td>skinnerua</td>\n",
       "      <td>1261</td>\n",
       "      <td>d4 Nc6 e4 e5 f4 f6 dxe5 fxe5 fxe5 Nxe5 Qd4 Nc6...</td>\n",
       "      <td>B00</td>\n",
       "      <td>Nimzowitsch Defense: Kennedy Variation</td>\n",
       "      <td>4</td>\n",
       "    </tr>\n",
       "  </tbody>\n",
       "</table>\n",
       "</div>"
      ],
      "text/plain": [
       "         id  rated    created_at  last_move_at  turns victory_status winner  \\\n",
       "0  TZJHLljE  False  1.504210e+12  1.504210e+12     13      outoftime  white   \n",
       "1  l1NXvwaE   True  1.504130e+12  1.504130e+12     16         resign  black   \n",
       "\n",
       "  increment_code  white_id  white_rating   black_id  black_rating  \\\n",
       "0           15+2  bourgris          1500       a-00          1191   \n",
       "1           5+10      a-00          1322  skinnerua          1261   \n",
       "\n",
       "                                               moves opening_eco  \\\n",
       "0  d4 d5 c4 c6 cxd5 e6 dxe6 fxe6 Nf3 Bb4+ Nc3 Ba5...         D10   \n",
       "1  d4 Nc6 e4 e5 f4 f6 dxe5 fxe5 fxe5 Nxe5 Qd4 Nc6...         B00   \n",
       "\n",
       "                             opening_name  opening_ply  \n",
       "0        Slav Defense: Exchange Variation            5  \n",
       "1  Nimzowitsch Defense: Kennedy Variation            4  "
      ]
     },
     "execution_count": 4,
     "metadata": {},
     "output_type": "execute_result"
    }
   ],
   "source": [
    "df.head(2)"
   ]
  },
  {
   "cell_type": "code",
   "execution_count": 5,
   "metadata": {},
   "outputs": [
    {
     "data": {
      "text/plain": [
       "white    10001\n",
       "black     9107\n",
       "draw       950\n",
       "Name: winner, dtype: int64"
      ]
     },
     "execution_count": 5,
     "metadata": {},
     "output_type": "execute_result"
    }
   ],
   "source": [
    "df.winner.value_counts()"
   ]
  },
  {
   "cell_type": "code",
   "execution_count": 6,
   "metadata": {},
   "outputs": [],
   "source": [
    "df['rating_difference'] = (df['white_rating'] - df['black_rating'])"
   ]
  },
  {
   "cell_type": "code",
   "execution_count": 7,
   "metadata": {},
   "outputs": [
    {
     "data": {
      "text/plain": [
       "<matplotlib.axes._subplots.AxesSubplot at 0x1c1b18e978>"
      ]
     },
     "execution_count": 7,
     "metadata": {},
     "output_type": "execute_result"
    },
    {
     "data": {
      "image/png": "[encoded data removed]",
      "text/plain": [
       "<Figure size 432x288 with 1 Axes>"
      ]
     },
     "metadata": {
      "needs_background": "light"
     },
     "output_type": "display_data"
    }
   ],
   "source": [
    "df.rating_difference[df.winner == 'white'].hist()"
   ]
  },
  {
   "cell_type": "code",
   "execution_count": 8,
   "metadata": {
    "scrolled": false
   },
   "outputs": [
    {
     "data": {
      "text/plain": [
       "<matplotlib.axes._subplots.AxesSubplot at 0x1c1852a7b8>"
      ]
     },
     "execution_count": 8,
     "metadata": {},
     "output_type": "execute_result"
    },
    {
     "data": {
      "image/png": "[encoded data removed]",
      "text/plain": [
       "<Figure size 432x288 with 1 Axes>"
      ]
     },
     "metadata": {
      "needs_background": "light"
     },
     "output_type": "display_data"
    }
   ],
   "source": [
    "df.rating_difference[df.winner == 'black'].hist()"
   ]
  },
  {
   "cell_type": "code",
   "execution_count": 9,
   "metadata": {
    "scrolled": true
   },
   "outputs": [
    {
     "data": {
      "text/plain": [
       "['d4',\n",
       " 'd5',\n",
       " 'c4',\n",
       " 'c6',\n",
       " 'cxd5',\n",
       " 'e6',\n",
       " 'dxe6',\n",
       " 'fxe6',\n",
       " 'Nf3',\n",
       " 'Bb4+',\n",
       " 'Nc3',\n",
       " 'Ba5',\n",
       " 'Bf4']"
      ]
     },
     "execution_count": 9,
     "metadata": {},
     "output_type": "execute_result"
    }
   ],
   "source": [
    "df.moves[0].split()"
   ]
  },
  {
   "cell_type": "code",
   "execution_count": 10,
   "metadata": {
    "scrolled": true
   },
   "outputs": [
    {
     "data": {
      "text/plain": [
       "id                                                            mIICvQHh\n",
       "rated                                                             True\n",
       "created_at                                                 1.50413e+12\n",
       "last_move_at                                               1.50413e+12\n",
       "turns                                                               61\n",
       "victory_status                                                    mate\n",
       "winner                                                           white\n",
       "increment_code                                                    5+10\n",
       "white_id                                                        ischia\n",
       "white_rating                                                      1496\n",
       "black_id                                                          a-00\n",
       "black_rating                                                      1500\n",
       "moves                e4 e5 d3 d6 Be3 c6 Be2 b5 Nd2 a5 a4 c5 axb5 Nc...\n",
       "opening_eco                                                        C20\n",
       "opening_name                     King's Pawn Game: Leonardis Variation\n",
       "opening_ply                                                          3\n",
       "rating_difference                                                   -4\n",
       "Name: 2, dtype: object"
      ]
     },
     "execution_count": 10,
     "metadata": {},
     "output_type": "execute_result"
    }
   ],
   "source": [
    "df.iloc[2]"
   ]
  },
  {
   "cell_type": "code",
   "execution_count": 11,
   "metadata": {},
   "outputs": [
    {
     "data": {
      "text/plain": [
       "e4 e5                                                                                                                                                                                                                                                                                                                                                                                                                                                                                                                                                                                                                                                                                                                    27\n",
       "e4 d5                                                                                                                                                                                                                                                                                                                                                                                                                                                                                                                                                                                                                                                                                                                    21\n",
       "d4 d5                                                                                                                                                                                                                                                                                                                                                                                                                                                                                                                                                                                                                                                                                                                    17\n",
       "e4 e5 Nf3                                                                                                                                                                                                                                                                                                                                                                                                                                                                                                                                                                                                                                                                                                                16\n",
       "f4 e6 g4 Qh4#                                                                                                                                                                                                                                                                                                                                                                                                                                                                                                                                                                                                                                                                                                            14\n",
       "e4                                                                                                                                                                                                                                                                                                                                                                                                                                                                                                                                                                                                                                                                                                                       12\n",
       "d3 e6                                                                                                                                                                                                                                                                                                                                                                                                                                                                                                                                                                                                                                                                                                                    10\n",
       "e4 c5                                                                                                                                                                                                                                                                                                                                                                                                                                                                                                                                                                                                                                                                                                                    10\n",
       "e4 e6                                                                                                                                                                                                                                                                                                                                                                                                                                                                                                                                                                                                                                                                                                                     9\n",
       "e3 e5                                                                                                                                                                                                                                                                                                                                                                                                                                                                                                                                                                                                                                                                                                                     9\n",
       "e3 e6                                                                                                                                                                                                                                                                                                                                                                                                                                                                                                                                                                                                                                                                                                                     8\n",
       "e3 d6                                                                                                                                                                                                                                                                                                                                                                                                                                                                                                                                                                                                                                                                                                                     6\n",
       "d4 e6                                                                                                                                                                                                                                                                                                                                                                                                                                                                                                                                                                                                                                                                                                                     6\n",
       "Nf3 d5 g3 c5 Bg2 Nc6 d3 Nf6 O-O e5 Nc3 d4 Ne4 Nxe4 dxe4 Be7 e3 O-O exd4 cxd4 Re1 Be6 Bd2 Qb6 b3 f6 Qe2 Nb4 Bxb4 Bxb4 Red1 Rac8 Rac1 Rc6 Nh4 Ba3 Rb1 Rfc8 Rd2 Bb4 Rdd1 Rxc2 Qf3 Rxa2 Nf5 Rcc2 Rf1 Bf8 Rfc1 Rxf2                                                                                                                                                                                                                                                                                                                                                                                                                                                                                                            5\n",
       "e4 e5 Nf3 Nc6                                                                                                                                                                                                                                                                                                                                                                                                                                                                                                                                                                                                                                                                                                             5\n",
       "e4 d6                                                                                                                                                                                                                                                                                                                                                                                                                                                                                                                                                                                                                                                                                                                     5\n",
       "e4 c5 Nf3 Nc6 Bb5 d6 d4 a6 Bxc6+ bxc6 dxc5 d5 exd5 cxd5 Nc3 Bg4 Qxd5 Qxd5 Nxd5 Bxf3 gxf3 Ra7 c6 e6 c7 Ne7 Nxe7 Rxc7 Bf4 Rxe7 Bd6 Rd7 Bxf8 Kxf8 Rg1 g6 Rg4 f5 Rc4 Kg7 Rd1 Rb7 Rc6 Rxb2 Rxe6 a5 Rd7+ Kh6 Rde7 Rxc2 Re8 Rc1+ Kd2 Rxe8 Rxe8 Ra1 Ke3 Rxa2 Rd8 a4 Rd2 Ra3+ Rd3 Rxd3+ Kxd3 a3 Kc3 a2 Kb2 Kg5 Kxa2 f4 Kb1 Kh4 Kc2 Kh3 Kd3 Kxh2 Ke4 Kg2 Kxf4 Kxf2 Kg4 Kg2 f4 Kf2 Kg5 Kf3 Kh6 Kxf4 Kxh7 g5 Kh6 g4 Kh5 g3 Kh4 Kf3 Kh3 Kf2 Kh4 g2 Kh3 g1=Q Kh4 Kf3 Kh5 Kf4 Kh6 Kf5 Kh7 Qg6+ Kh8 Qe8+ Kg7 Qg6+ Kh8 Qd6 Kg8 Kf6 Kh8 Qg3 Kh7 Qg7#                                                                                                                                                                                        4\n",
       "e4 e5 Nf3 d6 Bc4 h6 Nc3 Bg4 h3 Bh5 d3 c6 Be3 Nf6 O-O a5 d4 a4 dxe5 Nfd7 exd6                                                                                                                                                                                                                                                                                                                                                                                                                                                                                                                                                                                                                                              4\n",
       "e4 e5 Nf3 Nc6 d4 exd4 Nxd4 Nxd4 Qxd4 f6 Bc4 b6 Qd5 Ne7 Qf7#                                                                                                                                                                                                                                                                                                                                                                                                                                                                                                                                                                                                                                                               4\n",
       "e4 e5 Nf3 Nc6 Bb5 a6 Ba4 Nf6 Nc3 Be7 d4 exd4 Nxd4 Nxd4 Qxd4 O-O Nd5 Nxd5 Qxd5 c6 Qd3 Qa5+ Bd2 Qxa4 O-O Bf6 Qc3 Bxc3                                                                                                                                                                                                                                                                                                                                                                                                                                                                                                                                                                                                       4\n",
       "e4 e5 Qh5 g6 Qxe5+ Be7 Qxh8                                                                                                                                                                                                                                                                                                                                                                                                                                                                                                                                                                                                                                                                                               4\n",
       "h4 e5 a4 d5 b4 Nc6 b5 Na5 g4 a6 b6 cxb6 g5 b5 axb5 axb5 Nc3 f6 Nxb5 fxg5 Nd6+ Bxd6 hxg5 Qxg5 Bh3 Bxh3 Rxh3 Qxg1#                                                                                                                                                                                                                                                                                                                                                                                                                                                                                                                                                                                                          4\n",
       "e4 e5 Nf3 Nc6 Bc4 Nf6 Nc3 Bc5 O-O O-O d3 d6 Bg5 h6 Bh4 Bg4 h3 Bh5 Re1 Qe8 a3 Qe7 Rf1 Rfe8 Qe2 a6 Rfe1 Nd4 Nxd4 Bxe2 Rxe2 Bxd4 Na4 b5 Bb3 bxa4 Bxa4 Bxb2 Rb1 Bxa3 Rb3 Bc5 c3 Reb8 Ra3 Bxa3 f3 Rb2 Re3 Bc5 Bf2 Bxe3 Bxe3 Ra2 Bb3 Ra3 Bc4 Rxc3 Ba2 Rxd3 Bc1 Rd1+ Kf2 Rxc1 Bb3 Rb1 Bc4 Rb2+ Kf1 Rb1+ Kf2 a5 Ba2 Rb2+ Ke3 Rxa2 Kd3 Rxg2 Ke3 Rg3 Kf2 Rxh3 Ke2 Rxf3 Kxf3 Nxe4 Kxe4 a4 Kd3 a3 Kc2 a2 Kb2 a1=Q+ Kc2 Qh4 Kd3 Ra4 Ke3 Qe4+ Kf2 Qc3 Kf1 Qec2 Kg1 Ra1#                                                                                                                                                                                                                                                                 4\n",
       "e4 e5 Nf3 Nc6 Bc4 Bc5 c3 Nf6 d4 exd4 cxd4 Bb4+ Nc3 Nxe4 d5 Nxc3 dxc6 Nxd1+                                                                                                                                                                                                                                                                                                                                                                                                                                                                                                                                                                                                                                                4\n",
       "e4 e5 Nf3 d6 Bc4 Be6 Bxe6 fxe6 d3 Nc6 O-O d5 exd5 exd5 Re1 Nf6 Nxe5 Nxe5 Rxe5+ Be7 Bg5 Qd6 Bf4 O-O-O Rg5 Qxf4 Rxg7 Bd6 Qd2 Qxh2+ Kf1 Qh1+ Ke2 Rde8+ Kf3 Qh5+ g4 Qh3#                                                                                                                                                                                                                                                                                                                                                                                                                                                                                                                                                      4\n",
       "e4 c5 Nf3 g6 d4 cxd4 Nxd4 Bg7 Nc3 a6 Bc4 e6 Bf4 Nc6 Nxc6 bxc6 Kf1 Ne7 Ke2 d5 exd5 cxd5 Bb3 O-O Re1 a5 Nb5 Ba6 c4 dxc4 Bxc4 Qxd1+ Raxd1 Nf5 Kf1 Nd4 Nxd4 Bxc4+ Kg1 Bxa2 Nb5 Bd5 Nc7 Rad8 Nxd5 Rxd5 Bd6 Rxd1 Rxd1 Rd8 Kf1 Bf8 Ke1 Bxd6 Ra1 Rb8 Rxa5 Bb4+ Kd1 Bxa5                                                                                                                                                                                                                                                                                                                                                                                                                                                           4\n",
       "b3 d5                                                                                                                                                                                                                                                                                                                                                                                                                                                                                                                                                                                                                                                                                                                     4\n",
       "e3 e5 d4 exd4 exd4 Nf6 Nf3 Nc6 Nc3 Bb4 a3 Ba5 Bb5 a6 Bxc6 dxc6 Qe2+ Be6 Bg5 O-O O-O-O h6 Bxf6 Qxf6 b4 Bb6 Ne5 Qg5+ Qd2 f6 Nd7 Bxd7 Qxg5 hxg5 d5 cxd5 Nxd5 Bc6 Nxb6 cxb6 f3 g4 fxg4 Bxg2 Rhg1 Bf3 Rd3 Be4 Re3 Rae8 Rge1 Bc6 Rxe8 Rxe8 Rxe8+ Bxe8 Kd2 Kh7 Ke3 Bd7 Kf4 Kg6 h4 a5 g5 fxg5+ hxg5 Bf5 c3 axb4 cxb4 Bb1 a4 Kf7 a5 bxa5 bxa5 Bd3 Ke5 Bb5 Kf4 Ba6 Kf5 g6+ Ke5 Ke7 Kf4 Ke6 Ke4 Kd6 Kd4 Kc6 Kc3 Kb5 Kb3 Kxa5 Ka3 Kb5 Kb3 Kc5 Kc3 Kd5 Kd2 Ke5 Ke3 Kf5 Kf3 Kxg5 Kg3 b5 Kf3 b4 Ke3 b3 Kd2 b2 Kc3 b1=Q                                                                                                                                                                                                                   4\n",
       "e4 e5 Nf3 Nc6 d4 d6 dxe5 Nxe5 Nxe5 dxe5 Qxd8+ Kxd8 Nc3 Nf6 a3 Bc5 Bc4 Ng4 O-O Nxf2 Rxf2 Bxf2+ Kxf2 Be6 Bxe6 fxe6 b3 Rf8+ Kg1 Ke7 Bb2 Rad8 Rd1 Rxd1+ Nxd1 Rd8 Ne3 Rd2 Bxe5 Re2 Bf4 Kf7 Kf1 Rd2 Ke1 Rd4 Bxc7 Rxe4 Ke2 Ke8 Bb8 a6 Ba7 Rh4 h3 h5 Kd3 g5 Bb8 g4 Bg3 gxh3 Bxh4 h2 Bf2 h1=Q                                                                                                                                                                                                                                                                                                                                                                                                                                      4\n",
       "g3 e5 e4 Nf6 Bg2 Bc5 a3 a5 Nc3 d6 h3 O-O b3 c6 Nf3 d5 Nxe5 Re8 Nd3 Bd4 Bb2 dxe4 Nf4 Bf5 f3 exf3+ Kf1 fxg2+ Kxg2 Bxc3 Bxc3 Be4+ Kh2 Bxh1 Kxh1 Ne4 Bb2 Nxg3+ Kg2 Qh4 Qf3 Nf5 Nh5 Qg5+ Kh2 Nh4 Qg4 Qxg4 hxg4 f6 Kg3 Ng6 Rf1 Nd7 Nxf6+ Nxf6 Bxf6 gxf6 Rxf6 Re2 Rd6 Rf8 Rd7 Rf7 Rd8+ Kg7 Rd6 Ree7 g5 Rd7 Re6 Rfe7 Rf6 Rxd2 Kg4 Rxc2 Kf5 Rf2+ Kg4 Rxf6 gxf6+ Kxf6 a4 Re3 Kh5 Rxb3 Kh6 Nf8 Kh5 Rb4 Kh6 Rxa4 Kh5 Rb4 Kh6 a4                                                                                                                                                                                                                                                                                                       4\n",
       "                                                                                                                                                                                                                                                                                                                                                                                                                                                                                                                                                                                                                                                                                                                         ..\n",
       "e4 e6 d4 d5 e5 Nc6 c3 g6 Nf3 Be7 Bb5 Bd7 O-O f5 exf6 Bxf6 Re1 Nce7 c4 Bxb5 cxb5 Qd6 Qa4 Qb6 Bg5 O-O-O Bxf6 Nxf6 Ne5 Rdf8 Nd2 Nd7 Nxd7 Kxd7 Nb3 Rf6 Nc5+ Kc8 Qb3 Rhf8 f3 Nf5 Rad1 Nxd4 Qa4 Rf4 Rxd4 Qxc5 Rd1 e5 Qb4 Qxb4 Rxb4 Rxb4 Rxd5 Re8                                                                                                                                                                                                                                                                                                                                                                                                                                                                                1\n",
       "d4 Nf6 Nf3 g6 c4 Bg7 Nc3 O-O e4 d6 Be2 e5 O-O c6 h3 Nbd7 Be3 Nh5 Qd2 f5 Bh6 Bxh6 Qxh6 exd4 Nxd4 Qe8 exf5 Ng3 fxg3 Qe3+ Qxe3 Nc5 fxg6 hxg6 Rxf8+ Kxf8 Rf1+ Kg7 Qe7+ Kh6 Rf7                                                                                                                                                                                                                                                                                                                                                                                                                                                                                                                                                1\n",
       "e4 e5 Nf3 Qf6 Nc3 Qh6 Nxe5 Nf6 d4 Qh5 Nf3 Nc6 Be2 Qa5 Bf4 Nxe4 Ne5 Be7 Qd3 f5 O-O d6 Nxc6 bxc6 Nxe4 fxe4 Qxe4 d5 Qe5 O-O Qxe7 Qd2 Bxd2                                                                                                                                                                                                                                                                                                                                                                                                                                                                                                                                                                                    1\n",
       "Nf3 Nc6 g3 Nf6 Bg2 d5 d4 Bf5 O-O e6 Nc3 Ng4 Bf4 Bd6 Bg5 Be7 Bf4 O-O Nb5 Nb4 c3 Nc2 Rc1 c6 Rxc2 Bxc2 Qxc2 Qa5 b4 Qxb5 Ne5 Nxe5 Bxe5 f6 Bf4 a5 e4 axb4 e5 f5 cxb4 Qxb4 Rc1 Qxd4 Be3 Qxe5 Bf4 Qd4 Rd1 Qb6 Be3 Qa6 Bd4 f4 Qb2 fxg3 fxg3 c5 Bxg7 Rf7 Bh6 Qxa2 Qxb7 c4 Bxd5 exd5 Qxd5 Qa7+ Kg2 Qf2+ Kh3 Qf5+ Qxf5 Rxf5 Rd7 Re8 Rd4 Rh5+ Kg4 Rxh6 Rxc4 Bd6 Kf3 Rf8+ Ke3 Re6+ Kd3 Rf3+ Kd4 Rfe3 Rc8+ Kg7 Ra8 Bc5+ Kxc5 R3e5+ Kc4 Rd6 Ra7+ Kg6 h4 Re4+ Kc5 Red4 Ra8 R4d5+ Kc4 Rd4+ Kc5 Rd7 Rg8+ Kf7 Rh8 Rd1 Rxh7+ Ke8 Rh8+ Kf7 Rh7+ Ke6 Rh6+ Ke7 Rh7+ Kd8 Rh8+ Kc7 Ra8 Rc1+ Kb4                                                                                                                                                    1\n",
       "e4 e5 Nf3 Nc6 Bb5 a6 Bxc6 dxc6 O-O Be6 Nc3 Qd6 d4 exd4 Qxd4 Qxd4 Nxd4 Bc8 Bf4 Bc5 Rfd1 Bg4 Rd2 O-O-O f3 Bxd4+ Rxd4 Rxd4 fxg4 Nf6 Re1 Nxg4 h3 Nf6 Be5 Rd2 Bxf6 gxf6 Re2 Rhd8 Kf1 h5 Ke1 R2d4 a4 h4 b3 Rg8 Kf2 Rg3 Na2 Rd1 Nb4 a5 Nd3 b6 Nf4 Kb7 Nh5 Rg6 Nf4 Rg8 Nh5 Rd6 c3 c5 Nf4 Rd1 Nd5 f5 exf5 Rxd5                                                                                                                                                                                                                                                                                                                                                                                                                     1\n",
       "e4 e5 Nf3 Nf6 Nc3 Nc6 Bc4 Bc5 O-O h6 a3 O-O b4 Bd4 Bb2 Bxc3 Bxc3 Nxe4 Bxe5 d5 Bb3 a5 d3 Ng5 h3 Nxf3+ Qxf3 Nxe5 Qxd5 Qxd5 Bxd5 Rd8 Bb3 axb4 axb4 Rxa1 Rxa1 Nc6 b5 Nd4 Bc4 Nxc2 Rc1 Nd4 Kf1 b6 Ra1 Bd7 Ra7 Nxb5 Bxb5 Bxb5 Rxc7 Kf8 Rb7 Bxd3+ Ke1 b5                                                                                                                                                                                                                                                                                                                                                                                                                                                                         1\n",
       "e4 e5 Nf3 d6 h3 Nc6 a3 Nf6 d3 d5 exd5 Nxd5 Be2 Bd6 O-O O-O c4 Nf6 b4 Nd4 c5 Nxf3+ Bxf3 Be7 Qe2 Bf5 Rd1 Nd5 Bxd5 Qxd5 Nc3 Qd4 Bb2 Rad8 Ne4 Qd5 Ng3 Bxd3 Qg4 Qc4 Bxe5 Qxg4 hxg4 c6 f4 f6 Bb2 Bc2 Re1 Rfe8 f5 g6 Rac1 Bb3 fxg6 hxg6 Ne2 f5 gxf5 gxf5 Nd4 Ba4 Nxf5 Bg5 Rxe8+ Rxe8 Ra1 Re5 Bxe5                                                                                                                                                                                                                                                                                                                                                                                                                                1\n",
       "d4 Nf6 d5 g6 c4 Bg7 f3 O-O e4 d6 Nc3 Re8 f4 c6 e5 dxe5 fxe5 Nh5 Be2 Bxe5 Bxh5 gxh5 Qxh5 Qd6 Ne4 Qb4+ Nd2 Bxb2 Rb1 cxd5 Rxb2 Qc3 Qg4+ Bxg4 cxd5 Qxc1+ Kf2 Qxb2 Ke3 e6 h3 exd5+ Kd3 Bf5+ Ne4 Bxe4+ Ke3 Qc1+ Kf2 Bd3 Kg3 Qg5+ Kh2 Re2 Nxe2 Bxe2 g4 Qf4+ Kg2 Nc6 a4 Re8 a5 Ba6 Rf1 Re2+ Kg1 Qh2#                                                                                                                                                                                                                                                                                                                                                                                                                              1\n",
       "e4 a6 Qf3 e5 Bc4 f6 Ne2 Nc6 Qe3 d6 d4 exd4 Nxd4 Nxd4 Qxd4 Bd7 Qd5 Bc6 Qf7#                                                                                                                                                                                                                                                                                                                                                                                                                                                                                                                                                                                                                                                1\n",
       "e4 e6 e5 d6 exd6 Bxd6 Nh3 Nc6 c3 e5 Qf3 Nf6 d3 Bg4 Qg3 e4 Qe3 O-O dxe4 Bf4 Qxf4 Qd1#                                                                                                                                                                                                                                                                                                                                                                                                                                                                                                                                                                                                                                      1\n",
       "e4 c5 Nf3 Nc6 d4 cxd4 Nxd4 g6 Nxc6 bxc6 Nc3 Bg7 Bd2 d6 Bd3 Nf6 O-O O-O Be3 Be6 b3 Qc7 Rb1 d5 Qd2 Rfd8 Bf4 Qb7 e5 Nh5 Rfe1 d4 Na4 Bd5 Nc5 Qc8 Be4 Qg4 Bxd5 Rxd5 Nd3 Nxf4 Qxf4 Qxf4 Nxf4 Rxe5 Rxe5 Bxe5 Nd3 Bd6 Re1 e6 g3 Kg7 Ne5 Bxe5 Rxe5 Rd8 Rc5 Rd6 h4 h5 Kf1 Kf6 Ke2 e5 Kd3 Kf5 f3 f6 Ra5 Rd7 Ra6 Rc7 a4 g5 hxg5 fxg5 Ke2 h4 gxh4 gxh4 Kf2 Kf4 Ra5 c5 Ra6 Kg5 Re6 Kf4 Rh6 e4                                                                                                                                                                                                                                                                                                                                           1\n",
       "c4 e5 Nc3 Nc6 d3 Bb4 Bd2 Nf6 g3 d5 cxd5 Bxc3 Bxc3 Nxd5 Bg2 Be6 Nf3 Qd6 O-O O-O-O Nd2 f5 Nc4 Qe7 Nxe5 Nxc3 Nxc6 bxc6 bxc3 Qd7 Qa4 Bd5 Qxa7 Qe6 c4 Bxg2 Kxg2 Qxe2 Rad1 Rxd3 Rxd3 Qxd3 Qa8+ Kd7 Qxh8 Qe4+ Kg1 Qxc4 Rd1+ Ke6 Re1+ Kf6 Qf8+ Kg6 Qe8+ Kf6 Qe7+ Kg6 Qe6+ Kh5 Qxc4                                                                                                                                                                                                                                                                                                                                                                                                                                                1\n",
       "e4 e5 Nc3 Nf6 Bc4 Nc6 Nf3 Nxe4 O-O Nxc3 dxc3 d6 Ng5 Be6 Bxe6 fxe6 Nxe6 Qd7 Qg4 Nd8 Qh5+ g6 Nxf8 Rxf8 Qh6 Ne6 g3 O-O-O f4 exf4 Bxf4 Nxf4 Rxf4 Rxf4 Qxf4 Qc6 Qg4+ Kb8 b4 Qxc3 Rf1 Qxc2 Rf7 Re8 Qd7 Re1+ Rf1 Rxf1+ Kxf1 Qb1+ Kg2 Qxa2+ Kh3 Qg8 b5 Qc8 Qxc8+ Kxc8 Kg4 a6 bxa6 bxa6 Kf3 a5 Ke2 a4 Kd1 d5 Kc1 d4 Kc2 c5 h4 a3 Kb1 d3 g4 d2 Kc2 a2 Kxd2 a1=Q Kd3 Qd4+ Kc2 Qxg4                                                                                                                                                                                                                                                                                                                                                   1\n",
       "e4 d5 Nc3 e6 d3 Bb4 Bd2 Bxc3 Bxc3 Nc6 Bxg7 Nd4 Nf3 Nxf3+ Qxf3 Ne7 Bxh8 Bd7 O-O-O Bc6 c4 Qd6 exd5 exd5 cxd5 Bxd5 Qf6 Qc6+ Qxc6+ Nxc6 d4 O-O-O g3 Rxh8 Bh3+ Be6 Bxe6+ fxe6 d5 exd5 Rxd5 a6 h4 Rf8 f4 Ne7 Re5 Nc6 Rh5 Rh8 g4 Nb4 Kb1 Nd3 Rf1 c5 f5 Ne5 f6 Nxg4 f7 Nh2 f8=Q+ Rxf8 Rxf8+ Kc7 Rxh7+ Kb6 Rf6+ Kb5 Rxb7+ Kc4 b3+ Kc3 h5 Ng4 Rf3+ Kd2 Rd7+ Ke2 Rfd3 Ne5 Rd2+ Ke3 Rc2 Nxd7 h6 Nf8 Rc3+ Kd4 Kb2 a5 Kc2 a4 bxa4 c4 a5 Ng6 a6 Nf4 a7 Ne2 a8=Q Nxc3 h7 Nxa2 h8=Q+ Ke3 Qxa2 c3 Qa3 Ke2 Qh2+ Ke3 Qxc3+ Ke4 Qh4+ Kd5 Qa5+ Kd6 Qh6+ Ke7 Qa7+ Kd8 Qh8#                                                                                                                                                                       1\n",
       "d4 d5 c4 c6 Nf3 Nf6 Nc3 e6 e3 Nbd7 a3 Bd6 Bd3 Qe7 e4 dxe4 Nxe4 Nxe4 Bxe4 h6 O-O O-O Re1 f5 Bc2 Qf6 c5 Bc7 Rxe6 Qxe6 Bb3 Qxb3 Qxb3+ Kh7 Bd2 Nf6 Ne5 Ne4 Bf4 g5 Nd7 Bxd7 Bxc7 Rac8 Be5 Kg6 f3 Nf6 Qxb7 Rf7 Bxf6 Kxf6 d5 cxd5 Qxd5 Be6 Qd4+ Kg6 Re1 Bb3 Qd3 Rb7 Qa6+                                                                                                                                                                                                                                                                                                                                                                                                                                                         1\n",
       "e4 e5 Bc4 Nh6 d4 d6 Nf3 Bg4 h3 Bxf3 gxf3 Nc6 Bxh6 gxh6 dxe5 dxe5 Qxd8+ Nxd8 Bd5 c6 Bc4 Bc5 Nc3 Bb4 O-O-O Bxc3 bxc3 b5 Be2 Nb7 Rhg1 Na5 f4 f6 Bh5+ Ke7 fxe5 fxe5 Rg7+ Ke6 Rc7 Rhg8 Bf7+ Kf6 Bxg8 Rxg8 h4 Rg4 Rd6#                                                                                                                                                                                                                                                                                                                                                                                                                                                                                                          1\n",
       "e4 c5 Nf3 Nc6 c3 e5 d4 cxd4 cxd4 exd4 Nxd4 Nxd4 Qxd4 Qa5+ Bd2 Qc5 Qxc5 Bxc5 Nc3 Nf6 h3 d6 Bb5+ Bd7 Bxd7+ Kxd7 O-O-O a6 e5 dxe5 Bg5+ Ke6 Rhe1 Bxf2 Re2 Bb6 Na4 Rac8+ Kb1 Rc6 Bf4 Bc7 Nc3 Nd7 g4 f6 Nd5 g5 Bc1 h5 Nxc7+ Rxc7 Red2 hxg4 Rd6+ Ke7 hxg4 Rhc8 Be3 Nb8 Rb6 Nd7 Rbd6 Rd8 Bb6 Nxb6 Rxd8 Rd7 R8xd7+ Nxd7 Kc2 Ke6 b4 Nb6 Kc3 Nd5+ Kc4 Ne3+ Kc5 Nxd1 Kb6 e4 Kxb7 e3 Kxa6 e2 b5 e1=Q b6 Qe2+ Ka7 Qxa2+                                                                                                                                                                                                                                                                                                                 1\n",
       "e4 d5 exd5 Qxd5 Nc3 Qa5 d4 Nf6 Bd2 e6 Bc4 Bb4 a3 Bd6 Nd5 c6 Bxa5 cxd5 Bb5+ Bd7 Qd3 g5 Bxd7+ Kxd7 Qb5+ Nc6 Qxb7+ Bc7 Qxc7+                                                                                                                                                                                                                                                                                                                                                                                                                                                                                                                                                                                                 1\n",
       "d4 f5 c4 g6 Nc3 Bg7 e4 d6 Nf3 Nf6 e5 dxe5 dxe5 Qxd1+ Kxd1 Nfd7 Bf4 e6 Kc2 Nc6 Nb5 O-O Nxc7 Ndxe5 Nxa8 Nxf3 gxf3 e5 Bg3 Nd4+ Kd3 Rd8 Nc7 Ne6+ Nd5 Nc5+ Kc2 f4 Bh4 Bf5+ Kd2 Rxd5+ cxd5 e4 fxe4 Nxe4+ Ke2 g5 Bxg5 Nxg5 Rg1 h6 Rd1 Ne4 d6 Bd7 f3 Ng5 Rc1 Bb5+ Kf2 Bd4+ Kg2 Bxg1 Bxb5 Bb6 Rc8+ Kf7 d7 Ke7 Re8+ Kf7 d8=Q Bxd8 Rxd8                                                                                                                                                                                                                                                                                                                                                                                              1\n",
       "e4 c5 Nc3 Nc6 Bb5 g6 Bxc6 bxc6 f4 Bg7 Nf3 e6 d3 Nf6 Be3 d6 e5 Nd5 Nxd5 exd5 c3 Bg4 O-O dxe5 fxe5 Bxe5 Bxc5 d4 Qe1 f6 cxd4 Bxf3 Rxf3 Qd5 Qe3 Kd7 dxe5 Rhe8 Rxf6 Rxe5 Qd4 Rae8 Rd6+                                                                                                                                                                                                                                                                                                                                                                                                                                                                                                                                         1\n",
       "e4 c6 d4 e6 d5 cxd5 exd5 Nf6 dxe6 fxe6 Nf3 d5 Be2 Bc5 c4 O-O Bg5 Qa5+ Nc3 d4 Nxd4 Ne4 Nb3 Bxf2+ Kf1 Qxg5 Nxe4 Bc5+ Ke1 Qh4+ g3 Qxe4 Qd3 Qxh1+ Kd2 Qc6 a3 Be7 Nd4 Bg5+ Kc3 Qa4 b3 Qa5+ b4 Qe5 Kb3 Qe3 Rd1 Qxd3+ Rxd3 e5 Nf3 e4 Nxg5 exd3 Bxd3 Bf5 Bxf5 Rxf5 Ne6 Nc6 Nc7 Rd8 Ne6 Rd3+ Ka4 Rf6 Nc5 Rd2 Nxb7 Rxh2 Nc5 h5 Nd7 Rf3 b5 Nd4 Ne5 Rxg3 Nc6 h4 Nxd4 Rd2 Nf5 Rg4 Ne7+ Kf7 Nd5 Rxc4+ Kb3 Rxd5 Kxc4 Rd8 Kc5 h3                                                                                                                                                                                                                                                                                                          1\n",
       "e4 c5 Nf3 d6 Nc3 a6 Bc4 e6 a3 Nf6 d3 Nc6 Be3 Qc7 O-O b5 Ba2 g6 Bg5 Bg7 Re1 Nd7 Bf4 O-O Rb1 e5 Bg5 b4 Nd5 Qb8 h3 Kh8 Qd2 f5 Bh6 f4 Bxg7+ Kxg7 Ng5 Nf6 Nxf6 Rxf6 Nf3 h6 Bd5 Qc7 Rec1 Rb8 Rf1 Ne7 Ba2 g5 Nh2 h5 Qd1 Kh6 f3 a5 Qe2 Bd7 Rfc1 Ng6 Rd1 Re8 Nf1 Re7 Nd2 Rg7 Nc4 Qc8 Kh2 Qc7 Kg1 Nh4 Kf1 Be6 Ra1 Bd7 Rdc1 g4 Qf2 Ng6 hxg4 hxg4 Ke2 gxf3+ gxf3 Nh4 Qxh4+                                                                                                                                                                                                                                                                                                                                                            1\n",
       "e4 c6 d4 d5 Bd3 dxe4 Bxe4 Nf6 Bf3 Bf5 Ne2 e6 O-O Bd6 Nbc3 h6 Bf4 O-O Bxd6 Qxd6 Qd2 Nbd7 Nf4 Nb6 Nce2 e5 Nd3 e4 Qf4 Qxf4 Ndxf4 exf3 gxf3 Bxc2 Rac1 Ba4 b3 Bb5 Rfe1 Nbd5 Nxd5 Nxd5 Nc3 Rae8 Rxe8 Rxe8 Ne4 Nf4 Nd6 Ne2+ Kf1 Nxc1+ Kg2 Re1                                                                                                                                                                                                                                                                                                                                                                                                                                                                                    1\n",
       "d4 c5 c3 Nc6 e3 e6 c4 d5 Nc3 Nf6 Bd3 Bd6 b3 O-O Rb1 cxd4 exd4 Nxd4 Nf3 Nxf3+ Qxf3 h6 Ne2 b6 O-O Bb7 Bc2 Rc8 Qd3 Qc7 Bb2 dxc4 bxc4 Qxc4 Qxd6 Qc6 Qxc6 Rxc6 Nd4 Rc5 Ba3 Rg5 g3 Rd8 Rbd1 Nd5 Nf3 Rg4 h3 Rc4 Be7 Rd7 Ne5 Rxe7 Nxc4                                                                                                                                                                                                                                                                                                                                                                                                                                                                                            1\n",
       "e4 e5 Nf3 Nc6 Bb5 a6 Ba4 b5 Bb3 Bc5 O-O Nf6 h3 h6 c3 O-O Nxe5 Nxe5 d4 Bxd4 Qxd4 Nc6 Qd3 Re8 Bd5 Ne5 Qc2 c6 Bb3 c5 a4 c4 Ba2 bxa4 b3 cxb3 Bxb3 axb3 Qxb3 d5 exd5 Qxd5 Qxd5 Nxd5 Ra5 Nf6 Nd2 Bd7 Ba3 Bb5 c4 Nxc4 Nxc4 Bxc4 Rd1 Bb5 Bc5 Re4 Rda1 Rae8 Kh2 Re1 R1a3 Rc8 Be3 Nd5 Ra2 Nxe3 fxe3 Rxe3 Rf2 f6 Ra1 Re5 Rd2 Rcc5 Ra3 Re2 Rd8+ Kh7 Rg3 Rcc2 Rb8 Bc6 Rb6 Rxg2+ Rxg2 Rxg2+ Kh1 Rb2+ Kg1 Rxb6                                                                                                                                                                                                                                                                                                                           1\n",
       "e4 e6 Qf3 c5 Bc4 Nc6 c3 b6 Ne2 Bb7 d4 d5 exd5 exd5 Bxd5 cxd4 Qxf7#                                                                                                                                                                                                                                                                                                                                                                                                                                                                                                                                                                                                                                                        1\n",
       "e4 d6 Nc3 e6 b3 h6 Bb2 a6 f4 b5 b4 c6 Qf3 Bb7 O-O-O Be7 e5 d5 Nh3 g5 fxg5 Bxg5 Nxg5 hxg5 Bd3 Rh4 Rhf1 Qe7 Rf2 d4 Ne4 Nd7 Rdf1 Nxe5 Qe2 O-O-O Nxg5 Qxg5 g3 Nxd3+ Qxd3 Rg4 Rxf7 Ne7 Rf8 Nf5 Rxd8+ Kxd8 Qxd4+ Nxd4                                                                                                                                                                                                                                                                                                                                                                                                                                                                                                           1\n",
       "e4 c5 Nf3 g6 Bc4 Bg7 a3 Nf6 d3 O-O Be3 b6 h3 Nc6 c3 d5 Ba2 dxe4 Ng5 exd3 Bxf7+ Rxf7 Nxf7 Kxf7 Qb3+ Be6 c4 Na5 Qb5 Bxc4                                                                                                                                                                                                                                                                                                                                                                                                                                                                                                                                                                                                    1\n",
       "d4 d5 Bg5 Nc6 e3 h6 Bh4 Bf5 c3 Qd7 Bb5 a6 Ba4 e6 Nd2 Bd6 Bg3 Bxg3 hxg3 Nf6 f3 b5 Bc2 Bxc2 Qxc2 Na5 Ne2 Nc4 Nxc4 dxc4 b3 cxb3 Qxb3 Qd5 Qxd5 Nxd5 Kd2 Kd7 e4 Nb6 Rh5 Nc4+ Kd3 g6 Rc5 Kd6 e5+ Kd7 f4 c6 Nc1 g5 Nb3 Rhg8 Rh1 Rg6 fxg5 Rxg5 Rh3 h5 Nd2 Nb2+ Kc2 Na4 Ne4 Rg4 Nf6+ Kc7 Rxc6+ Kxc6 Nxg4 hxg4 Rh7 Rf8 Rg7 Kd5 Rxg4 Kc4 Rf4 Nb6 g4 Nd5 Rf3 b4 cxb4 Nxb4+ Kb2 Kxd4 Rf4+ Kc5 Kb3 Nd3 Ra4 Rb8+ Kc3 Nxe5 Rxa6 Nxg4 Ra5+ Kd6 Rg5 Nf6 Rg7 Ke7 a4 Nd5+ Kc4 Rb4+ Kc5 Rxa4 g4 Ra5+ Kd4 Nf6 g5 Nh5 Rh7 Rxg5 Ke3 Nf6 Rh6 Ng4+ Kf4 Nxh6 Kxg5 Ng8 Kf4 Kf6 Ke4 Nh6 Kf3 Kf5 Ke3 Ng4+ Kf3 e5 Kg3 e4 Kg2 Kf4 Kf1 f5 Ke2 Kg3 Kf1 f4 Ke2 f3+ Kf1 f2 Ke2 e3 Kf1 Nh2+ Ke2 Kf4 Kd1 f1=Q+ Kc2 e2 Kd2 e1=Q+ Kc2 Qc4+ Kb2 Qeb4+ Ka1 Qa6#     1\n",
       "e4 e5 Nf3 Nc6 Bc4 Bc5 b4 Bxb4 c3 Bc5 O-O Nf6 Re1 Ng4 Re2 O-O h3 Nxf2 Rxf2 Bxf2+ Kxf2 d6 d4 exd4 Nxd4 Nxd4 Qxd4 Qh4+ Kf3 Qh5+ Kf2 Qh4+ Kf1 a6 Nd2 Qf4+ Nf3 Qg3 e5 dxe5 Nxe5 Be6 Bf4 Bxc4+ Qxc4 Qh4 Nf3 Qf6 Be5 Qb6 Qg4 f6 Qc4+ Kh8 Bxc7 Rac8 Bxb6 Rxc4 Rc1 Rfc8 Bd4 Ra4 Rc2 b5 Nd2 b4 Nb1 bxc3 Nxc3 Rxd4 Ke2 Rdd8                                                                                                                                                                                                                                                                                                                                                                                                          1\n",
       "Name: moves, Length: 18920, dtype: int64"
      ]
     },
     "execution_count": 11,
     "metadata": {},
     "output_type": "execute_result"
    }
   ],
   "source": [
    "df.moves.value_counts()"
   ]
  },
  {
   "cell_type": "code",
   "execution_count": 12,
   "metadata": {},
   "outputs": [],
   "source": [
    "def first_capture(moves):\n",
    "    if not 'x' in moves:\n",
    "        return 'no'\n",
    "    moves = moves.split()\n",
    "    i = 0\n",
    "    while not 'x' in moves[i]:\n",
    "        i += 1\n",
    "    if i % 2 == 0:\n",
    "        return 'white'\n",
    "    return 'black'    "
   ]
  },
  {
   "cell_type": "code",
   "execution_count": 13,
   "metadata": {},
   "outputs": [],
   "source": [
    "def first_n_captures(moves, n):\n",
    "    white = 0\n",
    "    black = 0\n",
    "    if not 'x' in moves:\n",
    "        return 'no'\n",
    "    moves = moves.split()\n",
    "    for i in range(len(moves)):\n",
    "        if i % 2 == 0 and 'x' in moves[i]:\n",
    "            white += 1\n",
    "            if white >= n:\n",
    "                return 'white'\n",
    "        if i % 2 == 1 and 'x' in moves[i]:\n",
    "            black += 1\n",
    "            if black >= n:\n",
    "                return 'black'\n",
    "    if white > black:\n",
    "        return 'white'\n",
    "    elif black > white:\n",
    "        return 'black'\n",
    "    return 'black'"
   ]
  },
  {
   "cell_type": "code",
   "execution_count": 14,
   "metadata": {},
   "outputs": [],
   "source": [
    "def first_castle(moves):\n",
    "    if not ('O-O' or 'O-O-O') in moves:\n",
    "        return 'no'\n",
    "    moves = moves.split()\n",
    "    i = 0\n",
    "    while not ('O-O' or 'O-O-O') in moves[i]:\n",
    "        i += 1\n",
    "    if i % 2 == 0:\n",
    "        return 'white'\n",
    "    return 'black'\n",
    "#    for i in range(len(moves)):\n",
    "#        if i % 2 == 0 and ('O-O' or 'O-O-O') in moves[i]:\n",
    "#            return white\n",
    "#        if i % 2 == 1 and ('O-O' or 'O-O-O') in moves[i]:\n",
    "#            return black"
   ]
  },
  {
   "cell_type": "code",
   "execution_count": 15,
   "metadata": {},
   "outputs": [
    {
     "data": {
      "text/plain": [
       "'d4 d5 e4 dxe4 Nc3 Nf6 f3 exf3 Nxf3 Nc6 Bb5 a6 Bd3 Bg4 O-O Nxd4 Be2 Nxe2+ Qxe2 Bxf3 Qxf3 Qd4+ Be3 Qg4 Qxb7 Rd8 Qc6+ Nd7 Nd5 e6 Nxc7+ Ke7 Bd2'"
      ]
     },
     "execution_count": 15,
     "metadata": {},
     "output_type": "execute_result"
    }
   ],
   "source": [
    "df.moves[6]"
   ]
  },
  {
   "cell_type": "code",
   "execution_count": 16,
   "metadata": {},
   "outputs": [
    {
     "data": {
      "text/plain": [
       "'black'"
      ]
     },
     "execution_count": 16,
     "metadata": {},
     "output_type": "execute_result"
    }
   ],
   "source": [
    "first_castle(df.moves[4])"
   ]
  },
  {
   "cell_type": "code",
   "execution_count": 17,
   "metadata": {},
   "outputs": [
    {
     "data": {
      "text/html": [
       "<div>\n",
       "<style scoped>\n",
       "    .dataframe tbody tr th:only-of-type {\n",
       "        vertical-align: middle;\n",
       "    }\n",
       "\n",
       "    .dataframe tbody tr th {\n",
       "        vertical-align: top;\n",
       "    }\n",
       "\n",
       "    .dataframe thead th {\n",
       "        text-align: right;\n",
       "    }\n",
       "</style>\n",
       "<table border=\"1\" class=\"dataframe\">\n",
       "  <thead>\n",
       "    <tr style=\"text-align: right;\">\n",
       "      <th></th>\n",
       "      <th>id</th>\n",
       "      <th>rated</th>\n",
       "      <th>created_at</th>\n",
       "      <th>last_move_at</th>\n",
       "      <th>turns</th>\n",
       "      <th>victory_status</th>\n",
       "      <th>winner</th>\n",
       "      <th>increment_code</th>\n",
       "      <th>white_id</th>\n",
       "      <th>white_rating</th>\n",
       "      <th>black_id</th>\n",
       "      <th>black_rating</th>\n",
       "      <th>moves</th>\n",
       "      <th>opening_eco</th>\n",
       "      <th>opening_name</th>\n",
       "      <th>opening_ply</th>\n",
       "      <th>rating_difference</th>\n",
       "      <th>minutes</th>\n",
       "      <th>increment_secs</th>\n",
       "    </tr>\n",
       "  </thead>\n",
       "  <tbody>\n",
       "    <tr>\n",
       "      <th>0</th>\n",
       "      <td>TZJHLljE</td>\n",
       "      <td>False</td>\n",
       "      <td>1.504210e+12</td>\n",
       "      <td>1.504210e+12</td>\n",
       "      <td>13</td>\n",
       "      <td>outoftime</td>\n",
       "      <td>white</td>\n",
       "      <td>15+2</td>\n",
       "      <td>bourgris</td>\n",
       "      <td>1500</td>\n",
       "      <td>a-00</td>\n",
       "      <td>1191</td>\n",
       "      <td>d4 d5 c4 c6 cxd5 e6 dxe6 fxe6 Nf3 Bb4+ Nc3 Ba5...</td>\n",
       "      <td>D10</td>\n",
       "      <td>Slav Defense: Exchange Variation</td>\n",
       "      <td>5</td>\n",
       "      <td>309</td>\n",
       "      <td>15</td>\n",
       "      <td>2</td>\n",
       "    </tr>\n",
       "    <tr>\n",
       "      <th>1</th>\n",
       "      <td>l1NXvwaE</td>\n",
       "      <td>True</td>\n",
       "      <td>1.504130e+12</td>\n",
       "      <td>1.504130e+12</td>\n",
       "      <td>16</td>\n",
       "      <td>resign</td>\n",
       "      <td>black</td>\n",
       "      <td>5+10</td>\n",
       "      <td>a-00</td>\n",
       "      <td>1322</td>\n",
       "      <td>skinnerua</td>\n",
       "      <td>1261</td>\n",
       "      <td>d4 Nc6 e4 e5 f4 f6 dxe5 fxe5 fxe5 Nxe5 Qd4 Nc6...</td>\n",
       "      <td>B00</td>\n",
       "      <td>Nimzowitsch Defense: Kennedy Variation</td>\n",
       "      <td>4</td>\n",
       "      <td>61</td>\n",
       "      <td>5</td>\n",
       "      <td>10</td>\n",
       "    </tr>\n",
       "    <tr>\n",
       "      <th>2</th>\n",
       "      <td>mIICvQHh</td>\n",
       "      <td>True</td>\n",
       "      <td>1.504130e+12</td>\n",
       "      <td>1.504130e+12</td>\n",
       "      <td>61</td>\n",
       "      <td>mate</td>\n",
       "      <td>white</td>\n",
       "      <td>5+10</td>\n",
       "      <td>ischia</td>\n",
       "      <td>1496</td>\n",
       "      <td>a-00</td>\n",
       "      <td>1500</td>\n",
       "      <td>e4 e5 d3 d6 Be3 c6 Be2 b5 Nd2 a5 a4 c5 axb5 Nc...</td>\n",
       "      <td>C20</td>\n",
       "      <td>King's Pawn Game: Leonardis Variation</td>\n",
       "      <td>3</td>\n",
       "      <td>-4</td>\n",
       "      <td>5</td>\n",
       "      <td>10</td>\n",
       "    </tr>\n",
       "  </tbody>\n",
       "</table>\n",
       "</div>"
      ],
      "text/plain": [
       "         id  rated    created_at  last_move_at  turns victory_status winner  \\\n",
       "0  TZJHLljE  False  1.504210e+12  1.504210e+12     13      outoftime  white   \n",
       "1  l1NXvwaE   True  1.504130e+12  1.504130e+12     16         resign  black   \n",
       "2  mIICvQHh   True  1.504130e+12  1.504130e+12     61           mate  white   \n",
       "\n",
       "  increment_code  white_id  white_rating   black_id  black_rating  \\\n",
       "0           15+2  bourgris          1500       a-00          1191   \n",
       "1           5+10      a-00          1322  skinnerua          1261   \n",
       "2           5+10    ischia          1496       a-00          1500   \n",
       "\n",
       "                                               moves opening_eco  \\\n",
       "0  d4 d5 c4 c6 cxd5 e6 dxe6 fxe6 Nf3 Bb4+ Nc3 Ba5...         D10   \n",
       "1  d4 Nc6 e4 e5 f4 f6 dxe5 fxe5 fxe5 Nxe5 Qd4 Nc6...         B00   \n",
       "2  e4 e5 d3 d6 Be3 c6 Be2 b5 Nd2 a5 a4 c5 axb5 Nc...         C20   \n",
       "\n",
       "                             opening_name  opening_ply  rating_difference  \\\n",
       "0        Slav Defense: Exchange Variation            5                309   \n",
       "1  Nimzowitsch Defense: Kennedy Variation            4                 61   \n",
       "2   King's Pawn Game: Leonardis Variation            3                 -4   \n",
       "\n",
       "  minutes increment_secs  \n",
       "0      15              2  \n",
       "1       5             10  \n",
       "2       5             10  "
      ]
     },
     "execution_count": 17,
     "metadata": {},
     "output_type": "execute_result"
    }
   ],
   "source": [
    "# Splitting time into minutes and increment_seconds:\n",
    "df['minutes'] = df['increment_code'].apply(lambda x: x.split('+')[0])\n",
    "\n",
    "df['increment_secs'] = df['increment_code'].apply(lambda x: x.split('+')[1])\n",
    "df.head(3)"
   ]
  },
  {
   "cell_type": "code",
   "execution_count": 18,
   "metadata": {},
   "outputs": [
    {
     "data": {
      "text/plain": [
       "resign       11147\n",
       "mate          6325\n",
       "outoftime     1680\n",
       "draw           906\n",
       "Name: victory_status, dtype: int64"
      ]
     },
     "execution_count": 18,
     "metadata": {},
     "output_type": "execute_result"
    }
   ],
   "source": [
    "df.victory_status.value_counts()"
   ]
  },
  {
   "cell_type": "code",
   "execution_count": 19,
   "metadata": {},
   "outputs": [
    {
     "data": {
      "image/png": "[encoded data removed]",
      "text/plain": [
       "<Figure size 432x288 with 1 Axes>"
      ]
     },
     "metadata": {
      "needs_background": "light"
     },
     "output_type": "display_data"
    }
   ],
   "source": [
    "g = sns.boxplot(x = 'victory_status', y = 'turns', data = df)"
   ]
  },
  {
   "cell_type": "code",
   "execution_count": 20,
   "metadata": {},
   "outputs": [
    {
     "name": "stdout",
     "output_type": "stream",
     "text": [
      "white    10001\n",
      "black     9107\n",
      "draw       950\n",
      "Name: winner, dtype: int64\n",
      "\n",
      "1    16155\n",
      "0     3903\n",
      "Name: rated, dtype: int64\n"
     ]
    }
   ],
   "source": [
    "#df.winner.replace({'black': 0, 'white': 1}, inplace=True)\n",
    "df.rated.replace({False: 0, True: 1}, inplace=True)\n",
    "print(df.winner.value_counts())\n",
    "print('')\n",
    "print(df.rated.value_counts())"
   ]
  },
  {
   "cell_type": "code",
   "execution_count": 21,
   "metadata": {},
   "outputs": [
    {
     "data": {
      "text/html": [
       "<div>\n",
       "<style scoped>\n",
       "    .dataframe tbody tr th:only-of-type {\n",
       "        vertical-align: middle;\n",
       "    }\n",
       "\n",
       "    .dataframe tbody tr th {\n",
       "        vertical-align: top;\n",
       "    }\n",
       "\n",
       "    .dataframe thead th {\n",
       "        text-align: right;\n",
       "    }\n",
       "</style>\n",
       "<table border=\"1\" class=\"dataframe\">\n",
       "  <thead>\n",
       "    <tr style=\"text-align: right;\">\n",
       "      <th></th>\n",
       "      <th>id</th>\n",
       "      <th>rated</th>\n",
       "      <th>created_at</th>\n",
       "      <th>last_move_at</th>\n",
       "      <th>turns</th>\n",
       "      <th>victory_status</th>\n",
       "      <th>winner</th>\n",
       "      <th>increment_code</th>\n",
       "      <th>white_id</th>\n",
       "      <th>white_rating</th>\n",
       "      <th>black_id</th>\n",
       "      <th>black_rating</th>\n",
       "      <th>moves</th>\n",
       "      <th>opening_eco</th>\n",
       "      <th>opening_name</th>\n",
       "      <th>opening_ply</th>\n",
       "      <th>rating_difference</th>\n",
       "      <th>minutes</th>\n",
       "      <th>increment_secs</th>\n",
       "    </tr>\n",
       "  </thead>\n",
       "  <tbody>\n",
       "    <tr>\n",
       "      <th>0</th>\n",
       "      <td>TZJHLljE</td>\n",
       "      <td>0</td>\n",
       "      <td>1.504210e+12</td>\n",
       "      <td>1.504210e+12</td>\n",
       "      <td>13</td>\n",
       "      <td>outoftime</td>\n",
       "      <td>white</td>\n",
       "      <td>15+2</td>\n",
       "      <td>bourgris</td>\n",
       "      <td>1500</td>\n",
       "      <td>a-00</td>\n",
       "      <td>1191</td>\n",
       "      <td>d4 d5 c4 c6 cxd5 e6 dxe6 fxe6 Nf3 Bb4+ Nc3 Ba5...</td>\n",
       "      <td>D10</td>\n",
       "      <td>Slav Defense: Exchange Variation</td>\n",
       "      <td>5</td>\n",
       "      <td>309</td>\n",
       "      <td>15</td>\n",
       "      <td>2</td>\n",
       "    </tr>\n",
       "    <tr>\n",
       "      <th>1</th>\n",
       "      <td>l1NXvwaE</td>\n",
       "      <td>1</td>\n",
       "      <td>1.504130e+12</td>\n",
       "      <td>1.504130e+12</td>\n",
       "      <td>16</td>\n",
       "      <td>resign</td>\n",
       "      <td>black</td>\n",
       "      <td>5+10</td>\n",
       "      <td>a-00</td>\n",
       "      <td>1322</td>\n",
       "      <td>skinnerua</td>\n",
       "      <td>1261</td>\n",
       "      <td>d4 Nc6 e4 e5 f4 f6 dxe5 fxe5 fxe5 Nxe5 Qd4 Nc6...</td>\n",
       "      <td>B00</td>\n",
       "      <td>Nimzowitsch Defense: Kennedy Variation</td>\n",
       "      <td>4</td>\n",
       "      <td>61</td>\n",
       "      <td>5</td>\n",
       "      <td>10</td>\n",
       "    </tr>\n",
       "    <tr>\n",
       "      <th>2</th>\n",
       "      <td>mIICvQHh</td>\n",
       "      <td>1</td>\n",
       "      <td>1.504130e+12</td>\n",
       "      <td>1.504130e+12</td>\n",
       "      <td>61</td>\n",
       "      <td>mate</td>\n",
       "      <td>white</td>\n",
       "      <td>5+10</td>\n",
       "      <td>ischia</td>\n",
       "      <td>1496</td>\n",
       "      <td>a-00</td>\n",
       "      <td>1500</td>\n",
       "      <td>e4 e5 d3 d6 Be3 c6 Be2 b5 Nd2 a5 a4 c5 axb5 Nc...</td>\n",
       "      <td>C20</td>\n",
       "      <td>King's Pawn Game: Leonardis Variation</td>\n",
       "      <td>3</td>\n",
       "      <td>-4</td>\n",
       "      <td>5</td>\n",
       "      <td>10</td>\n",
       "    </tr>\n",
       "    <tr>\n",
       "      <th>3</th>\n",
       "      <td>kWKvrqYL</td>\n",
       "      <td>1</td>\n",
       "      <td>1.504110e+12</td>\n",
       "      <td>1.504110e+12</td>\n",
       "      <td>61</td>\n",
       "      <td>mate</td>\n",
       "      <td>white</td>\n",
       "      <td>20+0</td>\n",
       "      <td>daniamurashov</td>\n",
       "      <td>1439</td>\n",
       "      <td>adivanov2009</td>\n",
       "      <td>1454</td>\n",
       "      <td>d4 d5 Nf3 Bf5 Nc3 Nf6 Bf4 Ng4 e3 Nc6 Be2 Qd7 O...</td>\n",
       "      <td>D02</td>\n",
       "      <td>Queen's Pawn Game: Zukertort Variation</td>\n",
       "      <td>3</td>\n",
       "      <td>-15</td>\n",
       "      <td>20</td>\n",
       "      <td>0</td>\n",
       "    </tr>\n",
       "    <tr>\n",
       "      <th>4</th>\n",
       "      <td>9tXo1AUZ</td>\n",
       "      <td>1</td>\n",
       "      <td>1.504030e+12</td>\n",
       "      <td>1.504030e+12</td>\n",
       "      <td>95</td>\n",
       "      <td>mate</td>\n",
       "      <td>white</td>\n",
       "      <td>30+3</td>\n",
       "      <td>nik221107</td>\n",
       "      <td>1523</td>\n",
       "      <td>adivanov2009</td>\n",
       "      <td>1469</td>\n",
       "      <td>e4 e5 Nf3 d6 d4 Nc6 d5 Nb4 a3 Na6 Nc3 Be7 b4 N...</td>\n",
       "      <td>C41</td>\n",
       "      <td>Philidor Defense</td>\n",
       "      <td>5</td>\n",
       "      <td>54</td>\n",
       "      <td>30</td>\n",
       "      <td>3</td>\n",
       "    </tr>\n",
       "  </tbody>\n",
       "</table>\n",
       "</div>"
      ],
      "text/plain": [
       "         id  rated    created_at  last_move_at  turns victory_status winner  \\\n",
       "0  TZJHLljE      0  1.504210e+12  1.504210e+12     13      outoftime  white   \n",
       "1  l1NXvwaE      1  1.504130e+12  1.504130e+12     16         resign  black   \n",
       "2  mIICvQHh      1  1.504130e+12  1.504130e+12     61           mate  white   \n",
       "3  kWKvrqYL      1  1.504110e+12  1.504110e+12     61           mate  white   \n",
       "4  9tXo1AUZ      1  1.504030e+12  1.504030e+12     95           mate  white   \n",
       "\n",
       "  increment_code       white_id  white_rating      black_id  black_rating  \\\n",
       "0           15+2       bourgris          1500          a-00          1191   \n",
       "1           5+10           a-00          1322     skinnerua          1261   \n",
       "2           5+10         ischia          1496          a-00          1500   \n",
       "3           20+0  daniamurashov          1439  adivanov2009          1454   \n",
       "4           30+3      nik221107          1523  adivanov2009          1469   \n",
       "\n",
       "                                               moves opening_eco  \\\n",
       "0  d4 d5 c4 c6 cxd5 e6 dxe6 fxe6 Nf3 Bb4+ Nc3 Ba5...         D10   \n",
       "1  d4 Nc6 e4 e5 f4 f6 dxe5 fxe5 fxe5 Nxe5 Qd4 Nc6...         B00   \n",
       "2  e4 e5 d3 d6 Be3 c6 Be2 b5 Nd2 a5 a4 c5 axb5 Nc...         C20   \n",
       "3  d4 d5 Nf3 Bf5 Nc3 Nf6 Bf4 Ng4 e3 Nc6 Be2 Qd7 O...         D02   \n",
       "4  e4 e5 Nf3 d6 d4 Nc6 d5 Nb4 a3 Na6 Nc3 Be7 b4 N...         C41   \n",
       "\n",
       "                             opening_name  opening_ply  rating_difference  \\\n",
       "0        Slav Defense: Exchange Variation            5                309   \n",
       "1  Nimzowitsch Defense: Kennedy Variation            4                 61   \n",
       "2   King's Pawn Game: Leonardis Variation            3                 -4   \n",
       "3  Queen's Pawn Game: Zukertort Variation            3                -15   \n",
       "4                        Philidor Defense            5                 54   \n",
       "\n",
       "  minutes increment_secs  \n",
       "0      15              2  \n",
       "1       5             10  \n",
       "2       5             10  \n",
       "3      20              0  \n",
       "4      30              3  "
      ]
     },
     "execution_count": 21,
     "metadata": {},
     "output_type": "execute_result"
    }
   ],
   "source": [
    "df.head()"
   ]
  },
  {
   "cell_type": "code",
   "execution_count": 22,
   "metadata": {},
   "outputs": [],
   "source": [
    "# Drop unnecessary features from dataframe:\n",
    "df.drop(['id', 'created_at', 'last_move_at', 'white_id', 'black_id'], axis=1, inplace=True)\n",
    "#df_target = df.winner\n",
    "#df.drop(['winner'], axis=1, inplace=True)"
   ]
  },
  {
   "cell_type": "code",
   "execution_count": 23,
   "metadata": {},
   "outputs": [
    {
     "data": {
      "text/plain": [
       "array(['white', 'black'], dtype=object)"
      ]
     },
     "execution_count": 23,
     "metadata": {},
     "output_type": "execute_result"
    }
   ],
   "source": [
    "df = df[df['winner'] != 'draw']\n",
    "df.winner.unique()"
   ]
  },
  {
   "cell_type": "code",
   "execution_count": 24,
   "metadata": {},
   "outputs": [
    {
     "data": {
      "text/html": [
       "<div>\n",
       "<style scoped>\n",
       "    .dataframe tbody tr th:only-of-type {\n",
       "        vertical-align: middle;\n",
       "    }\n",
       "\n",
       "    .dataframe tbody tr th {\n",
       "        vertical-align: top;\n",
       "    }\n",
       "\n",
       "    .dataframe thead th {\n",
       "        text-align: right;\n",
       "    }\n",
       "</style>\n",
       "<table border=\"1\" class=\"dataframe\">\n",
       "  <thead>\n",
       "    <tr style=\"text-align: right;\">\n",
       "      <th></th>\n",
       "      <th>rated</th>\n",
       "      <th>turns</th>\n",
       "      <th>victory_status</th>\n",
       "      <th>winner</th>\n",
       "      <th>increment_code</th>\n",
       "      <th>white_rating</th>\n",
       "      <th>black_rating</th>\n",
       "      <th>moves</th>\n",
       "      <th>opening_eco</th>\n",
       "      <th>opening_name</th>\n",
       "      <th>opening_ply</th>\n",
       "      <th>rating_difference</th>\n",
       "      <th>minutes</th>\n",
       "      <th>increment_secs</th>\n",
       "      <th>first_capture</th>\n",
       "      <th>first_5_captures</th>\n",
       "      <th>first_move</th>\n",
       "      <th>first_castle</th>\n",
       "    </tr>\n",
       "  </thead>\n",
       "  <tbody>\n",
       "    <tr>\n",
       "      <th>0</th>\n",
       "      <td>0</td>\n",
       "      <td>13</td>\n",
       "      <td>outoftime</td>\n",
       "      <td>white</td>\n",
       "      <td>15+2</td>\n",
       "      <td>1500</td>\n",
       "      <td>1191</td>\n",
       "      <td>d4 d5 c4 c6 cxd5 e6 dxe6 fxe6 Nf3 Bb4+ Nc3 Ba5...</td>\n",
       "      <td>D10</td>\n",
       "      <td>Slav Defense: Exchange Variation</td>\n",
       "      <td>5</td>\n",
       "      <td>309</td>\n",
       "      <td>15</td>\n",
       "      <td>2</td>\n",
       "      <td>1</td>\n",
       "      <td>1</td>\n",
       "      <td>d4</td>\n",
       "      <td>no</td>\n",
       "    </tr>\n",
       "    <tr>\n",
       "      <th>1</th>\n",
       "      <td>1</td>\n",
       "      <td>16</td>\n",
       "      <td>resign</td>\n",
       "      <td>black</td>\n",
       "      <td>5+10</td>\n",
       "      <td>1322</td>\n",
       "      <td>1261</td>\n",
       "      <td>d4 Nc6 e4 e5 f4 f6 dxe5 fxe5 fxe5 Nxe5 Qd4 Nc6...</td>\n",
       "      <td>B00</td>\n",
       "      <td>Nimzowitsch Defense: Kennedy Variation</td>\n",
       "      <td>4</td>\n",
       "      <td>61</td>\n",
       "      <td>5</td>\n",
       "      <td>10</td>\n",
       "      <td>1</td>\n",
       "      <td>0</td>\n",
       "      <td>d4</td>\n",
       "      <td>no</td>\n",
       "    </tr>\n",
       "    <tr>\n",
       "      <th>2</th>\n",
       "      <td>1</td>\n",
       "      <td>61</td>\n",
       "      <td>mate</td>\n",
       "      <td>white</td>\n",
       "      <td>5+10</td>\n",
       "      <td>1496</td>\n",
       "      <td>1500</td>\n",
       "      <td>e4 e5 d3 d6 Be3 c6 Be2 b5 Nd2 a5 a4 c5 axb5 Nc...</td>\n",
       "      <td>C20</td>\n",
       "      <td>King's Pawn Game: Leonardis Variation</td>\n",
       "      <td>3</td>\n",
       "      <td>-4</td>\n",
       "      <td>5</td>\n",
       "      <td>10</td>\n",
       "      <td>1</td>\n",
       "      <td>1</td>\n",
       "      <td>e4</td>\n",
       "      <td>no</td>\n",
       "    </tr>\n",
       "    <tr>\n",
       "      <th>3</th>\n",
       "      <td>1</td>\n",
       "      <td>61</td>\n",
       "      <td>mate</td>\n",
       "      <td>white</td>\n",
       "      <td>20+0</td>\n",
       "      <td>1439</td>\n",
       "      <td>1454</td>\n",
       "      <td>d4 d5 Nf3 Bf5 Nc3 Nf6 Bf4 Ng4 e3 Nc6 Be2 Qd7 O...</td>\n",
       "      <td>D02</td>\n",
       "      <td>Queen's Pawn Game: Zukertort Variation</td>\n",
       "      <td>3</td>\n",
       "      <td>-15</td>\n",
       "      <td>20</td>\n",
       "      <td>0</td>\n",
       "      <td>0</td>\n",
       "      <td>1</td>\n",
       "      <td>d4</td>\n",
       "      <td>white</td>\n",
       "    </tr>\n",
       "    <tr>\n",
       "      <th>4</th>\n",
       "      <td>1</td>\n",
       "      <td>95</td>\n",
       "      <td>mate</td>\n",
       "      <td>white</td>\n",
       "      <td>30+3</td>\n",
       "      <td>1523</td>\n",
       "      <td>1469</td>\n",
       "      <td>e4 e5 Nf3 d6 d4 Nc6 d5 Nb4 a3 Na6 Nc3 Be7 b4 N...</td>\n",
       "      <td>C41</td>\n",
       "      <td>Philidor Defense</td>\n",
       "      <td>5</td>\n",
       "      <td>54</td>\n",
       "      <td>30</td>\n",
       "      <td>3</td>\n",
       "      <td>1</td>\n",
       "      <td>1</td>\n",
       "      <td>e4</td>\n",
       "      <td>black</td>\n",
       "    </tr>\n",
       "  </tbody>\n",
       "</table>\n",
       "</div>"
      ],
      "text/plain": [
       "   rated  turns victory_status winner increment_code  white_rating  \\\n",
       "0      0     13      outoftime  white           15+2          1500   \n",
       "1      1     16         resign  black           5+10          1322   \n",
       "2      1     61           mate  white           5+10          1496   \n",
       "3      1     61           mate  white           20+0          1439   \n",
       "4      1     95           mate  white           30+3          1523   \n",
       "\n",
       "   black_rating                                              moves  \\\n",
       "0          1191  d4 d5 c4 c6 cxd5 e6 dxe6 fxe6 Nf3 Bb4+ Nc3 Ba5...   \n",
       "1          1261  d4 Nc6 e4 e5 f4 f6 dxe5 fxe5 fxe5 Nxe5 Qd4 Nc6...   \n",
       "2          1500  e4 e5 d3 d6 Be3 c6 Be2 b5 Nd2 a5 a4 c5 axb5 Nc...   \n",
       "3          1454  d4 d5 Nf3 Bf5 Nc3 Nf6 Bf4 Ng4 e3 Nc6 Be2 Qd7 O...   \n",
       "4          1469  e4 e5 Nf3 d6 d4 Nc6 d5 Nb4 a3 Na6 Nc3 Be7 b4 N...   \n",
       "\n",
       "  opening_eco                            opening_name  opening_ply  \\\n",
       "0         D10        Slav Defense: Exchange Variation            5   \n",
       "1         B00  Nimzowitsch Defense: Kennedy Variation            4   \n",
       "2         C20   King's Pawn Game: Leonardis Variation            3   \n",
       "3         D02  Queen's Pawn Game: Zukertort Variation            3   \n",
       "4         C41                        Philidor Defense            5   \n",
       "\n",
       "   rating_difference minutes increment_secs first_capture first_5_captures  \\\n",
       "0                309      15              2             1                1   \n",
       "1                 61       5             10             1                0   \n",
       "2                 -4       5             10             1                1   \n",
       "3                -15      20              0             0                1   \n",
       "4                 54      30              3             1                1   \n",
       "\n",
       "  first_move first_castle  \n",
       "0         d4           no  \n",
       "1         d4           no  \n",
       "2         e4           no  \n",
       "3         d4        white  \n",
       "4         e4        black  "
      ]
     },
     "execution_count": 24,
     "metadata": {},
     "output_type": "execute_result"
    }
   ],
   "source": [
    "# Create First Capture Column:\n",
    "first_captures = df['moves'].apply(first_capture)\n",
    "df = df.assign(first_capture = first_captures)\n",
    "df.first_capture.replace({'black': 0, 'white': 1}, inplace=True)\n",
    "\n",
    "first_5_captures = df['moves'].apply(lambda moves: first_n_captures(moves, 5))\n",
    "df = df.assign(first_5_captures = first_5_captures)\n",
    "df.first_5_captures.replace({'black': 0, 'white': 1}, inplace=True)\n",
    "\n",
    "first_moves = df['moves'].apply(lambda moves: moves.split()[0])\n",
    "df = df.assign(first_move = first_moves)\n",
    "\n",
    "first_castle = df['moves'].apply(lambda moves: first_castle(moves))\n",
    "df = df.assign(first_castle = first_castle)\n",
    "\n",
    "df.head()"
   ]
  },
  {
   "cell_type": "code",
   "execution_count": 25,
   "metadata": {},
   "outputs": [
    {
     "data": {
      "text/html": [
       "<div>\n",
       "<style scoped>\n",
       "    .dataframe tbody tr th:only-of-type {\n",
       "        vertical-align: middle;\n",
       "    }\n",
       "\n",
       "    .dataframe tbody tr th {\n",
       "        vertical-align: top;\n",
       "    }\n",
       "\n",
       "    .dataframe thead th {\n",
       "        text-align: right;\n",
       "    }\n",
       "</style>\n",
       "<table border=\"1\" class=\"dataframe\">\n",
       "  <thead>\n",
       "    <tr style=\"text-align: right;\">\n",
       "      <th></th>\n",
       "      <th></th>\n",
       "      <th>victory_status</th>\n",
       "    </tr>\n",
       "    <tr>\n",
       "      <th>first_move</th>\n",
       "      <th>winner</th>\n",
       "      <th></th>\n",
       "    </tr>\n",
       "  </thead>\n",
       "  <tbody>\n",
       "    <tr>\n",
       "      <th rowspan=\"2\" valign=\"top\">Na3</th>\n",
       "      <th>black</th>\n",
       "      <td>3</td>\n",
       "    </tr>\n",
       "    <tr>\n",
       "      <th>white</th>\n",
       "      <td>1</td>\n",
       "    </tr>\n",
       "    <tr>\n",
       "      <th rowspan=\"2\" valign=\"top\">Nc3</th>\n",
       "      <th>black</th>\n",
       "      <td>55</td>\n",
       "    </tr>\n",
       "    <tr>\n",
       "      <th>white</th>\n",
       "      <td>42</td>\n",
       "    </tr>\n",
       "    <tr>\n",
       "      <th rowspan=\"2\" valign=\"top\">Nf3</th>\n",
       "      <th>black</th>\n",
       "      <td>292</td>\n",
       "    </tr>\n",
       "    <tr>\n",
       "      <th>white</th>\n",
       "      <td>373</td>\n",
       "    </tr>\n",
       "    <tr>\n",
       "      <th rowspan=\"2\" valign=\"top\">Nh3</th>\n",
       "      <th>black</th>\n",
       "      <td>6</td>\n",
       "    </tr>\n",
       "    <tr>\n",
       "      <th>white</th>\n",
       "      <td>9</td>\n",
       "    </tr>\n",
       "    <tr>\n",
       "      <th rowspan=\"2\" valign=\"top\">a3</th>\n",
       "      <th>black</th>\n",
       "      <td>9</td>\n",
       "    </tr>\n",
       "    <tr>\n",
       "      <th>white</th>\n",
       "      <td>17</td>\n",
       "    </tr>\n",
       "    <tr>\n",
       "      <th rowspan=\"2\" valign=\"top\">a4</th>\n",
       "      <th>black</th>\n",
       "      <td>18</td>\n",
       "    </tr>\n",
       "    <tr>\n",
       "      <th>white</th>\n",
       "      <td>9</td>\n",
       "    </tr>\n",
       "    <tr>\n",
       "      <th rowspan=\"2\" valign=\"top\">b3</th>\n",
       "      <th>black</th>\n",
       "      <td>83</td>\n",
       "    </tr>\n",
       "    <tr>\n",
       "      <th>white</th>\n",
       "      <td>82</td>\n",
       "    </tr>\n",
       "    <tr>\n",
       "      <th rowspan=\"2\" valign=\"top\">b4</th>\n",
       "      <th>black</th>\n",
       "      <td>36</td>\n",
       "    </tr>\n",
       "    <tr>\n",
       "      <th>white</th>\n",
       "      <td>48</td>\n",
       "    </tr>\n",
       "    <tr>\n",
       "      <th rowspan=\"2\" valign=\"top\">c3</th>\n",
       "      <th>black</th>\n",
       "      <td>25</td>\n",
       "    </tr>\n",
       "    <tr>\n",
       "      <th>white</th>\n",
       "      <td>31</td>\n",
       "    </tr>\n",
       "    <tr>\n",
       "      <th rowspan=\"2\" valign=\"top\">c4</th>\n",
       "      <th>black</th>\n",
       "      <td>305</td>\n",
       "    </tr>\n",
       "    <tr>\n",
       "      <th>white</th>\n",
       "      <td>383</td>\n",
       "    </tr>\n",
       "    <tr>\n",
       "      <th rowspan=\"2\" valign=\"top\">d3</th>\n",
       "      <th>black</th>\n",
       "      <td>79</td>\n",
       "    </tr>\n",
       "    <tr>\n",
       "      <th>white</th>\n",
       "      <td>50</td>\n",
       "    </tr>\n",
       "    <tr>\n",
       "      <th rowspan=\"2\" valign=\"top\">d4</th>\n",
       "      <th>black</th>\n",
       "      <td>2043</td>\n",
       "    </tr>\n",
       "    <tr>\n",
       "      <th>white</th>\n",
       "      <td>2258</td>\n",
       "    </tr>\n",
       "    <tr>\n",
       "      <th rowspan=\"2\" valign=\"top\">e3</th>\n",
       "      <th>black</th>\n",
       "      <td>255</td>\n",
       "    </tr>\n",
       "    <tr>\n",
       "      <th>white</th>\n",
       "      <td>142</td>\n",
       "    </tr>\n",
       "    <tr>\n",
       "      <th rowspan=\"2\" valign=\"top\">e4</th>\n",
       "      <th>black</th>\n",
       "      <td>5651</td>\n",
       "    </tr>\n",
       "    <tr>\n",
       "      <th>white</th>\n",
       "      <td>6371</td>\n",
       "    </tr>\n",
       "    <tr>\n",
       "      <th rowspan=\"2\" valign=\"top\">f3</th>\n",
       "      <th>black</th>\n",
       "      <td>13</td>\n",
       "    </tr>\n",
       "    <tr>\n",
       "      <th>white</th>\n",
       "      <td>8</td>\n",
       "    </tr>\n",
       "    <tr>\n",
       "      <th rowspan=\"2\" valign=\"top\">f4</th>\n",
       "      <th>black</th>\n",
       "      <td>82</td>\n",
       "    </tr>\n",
       "    <tr>\n",
       "      <th>white</th>\n",
       "      <td>68</td>\n",
       "    </tr>\n",
       "    <tr>\n",
       "      <th rowspan=\"2\" valign=\"top\">g3</th>\n",
       "      <th>black</th>\n",
       "      <td>95</td>\n",
       "    </tr>\n",
       "    <tr>\n",
       "      <th>white</th>\n",
       "      <td>85</td>\n",
       "    </tr>\n",
       "    <tr>\n",
       "      <th rowspan=\"2\" valign=\"top\">g4</th>\n",
       "      <th>black</th>\n",
       "      <td>25</td>\n",
       "    </tr>\n",
       "    <tr>\n",
       "      <th>white</th>\n",
       "      <td>11</td>\n",
       "    </tr>\n",
       "    <tr>\n",
       "      <th rowspan=\"2\" valign=\"top\">h3</th>\n",
       "      <th>black</th>\n",
       "      <td>7</td>\n",
       "    </tr>\n",
       "    <tr>\n",
       "      <th>white</th>\n",
       "      <td>7</td>\n",
       "    </tr>\n",
       "    <tr>\n",
       "      <th rowspan=\"2\" valign=\"top\">h4</th>\n",
       "      <th>black</th>\n",
       "      <td>25</td>\n",
       "    </tr>\n",
       "    <tr>\n",
       "      <th>white</th>\n",
       "      <td>6</td>\n",
       "    </tr>\n",
       "  </tbody>\n",
       "</table>\n",
       "</div>"
      ],
      "text/plain": [
       "                   victory_status\n",
       "first_move winner                \n",
       "Na3        black                3\n",
       "           white                1\n",
       "Nc3        black               55\n",
       "           white               42\n",
       "Nf3        black              292\n",
       "           white              373\n",
       "Nh3        black                6\n",
       "           white                9\n",
       "a3         black                9\n",
       "           white               17\n",
       "a4         black               18\n",
       "           white                9\n",
       "b3         black               83\n",
       "           white               82\n",
       "b4         black               36\n",
       "           white               48\n",
       "c3         black               25\n",
       "           white               31\n",
       "c4         black              305\n",
       "           white              383\n",
       "d3         black               79\n",
       "           white               50\n",
       "d4         black             2043\n",
       "           white             2258\n",
       "e3         black              255\n",
       "           white              142\n",
       "e4         black             5651\n",
       "           white             6371\n",
       "f3         black               13\n",
       "           white                8\n",
       "f4         black               82\n",
       "           white               68\n",
       "g3         black               95\n",
       "           white               85\n",
       "g4         black               25\n",
       "           white               11\n",
       "h3         black                7\n",
       "           white                7\n",
       "h4         black               25\n",
       "           white                6"
      ]
     },
     "execution_count": 25,
     "metadata": {},
     "output_type": "execute_result"
    }
   ],
   "source": [
    "# Winner vs. First move:\n",
    "\n",
    "df[['first_move', 'winner', 'victory_status']].groupby(['first_move', 'winner']).count()#.plot(kind='barh')\n",
    "\n",
    "#sns.barplot()"
   ]
  },
  {
   "cell_type": "code",
   "execution_count": 26,
   "metadata": {
    "scrolled": true
   },
   "outputs": [
    {
     "data": {
      "text/html": [
       "<div>\n",
       "<style scoped>\n",
       "    .dataframe tbody tr th:only-of-type {\n",
       "        vertical-align: middle;\n",
       "    }\n",
       "\n",
       "    .dataframe tbody tr th {\n",
       "        vertical-align: top;\n",
       "    }\n",
       "\n",
       "    .dataframe thead th {\n",
       "        text-align: right;\n",
       "    }\n",
       "</style>\n",
       "<table border=\"1\" class=\"dataframe\">\n",
       "  <thead>\n",
       "    <tr style=\"text-align: right;\">\n",
       "      <th></th>\n",
       "      <th>rated</th>\n",
       "      <th>turns</th>\n",
       "      <th>winner</th>\n",
       "      <th>white_rating</th>\n",
       "      <th>black_rating</th>\n",
       "      <th>opening_ply</th>\n",
       "      <th>rating_difference</th>\n",
       "      <th>minutes</th>\n",
       "      <th>increment_secs</th>\n",
       "      <th>first_capture</th>\n",
       "      <th>...</th>\n",
       "      <th>opening_eco_E81</th>\n",
       "      <th>opening_eco_E87</th>\n",
       "      <th>opening_eco_E88</th>\n",
       "      <th>opening_eco_E90</th>\n",
       "      <th>opening_eco_E91</th>\n",
       "      <th>opening_eco_E92</th>\n",
       "      <th>opening_eco_E94</th>\n",
       "      <th>opening_eco_E95</th>\n",
       "      <th>opening_eco_E97</th>\n",
       "      <th>opening_eco_E98</th>\n",
       "    </tr>\n",
       "  </thead>\n",
       "  <tbody>\n",
       "    <tr>\n",
       "      <th>0</th>\n",
       "      <td>0</td>\n",
       "      <td>13</td>\n",
       "      <td>white</td>\n",
       "      <td>1500</td>\n",
       "      <td>1191</td>\n",
       "      <td>5</td>\n",
       "      <td>309</td>\n",
       "      <td>15</td>\n",
       "      <td>2</td>\n",
       "      <td>1</td>\n",
       "      <td>...</td>\n",
       "      <td>0</td>\n",
       "      <td>0</td>\n",
       "      <td>0</td>\n",
       "      <td>0</td>\n",
       "      <td>0</td>\n",
       "      <td>0</td>\n",
       "      <td>0</td>\n",
       "      <td>0</td>\n",
       "      <td>0</td>\n",
       "      <td>0</td>\n",
       "    </tr>\n",
       "    <tr>\n",
       "      <th>1</th>\n",
       "      <td>1</td>\n",
       "      <td>16</td>\n",
       "      <td>black</td>\n",
       "      <td>1322</td>\n",
       "      <td>1261</td>\n",
       "      <td>4</td>\n",
       "      <td>61</td>\n",
       "      <td>5</td>\n",
       "      <td>10</td>\n",
       "      <td>1</td>\n",
       "      <td>...</td>\n",
       "      <td>0</td>\n",
       "      <td>0</td>\n",
       "      <td>0</td>\n",
       "      <td>0</td>\n",
       "      <td>0</td>\n",
       "      <td>0</td>\n",
       "      <td>0</td>\n",
       "      <td>0</td>\n",
       "      <td>0</td>\n",
       "      <td>0</td>\n",
       "    </tr>\n",
       "    <tr>\n",
       "      <th>2</th>\n",
       "      <td>1</td>\n",
       "      <td>61</td>\n",
       "      <td>white</td>\n",
       "      <td>1496</td>\n",
       "      <td>1500</td>\n",
       "      <td>3</td>\n",
       "      <td>-4</td>\n",
       "      <td>5</td>\n",
       "      <td>10</td>\n",
       "      <td>1</td>\n",
       "      <td>...</td>\n",
       "      <td>0</td>\n",
       "      <td>0</td>\n",
       "      <td>0</td>\n",
       "      <td>0</td>\n",
       "      <td>0</td>\n",
       "      <td>0</td>\n",
       "      <td>0</td>\n",
       "      <td>0</td>\n",
       "      <td>0</td>\n",
       "      <td>0</td>\n",
       "    </tr>\n",
       "    <tr>\n",
       "      <th>3</th>\n",
       "      <td>1</td>\n",
       "      <td>61</td>\n",
       "      <td>white</td>\n",
       "      <td>1439</td>\n",
       "      <td>1454</td>\n",
       "      <td>3</td>\n",
       "      <td>-15</td>\n",
       "      <td>20</td>\n",
       "      <td>0</td>\n",
       "      <td>0</td>\n",
       "      <td>...</td>\n",
       "      <td>0</td>\n",
       "      <td>0</td>\n",
       "      <td>0</td>\n",
       "      <td>0</td>\n",
       "      <td>0</td>\n",
       "      <td>0</td>\n",
       "      <td>0</td>\n",
       "      <td>0</td>\n",
       "      <td>0</td>\n",
       "      <td>0</td>\n",
       "    </tr>\n",
       "    <tr>\n",
       "      <th>4</th>\n",
       "      <td>1</td>\n",
       "      <td>95</td>\n",
       "      <td>white</td>\n",
       "      <td>1523</td>\n",
       "      <td>1469</td>\n",
       "      <td>5</td>\n",
       "      <td>54</td>\n",
       "      <td>30</td>\n",
       "      <td>3</td>\n",
       "      <td>1</td>\n",
       "      <td>...</td>\n",
       "      <td>0</td>\n",
       "      <td>0</td>\n",
       "      <td>0</td>\n",
       "      <td>0</td>\n",
       "      <td>0</td>\n",
       "      <td>0</td>\n",
       "      <td>0</td>\n",
       "      <td>0</td>\n",
       "      <td>0</td>\n",
       "      <td>0</td>\n",
       "    </tr>\n",
       "    <tr>\n",
       "      <th>6</th>\n",
       "      <td>1</td>\n",
       "      <td>33</td>\n",
       "      <td>white</td>\n",
       "      <td>1520</td>\n",
       "      <td>1423</td>\n",
       "      <td>10</td>\n",
       "      <td>97</td>\n",
       "      <td>10</td>\n",
       "      <td>0</td>\n",
       "      <td>0</td>\n",
       "      <td>...</td>\n",
       "      <td>0</td>\n",
       "      <td>0</td>\n",
       "      <td>0</td>\n",
       "      <td>0</td>\n",
       "      <td>0</td>\n",
       "      <td>0</td>\n",
       "      <td>0</td>\n",
       "      <td>0</td>\n",
       "      <td>0</td>\n",
       "      <td>0</td>\n",
       "    </tr>\n",
       "    <tr>\n",
       "      <th>8</th>\n",
       "      <td>1</td>\n",
       "      <td>66</td>\n",
       "      <td>black</td>\n",
       "      <td>1439</td>\n",
       "      <td>1392</td>\n",
       "      <td>6</td>\n",
       "      <td>47</td>\n",
       "      <td>15</td>\n",
       "      <td>0</td>\n",
       "      <td>0</td>\n",
       "      <td>...</td>\n",
       "      <td>0</td>\n",
       "      <td>0</td>\n",
       "      <td>0</td>\n",
       "      <td>0</td>\n",
       "      <td>0</td>\n",
       "      <td>0</td>\n",
       "      <td>0</td>\n",
       "      <td>0</td>\n",
       "      <td>0</td>\n",
       "      <td>0</td>\n",
       "    </tr>\n",
       "    <tr>\n",
       "      <th>9</th>\n",
       "      <td>1</td>\n",
       "      <td>119</td>\n",
       "      <td>white</td>\n",
       "      <td>1381</td>\n",
       "      <td>1209</td>\n",
       "      <td>4</td>\n",
       "      <td>172</td>\n",
       "      <td>10</td>\n",
       "      <td>0</td>\n",
       "      <td>1</td>\n",
       "      <td>...</td>\n",
       "      <td>0</td>\n",
       "      <td>0</td>\n",
       "      <td>0</td>\n",
       "      <td>0</td>\n",
       "      <td>0</td>\n",
       "      <td>0</td>\n",
       "      <td>0</td>\n",
       "      <td>0</td>\n",
       "      <td>0</td>\n",
       "      <td>0</td>\n",
       "    </tr>\n",
       "    <tr>\n",
       "      <th>10</th>\n",
       "      <td>0</td>\n",
       "      <td>39</td>\n",
       "      <td>white</td>\n",
       "      <td>1381</td>\n",
       "      <td>1272</td>\n",
       "      <td>1</td>\n",
       "      <td>109</td>\n",
       "      <td>20</td>\n",
       "      <td>60</td>\n",
       "      <td>1</td>\n",
       "      <td>...</td>\n",
       "      <td>0</td>\n",
       "      <td>0</td>\n",
       "      <td>0</td>\n",
       "      <td>0</td>\n",
       "      <td>0</td>\n",
       "      <td>0</td>\n",
       "      <td>0</td>\n",
       "      <td>0</td>\n",
       "      <td>0</td>\n",
       "      <td>0</td>\n",
       "    </tr>\n",
       "    <tr>\n",
       "      <th>11</th>\n",
       "      <td>0</td>\n",
       "      <td>38</td>\n",
       "      <td>black</td>\n",
       "      <td>1381</td>\n",
       "      <td>1867</td>\n",
       "      <td>9</td>\n",
       "      <td>-486</td>\n",
       "      <td>20</td>\n",
       "      <td>60</td>\n",
       "      <td>0</td>\n",
       "      <td>...</td>\n",
       "      <td>0</td>\n",
       "      <td>0</td>\n",
       "      <td>0</td>\n",
       "      <td>0</td>\n",
       "      <td>0</td>\n",
       "      <td>0</td>\n",
       "      <td>0</td>\n",
       "      <td>0</td>\n",
       "      <td>0</td>\n",
       "      <td>0</td>\n",
       "    </tr>\n",
       "  </tbody>\n",
       "</table>\n",
       "<p>10 rows × 400 columns</p>\n",
       "</div>"
      ],
      "text/plain": [
       "    rated  turns winner  white_rating  black_rating  opening_ply  \\\n",
       "0       0     13  white          1500          1191            5   \n",
       "1       1     16  black          1322          1261            4   \n",
       "2       1     61  white          1496          1500            3   \n",
       "3       1     61  white          1439          1454            3   \n",
       "4       1     95  white          1523          1469            5   \n",
       "6       1     33  white          1520          1423           10   \n",
       "8       1     66  black          1439          1392            6   \n",
       "9       1    119  white          1381          1209            4   \n",
       "10      0     39  white          1381          1272            1   \n",
       "11      0     38  black          1381          1867            9   \n",
       "\n",
       "    rating_difference minutes increment_secs first_capture       ...         \\\n",
       "0                 309      15              2             1       ...          \n",
       "1                  61       5             10             1       ...          \n",
       "2                  -4       5             10             1       ...          \n",
       "3                 -15      20              0             0       ...          \n",
       "4                  54      30              3             1       ...          \n",
       "6                  97      10              0             0       ...          \n",
       "8                  47      15              0             0       ...          \n",
       "9                 172      10              0             1       ...          \n",
       "10                109      20             60             1       ...          \n",
       "11               -486      20             60             0       ...          \n",
       "\n",
       "   opening_eco_E81  opening_eco_E87  opening_eco_E88  opening_eco_E90  \\\n",
       "0                0                0                0                0   \n",
       "1                0                0                0                0   \n",
       "2                0                0                0                0   \n",
       "3                0                0                0                0   \n",
       "4                0                0                0                0   \n",
       "6                0                0                0                0   \n",
       "8                0                0                0                0   \n",
       "9                0                0                0                0   \n",
       "10               0                0                0                0   \n",
       "11               0                0                0                0   \n",
       "\n",
       "    opening_eco_E91  opening_eco_E92  opening_eco_E94  opening_eco_E95  \\\n",
       "0                 0                0                0                0   \n",
       "1                 0                0                0                0   \n",
       "2                 0                0                0                0   \n",
       "3                 0                0                0                0   \n",
       "4                 0                0                0                0   \n",
       "6                 0                0                0                0   \n",
       "8                 0                0                0                0   \n",
       "9                 0                0                0                0   \n",
       "10                0                0                0                0   \n",
       "11                0                0                0                0   \n",
       "\n",
       "    opening_eco_E97  opening_eco_E98  \n",
       "0                 0                0  \n",
       "1                 0                0  \n",
       "2                 0                0  \n",
       "3                 0                0  \n",
       "4                 0                0  \n",
       "6                 0                0  \n",
       "8                 0                0  \n",
       "9                 0                0  \n",
       "10                0                0  \n",
       "11                0                0  \n",
       "\n",
       "[10 rows x 400 columns]"
      ]
     },
     "execution_count": 26,
     "metadata": {},
     "output_type": "execute_result"
    }
   ],
   "source": [
    "# Creating Dummies and Dropping Columns:\n",
    "first_move_dummies = pd.get_dummies(df.first_move, prefix = 'first')\n",
    "df.drop(['first_move'], axis=1, inplace=True)\n",
    "df.drop(['moves'], axis=1, inplace=True)\n",
    "df = pd.concat([df, first_move_dummies], axis=1)\n",
    "\n",
    "# Removing games with no pieces captured and creating dummies\n",
    "df = df[df.first_capture != 'no']\n",
    "first_capture_dummies = pd.get_dummies(df.first_capture, prefix = 'first_cap')\n",
    "df = pd.concat([df, first_capture_dummies], axis=1)\n",
    "\n",
    "first_5_capture_dummies = pd.get_dummies(df.first_5_captures, prefix = 'first_5_cap')\n",
    "df = pd.concat([df, first_5_capture_dummies], axis=1)\n",
    "\n",
    "first_castle_dummies = pd.get_dummies(df.first_castle, prefix = 'first_castle')\n",
    "df.drop(['first_castle'], axis=1, inplace=True)\n",
    "df = pd.concat([df, first_castle_dummies], axis=1)\n",
    "\n",
    "victory_status_dummies = pd.get_dummies(df.victory_status, prefix='victory')\n",
    "df = pd.concat([df, victory_status_dummies], axis=1)\n",
    "df.drop(['victory_status'], axis=1, inplace=True)\n",
    "\n",
    "opening_eco_dummies = pd.get_dummies(df.opening_eco, prefix='opening_eco')\n",
    "df.drop(['opening_eco'], axis=1, inplace=True)\n",
    "df = pd.concat([df, opening_eco_dummies], axis=1)\n",
    "\n",
    "df.drop(['opening_name', 'increment_code', ], axis=1, inplace=True)\n",
    "\n",
    "df.head(10)"
   ]
  },
  {
   "cell_type": "code",
   "execution_count": null,
   "metadata": {},
   "outputs": [],
   "source": []
  },
  {
   "cell_type": "code",
   "execution_count": 27,
   "metadata": {
    "scrolled": true
   },
   "outputs": [],
   "source": [
    "#for col in df.columns:\n",
    "#    print(df[col].value_counts())"
   ]
  },
  {
   "cell_type": "code",
   "execution_count": 28,
   "metadata": {},
   "outputs": [],
   "source": [
    "PCA_code = \"\"\"\n",
    "from sklearn.decomposition import PCA\n",
    "\n",
    "pca = PCA(n_components = 2)\n",
    "PCs = pca.fit_transform(first_move_dummies)\n",
    "\n",
    "PCs_df = pd.DataFrame(data = PCs, columns = ['PC1', 'PC2'])\n",
    "PCs_df = PCs_df.assign(winner = df['winner'])\n",
    "\n",
    "sns.scatterplot(x = 'PC1', y = 'PC2',\n",
    "                hue = 'winner',\n",
    "                data = PCs_df,\n",
    "                alpha = 0.5)\n",
    "\n",
    "PCs_df.head()\n",
    "\"\"\""
   ]
  },
  {
   "cell_type": "code",
   "execution_count": 29,
   "metadata": {},
   "outputs": [
    {
     "data": {
      "text/plain": [
       "['first_e4',\n",
       " 'first_d4',\n",
       " 'first_c4',\n",
       " 'first_Nf3',\n",
       " 'first_e3',\n",
       " 'first_g3',\n",
       " 'first_b3',\n",
       " 'first_f4']"
      ]
     },
     "execution_count": 29,
     "metadata": {},
     "output_type": "execute_result"
    }
   ],
   "source": [
    "# Selecting 8 most common first moves:\n",
    "moves_to_use = first_move_dummies.sum().sort_values(ascending=False).head(8).index.tolist()\n",
    "moves_to_use"
   ]
  },
  {
   "cell_type": "code",
   "execution_count": 30,
   "metadata": {},
   "outputs": [],
   "source": [
    "# Normalizing Rating Difference:\n",
    "col = 'rating_difference'\n",
    "df['rating_difference_norm'] = (df[col] - min(df[col])) / (max(df[col]) - min(df[col]))"
   ]
  },
  {
   "cell_type": "code",
   "execution_count": 31,
   "metadata": {
    "scrolled": false
   },
   "outputs": [
    {
     "data": {
      "text/plain": [
       "<matplotlib.axes._subplots.AxesSubplot at 0x1c18c7bb70>"
      ]
     },
     "execution_count": 31,
     "metadata": {},
     "output_type": "execute_result"
    },
    {
     "data": {
      "image/png": "[encoded data removed]",
      "text/plain": [
       "<Figure size 432x288 with 1 Axes>"
      ]
     },
     "metadata": {
      "needs_background": "light"
     },
     "output_type": "display_data"
    }
   ],
   "source": [
    "# Reviewing Distribution:\n",
    "df.rating_difference_norm.hist(density=True)"
   ]
  },
  {
   "cell_type": "code",
   "execution_count": 32,
   "metadata": {},
   "outputs": [],
   "source": [
    "# Feature Engineering - How many of first 3 moves control/attack the center 'e4, e5, d4, d5'\n",
    "# Possible moves:\n",
    "#    - White: d3, d4, e3, e4, Nf3, Nc3, \n",
    "#    - Black:"
   ]
  },
  {
   "cell_type": "code",
   "execution_count": 33,
   "metadata": {},
   "outputs": [],
   "source": [
    "# Feature Engineering - Queen Side vs. King Side Castling:\n"
   ]
  },
  {
   "cell_type": "code",
   "execution_count": 34,
   "metadata": {},
   "outputs": [],
   "source": [
    "#y = df.winner\n",
    "#df.drop(['winner'], axis=1, inplace=False)\n",
    "#X = df"
   ]
  },
  {
   "cell_type": "code",
   "execution_count": 35,
   "metadata": {},
   "outputs": [],
   "source": [
    "# Choose X, y:\n",
    "#X = df[['first_cap_black', 'first_5_cap_black', 'first_5_cap_white', 'rating_difference_norm', 'first_castle_white', 'first_castle_no', 'first_castle_black', '']]\n",
    "#X = df.winner.drop(inplace=False)\n",
    "#y = df['winner']"
   ]
  },
  {
   "cell_type": "code",
   "execution_count": 36,
   "metadata": {},
   "outputs": [
    {
     "ename": "TypeError",
     "evalue": "Cannot compare types 'ndarray(dtype=uint8)' and 'str'",
     "output_type": "error",
     "traceback": [
      "\u001b[0;31m---------------------------------------------------------------------------\u001b[0m",
      "\u001b[0;31mTypeError\u001b[0m                                 Traceback (most recent call last)",
      "\u001b[0;32m<ipython-input-36-f7f6d0f5167e>\u001b[0m in \u001b[0;36m<module>\u001b[0;34m()\u001b[0m\n\u001b[0;32m----> 1\u001b[0;31m \u001b[0mdf\u001b[0m\u001b[0;34m.\u001b[0m\u001b[0mfirst_castle_black\u001b[0m\u001b[0;34m.\u001b[0m\u001b[0mreplace\u001b[0m\u001b[0;34m(\u001b[0m\u001b[0;34m{\u001b[0m\u001b[0;34m'no'\u001b[0m\u001b[0;34m:\u001b[0m \u001b[0;36m0\u001b[0m\u001b[0;34m}\u001b[0m\u001b[0;34m,\u001b[0m \u001b[0minplace\u001b[0m\u001b[0;34m=\u001b[0m\u001b[0;32mTrue\u001b[0m\u001b[0;34m)\u001b[0m\u001b[0;34m\u001b[0m\u001b[0m\n\u001b[0m\u001b[1;32m      2\u001b[0m \u001b[0mdf\u001b[0m\u001b[0;34m.\u001b[0m\u001b[0mfirst_castle_white\u001b[0m\u001b[0;34m.\u001b[0m\u001b[0mreplace\u001b[0m\u001b[0;34m(\u001b[0m\u001b[0;34m{\u001b[0m\u001b[0;34m'no'\u001b[0m\u001b[0;34m:\u001b[0m \u001b[0;36m0\u001b[0m\u001b[0;34m}\u001b[0m\u001b[0;34m,\u001b[0m \u001b[0minplace\u001b[0m\u001b[0;34m=\u001b[0m\u001b[0;32mTrue\u001b[0m\u001b[0;34m)\u001b[0m\u001b[0;34m\u001b[0m\u001b[0m\n",
      "\u001b[0;32m~/anaconda3/envs/learn-env/lib/python3.6/site-packages/pandas/core/series.py\u001b[0m in \u001b[0;36mreplace\u001b[0;34m(self, to_replace, value, inplace, limit, regex, method)\u001b[0m\n\u001b[1;32m   3430\u001b[0m         return super(Series, self).replace(to_replace=to_replace, value=value,\n\u001b[1;32m   3431\u001b[0m                                            \u001b[0minplace\u001b[0m\u001b[0;34m=\u001b[0m\u001b[0minplace\u001b[0m\u001b[0;34m,\u001b[0m \u001b[0mlimit\u001b[0m\u001b[0;34m=\u001b[0m\u001b[0mlimit\u001b[0m\u001b[0;34m,\u001b[0m\u001b[0;34m\u001b[0m\u001b[0m\n\u001b[0;32m-> 3432\u001b[0;31m                                            regex=regex, method=method)\n\u001b[0m\u001b[1;32m   3433\u001b[0m \u001b[0;34m\u001b[0m\u001b[0m\n\u001b[1;32m   3434\u001b[0m     \u001b[0;34m@\u001b[0m\u001b[0mAppender\u001b[0m\u001b[0;34m(\u001b[0m\u001b[0mgeneric\u001b[0m\u001b[0;34m.\u001b[0m\u001b[0m_shared_docs\u001b[0m\u001b[0;34m[\u001b[0m\u001b[0;34m'shift'\u001b[0m\u001b[0;34m]\u001b[0m \u001b[0;34m%\u001b[0m \u001b[0m_shared_doc_kwargs\u001b[0m\u001b[0;34m)\u001b[0m\u001b[0;34m\u001b[0m\u001b[0m\n",
      "\u001b[0;32m~/anaconda3/envs/learn-env/lib/python3.6/site-packages/pandas/core/generic.py\u001b[0m in \u001b[0;36mreplace\u001b[0;34m(self, to_replace, value, inplace, limit, regex, method)\u001b[0m\n\u001b[1;32m   5800\u001b[0m \u001b[0;34m\u001b[0m\u001b[0m\n\u001b[1;32m   5801\u001b[0m             return self.replace(to_replace, value, inplace=inplace,\n\u001b[0;32m-> 5802\u001b[0;31m                                 limit=limit, regex=regex)\n\u001b[0m\u001b[1;32m   5803\u001b[0m         \u001b[0;32melse\u001b[0m\u001b[0;34m:\u001b[0m\u001b[0;34m\u001b[0m\u001b[0m\n\u001b[1;32m   5804\u001b[0m \u001b[0;34m\u001b[0m\u001b[0m\n",
      "\u001b[0;32m~/anaconda3/envs/learn-env/lib/python3.6/site-packages/pandas/core/series.py\u001b[0m in \u001b[0;36mreplace\u001b[0;34m(self, to_replace, value, inplace, limit, regex, method)\u001b[0m\n\u001b[1;32m   3430\u001b[0m         return super(Series, self).replace(to_replace=to_replace, value=value,\n\u001b[1;32m   3431\u001b[0m                                            \u001b[0minplace\u001b[0m\u001b[0;34m=\u001b[0m\u001b[0minplace\u001b[0m\u001b[0;34m,\u001b[0m \u001b[0mlimit\u001b[0m\u001b[0;34m=\u001b[0m\u001b[0mlimit\u001b[0m\u001b[0;34m,\u001b[0m\u001b[0;34m\u001b[0m\u001b[0m\n\u001b[0;32m-> 3432\u001b[0;31m                                            regex=regex, method=method)\n\u001b[0m\u001b[1;32m   3433\u001b[0m \u001b[0;34m\u001b[0m\u001b[0m\n\u001b[1;32m   3434\u001b[0m     \u001b[0;34m@\u001b[0m\u001b[0mAppender\u001b[0m\u001b[0;34m(\u001b[0m\u001b[0mgeneric\u001b[0m\u001b[0;34m.\u001b[0m\u001b[0m_shared_docs\u001b[0m\u001b[0;34m[\u001b[0m\u001b[0;34m'shift'\u001b[0m\u001b[0;34m]\u001b[0m \u001b[0;34m%\u001b[0m \u001b[0m_shared_doc_kwargs\u001b[0m\u001b[0;34m)\u001b[0m\u001b[0;34m\u001b[0m\u001b[0m\n",
      "\u001b[0;32m~/anaconda3/envs/learn-env/lib/python3.6/site-packages/pandas/core/generic.py\u001b[0m in \u001b[0;36mreplace\u001b[0;34m(self, to_replace, value, inplace, limit, regex, method)\u001b[0m\n\u001b[1;32m   5849\u001b[0m                                                        \u001b[0mdest_list\u001b[0m\u001b[0;34m=\u001b[0m\u001b[0mvalue\u001b[0m\u001b[0;34m,\u001b[0m\u001b[0;34m\u001b[0m\u001b[0m\n\u001b[1;32m   5850\u001b[0m                                                        \u001b[0minplace\u001b[0m\u001b[0;34m=\u001b[0m\u001b[0minplace\u001b[0m\u001b[0;34m,\u001b[0m\u001b[0;34m\u001b[0m\u001b[0m\n\u001b[0;32m-> 5851\u001b[0;31m                                                        regex=regex)\n\u001b[0m\u001b[1;32m   5852\u001b[0m \u001b[0;34m\u001b[0m\u001b[0m\n\u001b[1;32m   5853\u001b[0m                 \u001b[0;32melse\u001b[0m\u001b[0;34m:\u001b[0m  \u001b[0;31m# [NA, ''] -> 0\u001b[0m\u001b[0;34m\u001b[0m\u001b[0m\n",
      "\u001b[0;32m~/anaconda3/envs/learn-env/lib/python3.6/site-packages/pandas/core/internals.py\u001b[0m in \u001b[0;36mreplace_list\u001b[0;34m(self, src_list, dest_list, inplace, regex, mgr)\u001b[0m\n\u001b[1;32m   3737\u001b[0m             \u001b[0;32mreturn\u001b[0m \u001b[0m_maybe_compare\u001b[0m\u001b[0;34m(\u001b[0m\u001b[0mvalues\u001b[0m\u001b[0;34m,\u001b[0m \u001b[0mgetattr\u001b[0m\u001b[0;34m(\u001b[0m\u001b[0ms\u001b[0m\u001b[0;34m,\u001b[0m \u001b[0;34m'asm8'\u001b[0m\u001b[0;34m,\u001b[0m \u001b[0ms\u001b[0m\u001b[0;34m)\u001b[0m\u001b[0;34m,\u001b[0m \u001b[0moperator\u001b[0m\u001b[0;34m.\u001b[0m\u001b[0meq\u001b[0m\u001b[0;34m)\u001b[0m\u001b[0;34m\u001b[0m\u001b[0m\n\u001b[1;32m   3738\u001b[0m \u001b[0;34m\u001b[0m\u001b[0m\n\u001b[0;32m-> 3739\u001b[0;31m         \u001b[0mmasks\u001b[0m \u001b[0;34m=\u001b[0m \u001b[0;34m[\u001b[0m\u001b[0mcomp\u001b[0m\u001b[0;34m(\u001b[0m\u001b[0ms\u001b[0m\u001b[0;34m)\u001b[0m \u001b[0;32mfor\u001b[0m \u001b[0mi\u001b[0m\u001b[0;34m,\u001b[0m \u001b[0ms\u001b[0m \u001b[0;32min\u001b[0m \u001b[0menumerate\u001b[0m\u001b[0;34m(\u001b[0m\u001b[0msrc_list\u001b[0m\u001b[0;34m)\u001b[0m\u001b[0;34m]\u001b[0m\u001b[0;34m\u001b[0m\u001b[0m\n\u001b[0m\u001b[1;32m   3740\u001b[0m \u001b[0;34m\u001b[0m\u001b[0m\n\u001b[1;32m   3741\u001b[0m         \u001b[0mresult_blocks\u001b[0m \u001b[0;34m=\u001b[0m \u001b[0;34m[\u001b[0m\u001b[0;34m]\u001b[0m\u001b[0;34m\u001b[0m\u001b[0m\n",
      "\u001b[0;32m~/anaconda3/envs/learn-env/lib/python3.6/site-packages/pandas/core/internals.py\u001b[0m in \u001b[0;36m<listcomp>\u001b[0;34m(.0)\u001b[0m\n\u001b[1;32m   3737\u001b[0m             \u001b[0;32mreturn\u001b[0m \u001b[0m_maybe_compare\u001b[0m\u001b[0;34m(\u001b[0m\u001b[0mvalues\u001b[0m\u001b[0;34m,\u001b[0m \u001b[0mgetattr\u001b[0m\u001b[0;34m(\u001b[0m\u001b[0ms\u001b[0m\u001b[0;34m,\u001b[0m \u001b[0;34m'asm8'\u001b[0m\u001b[0;34m,\u001b[0m \u001b[0ms\u001b[0m\u001b[0;34m)\u001b[0m\u001b[0;34m,\u001b[0m \u001b[0moperator\u001b[0m\u001b[0;34m.\u001b[0m\u001b[0meq\u001b[0m\u001b[0;34m)\u001b[0m\u001b[0;34m\u001b[0m\u001b[0m\n\u001b[1;32m   3738\u001b[0m \u001b[0;34m\u001b[0m\u001b[0m\n\u001b[0;32m-> 3739\u001b[0;31m         \u001b[0mmasks\u001b[0m \u001b[0;34m=\u001b[0m \u001b[0;34m[\u001b[0m\u001b[0mcomp\u001b[0m\u001b[0;34m(\u001b[0m\u001b[0ms\u001b[0m\u001b[0;34m)\u001b[0m \u001b[0;32mfor\u001b[0m \u001b[0mi\u001b[0m\u001b[0;34m,\u001b[0m \u001b[0ms\u001b[0m \u001b[0;32min\u001b[0m \u001b[0menumerate\u001b[0m\u001b[0;34m(\u001b[0m\u001b[0msrc_list\u001b[0m\u001b[0;34m)\u001b[0m\u001b[0;34m]\u001b[0m\u001b[0;34m\u001b[0m\u001b[0m\n\u001b[0m\u001b[1;32m   3740\u001b[0m \u001b[0;34m\u001b[0m\u001b[0m\n\u001b[1;32m   3741\u001b[0m         \u001b[0mresult_blocks\u001b[0m \u001b[0;34m=\u001b[0m \u001b[0;34m[\u001b[0m\u001b[0;34m]\u001b[0m\u001b[0;34m\u001b[0m\u001b[0m\n",
      "\u001b[0;32m~/anaconda3/envs/learn-env/lib/python3.6/site-packages/pandas/core/internals.py\u001b[0m in \u001b[0;36mcomp\u001b[0;34m(s)\u001b[0m\n\u001b[1;32m   3735\u001b[0m             \u001b[0;32mif\u001b[0m \u001b[0misna\u001b[0m\u001b[0;34m(\u001b[0m\u001b[0ms\u001b[0m\u001b[0;34m)\u001b[0m\u001b[0;34m:\u001b[0m\u001b[0;34m\u001b[0m\u001b[0m\n\u001b[1;32m   3736\u001b[0m                 \u001b[0;32mreturn\u001b[0m \u001b[0misna\u001b[0m\u001b[0;34m(\u001b[0m\u001b[0mvalues\u001b[0m\u001b[0;34m)\u001b[0m\u001b[0;34m\u001b[0m\u001b[0m\n\u001b[0;32m-> 3737\u001b[0;31m             \u001b[0;32mreturn\u001b[0m \u001b[0m_maybe_compare\u001b[0m\u001b[0;34m(\u001b[0m\u001b[0mvalues\u001b[0m\u001b[0;34m,\u001b[0m \u001b[0mgetattr\u001b[0m\u001b[0;34m(\u001b[0m\u001b[0ms\u001b[0m\u001b[0;34m,\u001b[0m \u001b[0;34m'asm8'\u001b[0m\u001b[0;34m,\u001b[0m \u001b[0ms\u001b[0m\u001b[0;34m)\u001b[0m\u001b[0;34m,\u001b[0m \u001b[0moperator\u001b[0m\u001b[0;34m.\u001b[0m\u001b[0meq\u001b[0m\u001b[0;34m)\u001b[0m\u001b[0;34m\u001b[0m\u001b[0m\n\u001b[0m\u001b[1;32m   3738\u001b[0m \u001b[0;34m\u001b[0m\u001b[0m\n\u001b[1;32m   3739\u001b[0m         \u001b[0mmasks\u001b[0m \u001b[0;34m=\u001b[0m \u001b[0;34m[\u001b[0m\u001b[0mcomp\u001b[0m\u001b[0;34m(\u001b[0m\u001b[0ms\u001b[0m\u001b[0;34m)\u001b[0m \u001b[0;32mfor\u001b[0m \u001b[0mi\u001b[0m\u001b[0;34m,\u001b[0m \u001b[0ms\u001b[0m \u001b[0;32min\u001b[0m \u001b[0menumerate\u001b[0m\u001b[0;34m(\u001b[0m\u001b[0msrc_list\u001b[0m\u001b[0;34m)\u001b[0m\u001b[0;34m]\u001b[0m\u001b[0;34m\u001b[0m\u001b[0m\n",
      "\u001b[0;32m~/anaconda3/envs/learn-env/lib/python3.6/site-packages/pandas/core/internals.py\u001b[0m in \u001b[0;36m_maybe_compare\u001b[0;34m(a, b, op)\u001b[0m\n\u001b[1;32m   5163\u001b[0m         raise TypeError(\n\u001b[1;32m   5164\u001b[0m             \"Cannot compare types {a!r} and {b!r}\".format(a=type_names[0],\n\u001b[0;32m-> 5165\u001b[0;31m                                                           b=type_names[1]))\n\u001b[0m\u001b[1;32m   5166\u001b[0m     \u001b[0;32mreturn\u001b[0m \u001b[0mresult\u001b[0m\u001b[0;34m\u001b[0m\u001b[0m\n\u001b[1;32m   5167\u001b[0m \u001b[0;34m\u001b[0m\u001b[0m\n",
      "\u001b[0;31mTypeError\u001b[0m: Cannot compare types 'ndarray(dtype=uint8)' and 'str'"
     ]
    }
   ],
   "source": [
    "df.first_castle_black.replace({'no': 0}, inplace=True)\n",
    "df.first_castle_white.replace({'no': 0}, inplace=True)"
   ]
  },
  {
   "cell_type": "code",
   "execution_count": null,
   "metadata": {},
   "outputs": [],
   "source": [
    "df.first_castle_black.unique()"
   ]
  },
  {
   "cell_type": "code",
   "execution_count": 37,
   "metadata": {},
   "outputs": [
    {
     "ename": "AttributeError",
     "evalue": "'DataFrame' object has no attribute 'first_5_cap_tie'",
     "output_type": "error",
     "traceback": [
      "\u001b[0;31m---------------------------------------------------------------------------\u001b[0m",
      "\u001b[0;31mAttributeError\u001b[0m                            Traceback (most recent call last)",
      "\u001b[0;32m<ipython-input-37-61910322bcdc>\u001b[0m in \u001b[0;36m<module>\u001b[0;34m()\u001b[0m\n\u001b[0;32m----> 1\u001b[0;31m \u001b[0mdf\u001b[0m\u001b[0;34m.\u001b[0m\u001b[0mfirst_5_cap_tie\u001b[0m\u001b[0;34m.\u001b[0m\u001b[0munique\u001b[0m\u001b[0;34m(\u001b[0m\u001b[0;34m)\u001b[0m\u001b[0;34m\u001b[0m\u001b[0m\n\u001b[0m",
      "\u001b[0;32m~/anaconda3/envs/learn-env/lib/python3.6/site-packages/pandas/core/generic.py\u001b[0m in \u001b[0;36m__getattr__\u001b[0;34m(self, name)\u001b[0m\n\u001b[1;32m   4374\u001b[0m             \u001b[0;32mif\u001b[0m \u001b[0mself\u001b[0m\u001b[0;34m.\u001b[0m\u001b[0m_info_axis\u001b[0m\u001b[0;34m.\u001b[0m\u001b[0m_can_hold_identifiers_and_holds_name\u001b[0m\u001b[0;34m(\u001b[0m\u001b[0mname\u001b[0m\u001b[0;34m)\u001b[0m\u001b[0;34m:\u001b[0m\u001b[0;34m\u001b[0m\u001b[0m\n\u001b[1;32m   4375\u001b[0m                 \u001b[0;32mreturn\u001b[0m \u001b[0mself\u001b[0m\u001b[0;34m[\u001b[0m\u001b[0mname\u001b[0m\u001b[0;34m]\u001b[0m\u001b[0;34m\u001b[0m\u001b[0m\n\u001b[0;32m-> 4376\u001b[0;31m             \u001b[0;32mreturn\u001b[0m \u001b[0mobject\u001b[0m\u001b[0;34m.\u001b[0m\u001b[0m__getattribute__\u001b[0m\u001b[0;34m(\u001b[0m\u001b[0mself\u001b[0m\u001b[0;34m,\u001b[0m \u001b[0mname\u001b[0m\u001b[0;34m)\u001b[0m\u001b[0;34m\u001b[0m\u001b[0m\n\u001b[0m\u001b[1;32m   4377\u001b[0m \u001b[0;34m\u001b[0m\u001b[0m\n\u001b[1;32m   4378\u001b[0m     \u001b[0;32mdef\u001b[0m \u001b[0m__setattr__\u001b[0m\u001b[0;34m(\u001b[0m\u001b[0mself\u001b[0m\u001b[0;34m,\u001b[0m \u001b[0mname\u001b[0m\u001b[0;34m,\u001b[0m \u001b[0mvalue\u001b[0m\u001b[0;34m)\u001b[0m\u001b[0;34m:\u001b[0m\u001b[0;34m\u001b[0m\u001b[0m\n",
      "\u001b[0;31mAttributeError\u001b[0m: 'DataFrame' object has no attribute 'first_5_cap_tie'"
     ]
    }
   ],
   "source": [
    "df.first_5_cap_tie.unique()"
   ]
  },
  {
   "cell_type": "code",
   "execution_count": 38,
   "metadata": {
    "scrolled": true
   },
   "outputs": [
    {
     "ename": "TypeError",
     "evalue": "unsupported operand type(s) for -: 'str' and 'str'",
     "output_type": "error",
     "traceback": [
      "\u001b[0;31m---------------------------------------------------------------------------\u001b[0m",
      "\u001b[0;31mTypeError\u001b[0m                                 Traceback (most recent call last)",
      "\u001b[0;32m~/anaconda3/envs/learn-env/lib/python3.6/site-packages/pandas/core/ops.py\u001b[0m in \u001b[0;36mna_op\u001b[0;34m(x, y)\u001b[0m\n\u001b[1;32m   1011\u001b[0m         \u001b[0;32mtry\u001b[0m\u001b[0;34m:\u001b[0m\u001b[0;34m\u001b[0m\u001b[0m\n\u001b[0;32m-> 1012\u001b[0;31m             \u001b[0mresult\u001b[0m \u001b[0;34m=\u001b[0m \u001b[0mexpressions\u001b[0m\u001b[0;34m.\u001b[0m\u001b[0mevaluate\u001b[0m\u001b[0;34m(\u001b[0m\u001b[0mop\u001b[0m\u001b[0;34m,\u001b[0m \u001b[0mstr_rep\u001b[0m\u001b[0;34m,\u001b[0m \u001b[0mx\u001b[0m\u001b[0;34m,\u001b[0m \u001b[0my\u001b[0m\u001b[0;34m,\u001b[0m \u001b[0;34m**\u001b[0m\u001b[0meval_kwargs\u001b[0m\u001b[0;34m)\u001b[0m\u001b[0;34m\u001b[0m\u001b[0m\n\u001b[0m\u001b[1;32m   1013\u001b[0m         \u001b[0;32mexcept\u001b[0m \u001b[0mTypeError\u001b[0m\u001b[0;34m:\u001b[0m\u001b[0;34m\u001b[0m\u001b[0m\n",
      "\u001b[0;32m~/anaconda3/envs/learn-env/lib/python3.6/site-packages/pandas/core/computation/expressions.py\u001b[0m in \u001b[0;36mevaluate\u001b[0;34m(op, op_str, a, b, use_numexpr, **eval_kwargs)\u001b[0m\n\u001b[1;32m    204\u001b[0m     \u001b[0;32mif\u001b[0m \u001b[0muse_numexpr\u001b[0m\u001b[0;34m:\u001b[0m\u001b[0;34m\u001b[0m\u001b[0m\n\u001b[0;32m--> 205\u001b[0;31m         \u001b[0;32mreturn\u001b[0m \u001b[0m_evaluate\u001b[0m\u001b[0;34m(\u001b[0m\u001b[0mop\u001b[0m\u001b[0;34m,\u001b[0m \u001b[0mop_str\u001b[0m\u001b[0;34m,\u001b[0m \u001b[0ma\u001b[0m\u001b[0;34m,\u001b[0m \u001b[0mb\u001b[0m\u001b[0;34m,\u001b[0m \u001b[0;34m**\u001b[0m\u001b[0meval_kwargs\u001b[0m\u001b[0;34m)\u001b[0m\u001b[0;34m\u001b[0m\u001b[0m\n\u001b[0m\u001b[1;32m    206\u001b[0m     \u001b[0;32mreturn\u001b[0m \u001b[0m_evaluate_standard\u001b[0m\u001b[0;34m(\u001b[0m\u001b[0mop\u001b[0m\u001b[0;34m,\u001b[0m \u001b[0mop_str\u001b[0m\u001b[0;34m,\u001b[0m \u001b[0ma\u001b[0m\u001b[0;34m,\u001b[0m \u001b[0mb\u001b[0m\u001b[0;34m)\u001b[0m\u001b[0;34m\u001b[0m\u001b[0m\n",
      "\u001b[0;32m~/anaconda3/envs/learn-env/lib/python3.6/site-packages/pandas/core/computation/expressions.py\u001b[0m in \u001b[0;36m_evaluate_standard\u001b[0;34m(op, op_str, a, b, **eval_kwargs)\u001b[0m\n\u001b[1;32m     64\u001b[0m     \u001b[0;32mwith\u001b[0m \u001b[0mnp\u001b[0m\u001b[0;34m.\u001b[0m\u001b[0merrstate\u001b[0m\u001b[0;34m(\u001b[0m\u001b[0mall\u001b[0m\u001b[0;34m=\u001b[0m\u001b[0;34m'ignore'\u001b[0m\u001b[0;34m)\u001b[0m\u001b[0;34m:\u001b[0m\u001b[0;34m\u001b[0m\u001b[0m\n\u001b[0;32m---> 65\u001b[0;31m         \u001b[0;32mreturn\u001b[0m \u001b[0mop\u001b[0m\u001b[0;34m(\u001b[0m\u001b[0ma\u001b[0m\u001b[0;34m,\u001b[0m \u001b[0mb\u001b[0m\u001b[0;34m)\u001b[0m\u001b[0;34m\u001b[0m\u001b[0m\n\u001b[0m\u001b[1;32m     66\u001b[0m \u001b[0;34m\u001b[0m\u001b[0m\n",
      "\u001b[0;31mTypeError\u001b[0m: unsupported operand type(s) for -: 'str' and 'str'",
      "\nDuring handling of the above exception, another exception occurred:\n",
      "\u001b[0;31mTypeError\u001b[0m                                 Traceback (most recent call last)",
      "\u001b[0;32m~/anaconda3/envs/learn-env/lib/python3.6/site-packages/pandas/core/ops.py\u001b[0m in \u001b[0;36msafe_na_op\u001b[0;34m(lvalues, rvalues)\u001b[0m\n\u001b[1;32m   1032\u001b[0m             \u001b[0;32mwith\u001b[0m \u001b[0mnp\u001b[0m\u001b[0;34m.\u001b[0m\u001b[0merrstate\u001b[0m\u001b[0;34m(\u001b[0m\u001b[0mall\u001b[0m\u001b[0;34m=\u001b[0m\u001b[0;34m'ignore'\u001b[0m\u001b[0;34m)\u001b[0m\u001b[0;34m:\u001b[0m\u001b[0;34m\u001b[0m\u001b[0m\n\u001b[0;32m-> 1033\u001b[0;31m                 \u001b[0;32mreturn\u001b[0m \u001b[0mna_op\u001b[0m\u001b[0;34m(\u001b[0m\u001b[0mlvalues\u001b[0m\u001b[0;34m,\u001b[0m \u001b[0mrvalues\u001b[0m\u001b[0;34m)\u001b[0m\u001b[0;34m\u001b[0m\u001b[0m\n\u001b[0m\u001b[1;32m   1034\u001b[0m         \u001b[0;32mexcept\u001b[0m \u001b[0mException\u001b[0m\u001b[0;34m:\u001b[0m\u001b[0;34m\u001b[0m\u001b[0m\n",
      "\u001b[0;32m~/anaconda3/envs/learn-env/lib/python3.6/site-packages/pandas/core/ops.py\u001b[0m in \u001b[0;36mna_op\u001b[0;34m(x, y)\u001b[0m\n\u001b[1;32m   1022\u001b[0m                 \u001b[0mmask\u001b[0m \u001b[0;34m=\u001b[0m \u001b[0mnotna\u001b[0m\u001b[0;34m(\u001b[0m\u001b[0mx\u001b[0m\u001b[0;34m)\u001b[0m\u001b[0;34m\u001b[0m\u001b[0m\n\u001b[0;32m-> 1023\u001b[0;31m                 \u001b[0mresult\u001b[0m\u001b[0;34m[\u001b[0m\u001b[0mmask\u001b[0m\u001b[0;34m]\u001b[0m \u001b[0;34m=\u001b[0m \u001b[0mop\u001b[0m\u001b[0;34m(\u001b[0m\u001b[0mx\u001b[0m\u001b[0;34m[\u001b[0m\u001b[0mmask\u001b[0m\u001b[0;34m]\u001b[0m\u001b[0;34m,\u001b[0m \u001b[0my\u001b[0m\u001b[0;34m)\u001b[0m\u001b[0;34m\u001b[0m\u001b[0m\n\u001b[0m\u001b[1;32m   1024\u001b[0m \u001b[0;34m\u001b[0m\u001b[0m\n",
      "\u001b[0;31mTypeError\u001b[0m: unsupported operand type(s) for -: 'str' and 'str'",
      "\nDuring handling of the above exception, another exception occurred:\n",
      "\u001b[0;31mTypeError\u001b[0m                                 Traceback (most recent call last)",
      "\u001b[0;32m<ipython-input-38-916f94c7d798>\u001b[0m in \u001b[0;36m<module>\u001b[0;34m()\u001b[0m\n\u001b[1;32m      1\u001b[0m \u001b[0;32mfor\u001b[0m \u001b[0mcol\u001b[0m \u001b[0;32min\u001b[0m \u001b[0mdf\u001b[0m\u001b[0;34m.\u001b[0m\u001b[0mcolumns\u001b[0m\u001b[0;34m:\u001b[0m\u001b[0;34m\u001b[0m\u001b[0m\n\u001b[0;32m----> 2\u001b[0;31m     \u001b[0mdf\u001b[0m\u001b[0;34m[\u001b[0m\u001b[0mcol\u001b[0m\u001b[0;34m]\u001b[0m \u001b[0;34m=\u001b[0m \u001b[0;34m(\u001b[0m\u001b[0mdf\u001b[0m\u001b[0;34m[\u001b[0m\u001b[0mcol\u001b[0m\u001b[0;34m]\u001b[0m \u001b[0;34m-\u001b[0m \u001b[0mmin\u001b[0m\u001b[0;34m(\u001b[0m\u001b[0mdf\u001b[0m\u001b[0;34m[\u001b[0m\u001b[0mcol\u001b[0m\u001b[0;34m]\u001b[0m\u001b[0;34m)\u001b[0m\u001b[0;34m)\u001b[0m \u001b[0;34m/\u001b[0m \u001b[0;34m(\u001b[0m\u001b[0mmax\u001b[0m\u001b[0;34m(\u001b[0m\u001b[0mdf\u001b[0m\u001b[0;34m[\u001b[0m\u001b[0mcol\u001b[0m\u001b[0;34m]\u001b[0m\u001b[0;34m)\u001b[0m \u001b[0;34m-\u001b[0m \u001b[0mmin\u001b[0m\u001b[0;34m(\u001b[0m\u001b[0mdf\u001b[0m\u001b[0;34m[\u001b[0m\u001b[0mcol\u001b[0m\u001b[0;34m]\u001b[0m\u001b[0;34m)\u001b[0m\u001b[0;34m)\u001b[0m\u001b[0;34m\u001b[0m\u001b[0m\n\u001b[0m",
      "\u001b[0;32m~/anaconda3/envs/learn-env/lib/python3.6/site-packages/pandas/core/ops.py\u001b[0m in \u001b[0;36mwrapper\u001b[0;34m(left, right)\u001b[0m\n\u001b[1;32m   1067\u001b[0m             \u001b[0mrvalues\u001b[0m \u001b[0;34m=\u001b[0m \u001b[0mrvalues\u001b[0m\u001b[0;34m.\u001b[0m\u001b[0mvalues\u001b[0m\u001b[0;34m\u001b[0m\u001b[0m\n\u001b[1;32m   1068\u001b[0m \u001b[0;34m\u001b[0m\u001b[0m\n\u001b[0;32m-> 1069\u001b[0;31m         \u001b[0mresult\u001b[0m \u001b[0;34m=\u001b[0m \u001b[0msafe_na_op\u001b[0m\u001b[0;34m(\u001b[0m\u001b[0mlvalues\u001b[0m\u001b[0;34m,\u001b[0m \u001b[0mrvalues\u001b[0m\u001b[0;34m)\u001b[0m\u001b[0;34m\u001b[0m\u001b[0m\n\u001b[0m\u001b[1;32m   1070\u001b[0m         return construct_result(left, result,\n\u001b[1;32m   1071\u001b[0m                                 index=left.index, name=res_name, dtype=None)\n",
      "\u001b[0;32m~/anaconda3/envs/learn-env/lib/python3.6/site-packages/pandas/core/ops.py\u001b[0m in \u001b[0;36msafe_na_op\u001b[0;34m(lvalues, rvalues)\u001b[0m\n\u001b[1;32m   1035\u001b[0m             \u001b[0;32mif\u001b[0m \u001b[0mis_object_dtype\u001b[0m\u001b[0;34m(\u001b[0m\u001b[0mlvalues\u001b[0m\u001b[0;34m)\u001b[0m\u001b[0;34m:\u001b[0m\u001b[0;34m\u001b[0m\u001b[0m\n\u001b[1;32m   1036\u001b[0m                 return libalgos.arrmap_object(lvalues,\n\u001b[0;32m-> 1037\u001b[0;31m                                               lambda x: op(x, rvalues))\n\u001b[0m\u001b[1;32m   1038\u001b[0m             \u001b[0;32mraise\u001b[0m\u001b[0;34m\u001b[0m\u001b[0m\n\u001b[1;32m   1039\u001b[0m \u001b[0;34m\u001b[0m\u001b[0m\n",
      "\u001b[0;32mpandas/_libs/algos_common_helper.pxi\u001b[0m in \u001b[0;36mpandas._libs.algos.arrmap_object\u001b[0;34m()\u001b[0m\n",
      "\u001b[0;32m~/anaconda3/envs/learn-env/lib/python3.6/site-packages/pandas/core/ops.py\u001b[0m in \u001b[0;36m<lambda>\u001b[0;34m(x)\u001b[0m\n\u001b[1;32m   1035\u001b[0m             \u001b[0;32mif\u001b[0m \u001b[0mis_object_dtype\u001b[0m\u001b[0;34m(\u001b[0m\u001b[0mlvalues\u001b[0m\u001b[0;34m)\u001b[0m\u001b[0;34m:\u001b[0m\u001b[0;34m\u001b[0m\u001b[0m\n\u001b[1;32m   1036\u001b[0m                 return libalgos.arrmap_object(lvalues,\n\u001b[0;32m-> 1037\u001b[0;31m                                               lambda x: op(x, rvalues))\n\u001b[0m\u001b[1;32m   1038\u001b[0m             \u001b[0;32mraise\u001b[0m\u001b[0;34m\u001b[0m\u001b[0m\n\u001b[1;32m   1039\u001b[0m \u001b[0;34m\u001b[0m\u001b[0m\n",
      "\u001b[0;31mTypeError\u001b[0m: unsupported operand type(s) for -: 'str' and 'str'"
     ]
    }
   ],
   "source": [
    "for col in df.columns:\n",
    "    df[col] = (df[col] - min(df[col])) / (max(df[col]) - min(df[col]))"
   ]
  },
  {
   "cell_type": "code",
   "execution_count": 45,
   "metadata": {
    "scrolled": true
   },
   "outputs": [
    {
     "data": {
      "text/plain": [
       "Index(['rated', 'turns', 'white_rating', 'black_rating', 'opening_ply',\n",
       "       'rating_difference', 'minutes', 'increment_secs', 'first_capture',\n",
       "       'first_5_captures',\n",
       "       ...\n",
       "       'opening_eco_E87', 'opening_eco_E88', 'opening_eco_E90',\n",
       "       'opening_eco_E91', 'opening_eco_E92', 'opening_eco_E94',\n",
       "       'opening_eco_E95', 'opening_eco_E97', 'opening_eco_E98',\n",
       "       'rating_difference_norm'],\n",
       "      dtype='object', length=400)"
      ]
     },
     "execution_count": 45,
     "metadata": {},
     "output_type": "execute_result"
    }
   ],
   "source": [
    "y = df[['winner']]\n",
    "X = df.drop(['winner'], axis=1)\n",
    "\n",
    "X.columns"
   ]
  },
  {
   "cell_type": "code",
   "execution_count": 46,
   "metadata": {},
   "outputs": [
    {
     "data": {
      "text/plain": [
       "white    9740\n",
       "black    8892\n",
       "Name: winner, dtype: int64"
      ]
     },
     "execution_count": 46,
     "metadata": {},
     "output_type": "execute_result"
    }
   ],
   "source": [
    "y.winner.value_counts()"
   ]
  },
  {
   "cell_type": "code",
   "execution_count": 51,
   "metadata": {},
   "outputs": [
    {
     "name": "stdout",
     "output_type": "stream",
     "text": [
      "(18632, 400)\n",
      "(18632, 1)\n"
     ]
    }
   ],
   "source": [
    "print(X.shape)\n",
    "print(y.shape)"
   ]
  },
  {
   "cell_type": "code",
   "execution_count": 52,
   "metadata": {
    "scrolled": true
   },
   "outputs": [],
   "source": [
    "#Normalize the Data\n",
    "#for col in df.columns:\n",
    "#    df[col] = (df[col]-min(df[col]))/ (max(df[col]) - min(df[col]))\n",
    "\n",
    "# Split the data into train and test sets.\n",
    "X_train, X_test, y_train, y_test = train_test_split(X, y)"
   ]
  },
  {
   "cell_type": "code",
   "execution_count": 53,
   "metadata": {},
   "outputs": [
    {
     "name": "stderr",
     "output_type": "stream",
     "text": [
      "/Users/paulw/anaconda3/envs/learn-env/lib/python3.6/site-packages/sklearn/linear_model/logistic.py:433: FutureWarning: Default solver will be changed to 'lbfgs' in 0.22. Specify a solver to silence this warning.\n",
      "  FutureWarning)\n",
      "/Users/paulw/anaconda3/envs/learn-env/lib/python3.6/site-packages/sklearn/utils/validation.py:761: DataConversionWarning: A column-vector y was passed when a 1d array was expected. Please change the shape of y to (n_samples, ), for example using ravel().\n",
      "  y = column_or_1d(y, warn=True)\n"
     ]
    },
    {
     "ename": "ValueError",
     "evalue": "Data is not binary and pos_label is not specified",
     "output_type": "error",
     "traceback": [
      "\u001b[0;31m---------------------------------------------------------------------------\u001b[0m",
      "\u001b[0;31mValueError\u001b[0m                                Traceback (most recent call last)",
      "\u001b[0;32m<ipython-input-53-083acf03c672>\u001b[0m in \u001b[0;36m<module>\u001b[0;34m()\u001b[0m\n\u001b[1;32m      5\u001b[0m \u001b[0my_score\u001b[0m \u001b[0;34m=\u001b[0m \u001b[0mlogreg\u001b[0m\u001b[0;34m.\u001b[0m\u001b[0mfit\u001b[0m\u001b[0;34m(\u001b[0m\u001b[0mX_train\u001b[0m\u001b[0;34m,\u001b[0m \u001b[0my_train\u001b[0m\u001b[0;34m)\u001b[0m\u001b[0;34m.\u001b[0m\u001b[0mdecision_function\u001b[0m\u001b[0;34m(\u001b[0m\u001b[0mX_test\u001b[0m\u001b[0;34m)\u001b[0m\u001b[0;34m\u001b[0m\u001b[0m\n\u001b[1;32m      6\u001b[0m \u001b[0;31m# False Positive Rate (fpr) and True Positive Rate (tpr):\u001b[0m\u001b[0;34m\u001b[0m\u001b[0;34m\u001b[0m\u001b[0m\n\u001b[0;32m----> 7\u001b[0;31m \u001b[0mfpr\u001b[0m\u001b[0;34m,\u001b[0m \u001b[0mtpr\u001b[0m\u001b[0;34m,\u001b[0m \u001b[0mthresholds\u001b[0m \u001b[0;34m=\u001b[0m \u001b[0mroc_curve\u001b[0m\u001b[0;34m(\u001b[0m\u001b[0my_test\u001b[0m\u001b[0;34m,\u001b[0m \u001b[0my_score\u001b[0m\u001b[0;34m)\u001b[0m\u001b[0;34m\u001b[0m\u001b[0m\n\u001b[0m\u001b[1;32m      8\u001b[0m \u001b[0;34m\u001b[0m\u001b[0m\n\u001b[1;32m      9\u001b[0m \u001b[0msns\u001b[0m\u001b[0;34m.\u001b[0m\u001b[0mset_style\u001b[0m\u001b[0;34m(\u001b[0m\u001b[0;34m\"darkgrid\"\u001b[0m\u001b[0;34m,\u001b[0m \u001b[0;34m{\u001b[0m\u001b[0;34m\"axes.facecolor\"\u001b[0m\u001b[0;34m:\u001b[0m \u001b[0;34m\".9\"\u001b[0m\u001b[0;34m}\u001b[0m\u001b[0;34m)\u001b[0m\u001b[0;34m\u001b[0m\u001b[0m\n",
      "\u001b[0;32m~/anaconda3/envs/learn-env/lib/python3.6/site-packages/sklearn/metrics/ranking.py\u001b[0m in \u001b[0;36mroc_curve\u001b[0;34m(y_true, y_score, pos_label, sample_weight, drop_intermediate)\u001b[0m\n\u001b[1;32m    616\u001b[0m     \"\"\"\n\u001b[1;32m    617\u001b[0m     fps, tps, thresholds = _binary_clf_curve(\n\u001b[0;32m--> 618\u001b[0;31m         y_true, y_score, pos_label=pos_label, sample_weight=sample_weight)\n\u001b[0m\u001b[1;32m    619\u001b[0m \u001b[0;34m\u001b[0m\u001b[0m\n\u001b[1;32m    620\u001b[0m     \u001b[0;31m# Attempt to drop thresholds corresponding to points in between and\u001b[0m\u001b[0;34m\u001b[0m\u001b[0;34m\u001b[0m\u001b[0m\n",
      "\u001b[0;32m~/anaconda3/envs/learn-env/lib/python3.6/site-packages/sklearn/metrics/ranking.py\u001b[0m in \u001b[0;36m_binary_clf_curve\u001b[0;34m(y_true, y_score, pos_label, sample_weight)\u001b[0m\n\u001b[1;32m    414\u001b[0m              \u001b[0mnp\u001b[0m\u001b[0;34m.\u001b[0m\u001b[0marray_equal\u001b[0m\u001b[0;34m(\u001b[0m\u001b[0mclasses\u001b[0m\u001b[0;34m,\u001b[0m \u001b[0;34m[\u001b[0m\u001b[0;34m-\u001b[0m\u001b[0;36m1\u001b[0m\u001b[0;34m]\u001b[0m\u001b[0;34m)\u001b[0m \u001b[0;32mor\u001b[0m\u001b[0;34m\u001b[0m\u001b[0m\n\u001b[1;32m    415\u001b[0m              np.array_equal(classes, [1]))):\n\u001b[0;32m--> 416\u001b[0;31m         \u001b[0;32mraise\u001b[0m \u001b[0mValueError\u001b[0m\u001b[0;34m(\u001b[0m\u001b[0;34m\"Data is not binary and pos_label is not specified\"\u001b[0m\u001b[0;34m)\u001b[0m\u001b[0;34m\u001b[0m\u001b[0m\n\u001b[0m\u001b[1;32m    417\u001b[0m     \u001b[0;32melif\u001b[0m \u001b[0mpos_label\u001b[0m \u001b[0;32mis\u001b[0m \u001b[0;32mNone\u001b[0m\u001b[0;34m:\u001b[0m\u001b[0;34m\u001b[0m\u001b[0m\n\u001b[1;32m    418\u001b[0m         \u001b[0mpos_label\u001b[0m \u001b[0;34m=\u001b[0m \u001b[0;36m1.\u001b[0m\u001b[0;34m\u001b[0m\u001b[0m\n",
      "\u001b[0;31mValueError\u001b[0m: Data is not binary and pos_label is not specified"
     ]
    }
   ],
   "source": [
    "#Initial Model\n",
    "logreg = LogisticRegression(fit_intercept = False)\n",
    "\n",
    "# Probability scores for test set:\n",
    "y_score = logreg.fit(X_train, y_train).decision_function(X_test)\n",
    "# False Positive Rate (fpr) and True Positive Rate (tpr):\n",
    "fpr, tpr, thresholds = roc_curve(y_test, y_score)\n",
    "\n",
    "sns.set_style(\"darkgrid\", {\"axes.facecolor\": \".9\"})\n",
    "\n",
    "print('AUC: {}'.format(auc(fpr, tpr)))\n",
    "plt.figure(figsize=(10,8))\n",
    "lw = 2\n",
    "plt.plot(fpr, tpr, color='darkorange',\n",
    "         lw=lw, label='ROC curve')\n",
    "plt.plot([0, 1], [0, 1], color='navy', lw=lw, linestyle='--')\n",
    "plt.xlim([0.0, 1.0])\n",
    "plt.ylim([0.0, 1.05])\n",
    "plt.yticks([i/20.0 for i in range(21)])\n",
    "plt.xticks([i/20.0 for i in range(21)])\n",
    "plt.xlabel('False Positive Rate')\n",
    "plt.ylabel('True Positive Rate')\n",
    "plt.title('Receiver operating characteristic (ROC) Curve')\n",
    "plt.legend(loc=\"best\")\n",
    "plt.show()"
   ]
  },
  {
   "cell_type": "code",
   "execution_count": 48,
   "metadata": {},
   "outputs": [
    {
     "ename": "AttributeError",
     "evalue": "'DataFrame' object has no attribute 'value_counts'",
     "output_type": "error",
     "traceback": [
      "\u001b[0;31m---------------------------------------------------------------------------\u001b[0m",
      "\u001b[0;31mAttributeError\u001b[0m                            Traceback (most recent call last)",
      "\u001b[0;32m<ipython-input-48-e1ee41e186d4>\u001b[0m in \u001b[0;36m<module>\u001b[0;34m()\u001b[0m\n\u001b[0;32m----> 1\u001b[0;31m \u001b[0mprint\u001b[0m\u001b[0;34m(\u001b[0m\u001b[0my_train\u001b[0m\u001b[0;34m.\u001b[0m\u001b[0mvalue_counts\u001b[0m\u001b[0;34m(\u001b[0m\u001b[0;34m)\u001b[0m\u001b[0;34m)\u001b[0m\u001b[0;34m\u001b[0m\u001b[0m\n\u001b[0m\u001b[1;32m      2\u001b[0m \u001b[0mprint\u001b[0m\u001b[0;34m(\u001b[0m\u001b[0my_test\u001b[0m\u001b[0;34m.\u001b[0m\u001b[0mvalue_counts\u001b[0m\u001b[0;34m(\u001b[0m\u001b[0;34m)\u001b[0m\u001b[0;34m)\u001b[0m\u001b[0;34m\u001b[0m\u001b[0m\n",
      "\u001b[0;32m~/anaconda3/envs/learn-env/lib/python3.6/site-packages/pandas/core/generic.py\u001b[0m in \u001b[0;36m__getattr__\u001b[0;34m(self, name)\u001b[0m\n\u001b[1;32m   4374\u001b[0m             \u001b[0;32mif\u001b[0m \u001b[0mself\u001b[0m\u001b[0;34m.\u001b[0m\u001b[0m_info_axis\u001b[0m\u001b[0;34m.\u001b[0m\u001b[0m_can_hold_identifiers_and_holds_name\u001b[0m\u001b[0;34m(\u001b[0m\u001b[0mname\u001b[0m\u001b[0;34m)\u001b[0m\u001b[0;34m:\u001b[0m\u001b[0;34m\u001b[0m\u001b[0m\n\u001b[1;32m   4375\u001b[0m                 \u001b[0;32mreturn\u001b[0m \u001b[0mself\u001b[0m\u001b[0;34m[\u001b[0m\u001b[0mname\u001b[0m\u001b[0;34m]\u001b[0m\u001b[0;34m\u001b[0m\u001b[0m\n\u001b[0;32m-> 4376\u001b[0;31m             \u001b[0;32mreturn\u001b[0m \u001b[0mobject\u001b[0m\u001b[0;34m.\u001b[0m\u001b[0m__getattribute__\u001b[0m\u001b[0;34m(\u001b[0m\u001b[0mself\u001b[0m\u001b[0;34m,\u001b[0m \u001b[0mname\u001b[0m\u001b[0;34m)\u001b[0m\u001b[0;34m\u001b[0m\u001b[0m\n\u001b[0m\u001b[1;32m   4377\u001b[0m \u001b[0;34m\u001b[0m\u001b[0m\n\u001b[1;32m   4378\u001b[0m     \u001b[0;32mdef\u001b[0m \u001b[0m__setattr__\u001b[0m\u001b[0;34m(\u001b[0m\u001b[0mself\u001b[0m\u001b[0;34m,\u001b[0m \u001b[0mname\u001b[0m\u001b[0;34m,\u001b[0m \u001b[0mvalue\u001b[0m\u001b[0;34m)\u001b[0m\u001b[0;34m:\u001b[0m\u001b[0;34m\u001b[0m\u001b[0m\n",
      "\u001b[0;31mAttributeError\u001b[0m: 'DataFrame' object has no attribute 'value_counts'"
     ]
    }
   ],
   "source": [
    "print(y_train.value_counts())\n",
    "print(y_test.value_counts())"
   ]
  },
  {
   "cell_type": "code",
   "execution_count": 42,
   "metadata": {},
   "outputs": [
    {
     "name": "stderr",
     "output_type": "stream",
     "text": [
      "/Users/paulw/anaconda3/envs/learn-env/lib/python3.6/site-packages/sklearn/utils/validation.py:761: DataConversionWarning: A column-vector y was passed when a 1d array was expected. Please change the shape of y to (n_samples, ), for example using ravel().\n",
      "  y = column_or_1d(y, warn=True)\n",
      "/Users/paulw/anaconda3/envs/learn-env/lib/python3.6/site-packages/sklearn/linear_model/logistic.py:758: ConvergenceWarning: lbfgs failed to converge. Increase the number of iterations.\n",
      "  \"of iterations.\", ConvergenceWarning)\n"
     ]
    },
    {
     "data": {
      "text/plain": [
       "LogisticRegression(C=1000000000000.0, class_weight=None, dual=False,\n",
       "          fit_intercept=False, intercept_scaling=1, max_iter=100,\n",
       "          multi_class='warn', n_jobs=None, penalty='l2', random_state=None,\n",
       "          solver='lbfgs', tol=0.0001, verbose=0, warm_start=False)"
      ]
     },
     "execution_count": 42,
     "metadata": {},
     "output_type": "execute_result"
    }
   ],
   "source": [
    "# Fit a model\n",
    "logreg = LogisticRegression(fit_intercept = False, C = 1e12, solver='lbfgs') #Starter code\n",
    "\n",
    "model_log = logreg.fit(X_train, y_train)\n",
    "model_log #Preview model params"
   ]
  },
  {
   "cell_type": "code",
   "execution_count": null,
   "metadata": {},
   "outputs": [],
   "source": [
    "# Predict\n",
    "y_hat_test = logreg.predict(X_test)\n",
    "y_hat_train = logreg.predict(X_train)"
   ]
  },
  {
   "cell_type": "code",
   "execution_count": null,
   "metadata": {},
   "outputs": [],
   "source": [
    "# Initial Evaluation:\n",
    "residuals = y_train - y_hat_train\n",
    "print(pd.Series(residuals).value_counts())\n",
    "print(pd.Series(residuals).value_counts(normalize=True))"
   ]
  },
  {
   "cell_type": "code",
   "execution_count": null,
   "metadata": {},
   "outputs": [],
   "source": [
    "from sklearn.metrics import confusion_matrix\n",
    "\n",
    "cnf_matrix = confusion_matrix(y_hat_test, y_test)\n",
    "print('Confusion Matrix:\\n', cnf_matrix)"
   ]
  },
  {
   "cell_type": "code",
   "execution_count": null,
   "metadata": {},
   "outputs": [],
   "source": [
    "# Creating function to plot confusion matrices:\n",
    "def plot_confusion_matrix(cm, classes,\n",
    "                          normalize=False,\n",
    "                          title='Confusion matrix',\n",
    "                          cmap=plt.cm.Blues):\n",
    "    #Check if Normalization Option is Set to True. If so, normalize the raw confusion matrix before visualizing\n",
    "    if normalize:\n",
    "        cm = cm.astype('float') / cm.sum(axis=1)[:, np.newaxis]\n",
    "        print(\"Normalized confusion matrix\")\n",
    "    else:\n",
    "        print('Confusion matrix, without normalization')\n",
    "        \n",
    "    #Print the confusion matrix\n",
    "    print(cm)\n",
    "    \n",
    "    #Create the basic matrix.\n",
    "    plt.imshow(cm, interpolation='nearest', cmap=cmap)\n",
    "    \n",
    "    #Add title and Axis Labels\n",
    "    plt.title(title)\n",
    "    plt.colorbar()\n",
    "    tick_marks = np.arange(len(classes))\n",
    "    plt.xticks(tick_marks, classes, rotation=45)\n",
    "    plt.yticks(tick_marks, classes)\n",
    "\n",
    "    fmt = '.2f' if normalize else 'd'\n",
    "    thresh = cm.max() / 2.\n",
    "    for i, j in itertools.product(range(cm.shape[0]), range(cm.shape[1])):\n",
    "        plt.text(j, i, format(cm[i, j], fmt),\n",
    "                 horizontalalignment=\"center\",\n",
    "                 color=\"white\" if cm[i, j] > thresh else \"black\")\n",
    "\n",
    "    plt.tight_layout()\n",
    "    plt.ylabel('True Label')\n",
    "    plt.xlabel('Predicted Label')"
   ]
  },
  {
   "cell_type": "code",
   "execution_count": null,
   "metadata": {},
   "outputs": [],
   "source": [
    "# Visualizing Normalized CNF Matrix:\n",
    "plot_confusion_matrix(cnf_matrix, classes=class_names, normalize=True, title='Normed CNF Matrix')\n",
    "plt.show()"
   ]
  },
  {
   "cell_type": "code",
   "execution_count": null,
   "metadata": {
    "scrolled": true
   },
   "outputs": [],
   "source": [
    "# Visualizing CNF Matrix:\n",
    "plt.imshow(cnf_matrix,  cmap=plt.cm.Blues) #Create the basic matrix.\n",
    "\n",
    "#Add title and Axis Labels\n",
    "plt.title('Confusion Matrix')\n",
    "plt.ylabel('True Label')\n",
    "plt.xlabel('Predicted Label')\n",
    "\n",
    "#Add appropriate Axis Scales\n",
    "class_names = set(y) #Get class labels to add to matrix\n",
    "tick_marks = np.arange(len(class_names))\n",
    "plt.xticks(tick_marks, class_names, rotation=45)\n",
    "plt.yticks(tick_marks, class_names)\n",
    "\n",
    "#Add Labels to Each Cell\n",
    "thresh = cnf_matrix.max() / 2. #Used for text coloring below\n",
    "#Here we iterate through the confusion matrix and append labels to our visualization.\n",
    "for i, j in itertools.product(range(cnf_matrix.shape[0]), range(cnf_matrix.shape[1])):\n",
    "        plt.text(j, i, cnf_matrix[i, j],\n",
    "                 horizontalalignment=\"center\",\n",
    "                 color=\"white\" if cnf_matrix[i, j] > thresh else \"black\")\n",
    "\n",
    "#Add a Side Bar Legend Showing Colors\n",
    "plt.colorbar()"
   ]
  },
  {
   "cell_type": "markdown",
   "metadata": {},
   "source": [
    "## ROC/AUC:"
   ]
  },
  {
   "cell_type": "code",
   "execution_count": null,
   "metadata": {},
   "outputs": [],
   "source": [
    "# Fit model:\n",
    "logreg = LogisticRegression(fit_intercept=False, C=1e12)\n",
    "model_log = logreg.fit(X_train, y_train)\n",
    "print(model_log) #preview params\n",
    "\n",
    "# Predict:\n",
    "y_hat_test = logreg.predict(X_test)"
   ]
  },
  {
   "cell_type": "markdown",
   "metadata": {},
   "source": [
    "Next, we'll calculate the false positive rate and true positive rate."
   ]
  },
  {
   "cell_type": "code",
   "execution_count": null,
   "metadata": {},
   "outputs": [],
   "source": [
    "from sklearn.metrics import roc_curve, auc"
   ]
  },
  {
   "cell_type": "code",
   "execution_count": null,
   "metadata": {
    "scrolled": true
   },
   "outputs": [],
   "source": [
    "# Initial Model:\n",
    "logreg = LogisticRegression(fit_intercept = False)\n",
    "\n",
    "# Probability scores for test set:\n",
    "y_score = logreg.fit(X_train, y_train).decision_function(X_test)\n",
    "# False Positive Rate (fpr) and True Positive Rate (tpr):\n",
    "fpr, tpr, thresholds = roc_curve(y_test, y_score)\n",
    "\n",
    "sns.set_style(\"darkgrid\", {\"axes.facecolor\": \".9\"})\n",
    "\n",
    "print('AUC: {}'.format(auc(fpr, tpr)))\n",
    "plt.figure(figsize=(10,8))\n",
    "lw = 2\n",
    "plt.plot(fpr, tpr, color='darkorange',\n",
    "         lw=lw, label='ROC curve')\n",
    "plt.plot([0, 1], [0, 1], color='navy', lw=lw, linestyle='--')\n",
    "plt.xlim([0.0, 1.0])\n",
    "plt.ylim([0.0, 1.05])\n",
    "plt.yticks([i/20.0 for i in range(21)])\n",
    "plt.xticks([i/20.0 for i in range(21)])\n",
    "plt.xlabel('False Positive Rate')\n",
    "plt.ylabel('True Positive Rate')\n",
    "plt.title('Receiver operating characteristic (ROC) Curve')\n",
    "plt.legend(loc=\"best\")\n",
    "plt.show()"
   ]
  },
  {
   "cell_type": "markdown",
   "metadata": {},
   "source": [
    "Next we will employ various techniques in order to tune our initial model:"
   ]
  },
  {
   "cell_type": "code",
   "execution_count": null,
   "metadata": {},
   "outputs": [],
   "source": [
    "C_param_range = [0.001,0.01,0.1,1,10,100]\n",
    "names = [0.001,0.01,0.1,1,10,100]\n",
    "colors = sns.color_palette(\"Set2\")\n",
    "\n",
    "plt.figure(figsize=(10,8))\n",
    "\n",
    "for n, c in enumerate(C_param_range):\n",
    "    #Fit a model\n",
    "    logreg = LogisticRegression(fit_intercept = False, C = c) #Starter code\n",
    "    model_log = logreg.fit(X_train, y_train)\n",
    "    print(model_log) #Preview model params\n",
    "\n",
    "    #Predict\n",
    "    y_hat_test = logreg.predict(X_test)\n",
    "\n",
    "    y_score = logreg.fit(X_train, y_train).decision_function(X_test)\n",
    "\n",
    "    fpr, tpr, thresholds = roc_curve(y_test, y_score)\n",
    "    \n",
    "    print('AUC for {}: {}'.format(names[n], auc(fpr, tpr)))\n",
    "    lw = 2\n",
    "    plt.plot(fpr, tpr, color=colors[n],\n",
    "             lw=lw, label='ROC curve Normalization Weight: {}'.format(names[n]))\n",
    "plt.plot([0, 1], [0, 1], color='teal', lw=lw, linestyle='--')\n",
    "plt.xlim([0.0, 1.0])\n",
    "plt.ylim([0.0, 1.05])\n",
    "\n",
    "plt.yticks([i/20.0 for i in range(21)])\n",
    "plt.xticks([i/20.0 for i in range(21)])\n",
    "plt.xlabel('False Positive Rate')\n",
    "plt.ylabel('True Positive Rate')\n",
    "plt.title('Receiver operating characteristic (ROC) Curve')\n",
    "plt.legend(loc='best')\n",
    "plt.show()"
   ]
  },
  {
   "cell_type": "code",
   "execution_count": null,
   "metadata": {},
   "outputs": [],
   "source": [
    "# Calculate the probability scores of each of the datapoints:\n",
    "#y_score = model_log.decision_function(X_test)\n",
    "\n",
    "#fpr, tpr, thresholds = roc_curve(y_test, y_score)\n",
    "\n",
    "#y_train_score = model_log.decision_function(X_train)\n",
    "#train_fpr, train_tpr, thresholds = roc_curve(y_train, y_train_score)"
   ]
  },
  {
   "cell_type": "code",
   "execution_count": null,
   "metadata": {},
   "outputs": [],
   "source": [
    "# Create first model:\n",
    "\n",
    "lr = LogisticRegression(fit_intercept=False, C=1e12, solver='lbfgs')\n",
    "rf = RandomForestClassifier(n_estimators = 100)\n",
    "nb = MultinomialNB()\n",
    "\n",
    "models = {\n",
    "    'Logistic Regression' : lr,\n",
    "    'Random Forest'       : rf,\n",
    "    'Mult. Naive Bayes'   : nb\n",
    "}\n",
    "\n",
    "for name, model in models.items():\n",
    "    model.fit(X, y)\n",
    "    print(name, end = '')\n",
    "    # Calculating Scores:\n",
    "    scores = cross_val_score(model, X, y, cv=10)\n",
    "    print(' - mean score: ', np.mean(scores))\n",
    "    #print(scores)\n",
    "    "
   ]
  },
  {
   "cell_type": "code",
   "execution_count": null,
   "metadata": {},
   "outputs": [],
   "source": []
  },
  {
   "cell_type": "code",
   "execution_count": null,
   "metadata": {},
   "outputs": [],
   "source": []
  },
  {
   "cell_type": "code",
   "execution_count": null,
   "metadata": {},
   "outputs": [],
   "source": [
    "# Feature Importance\n",
    "features = pd.DataFrame(columns = ['feature', 'importance'])\n",
    "features['feature']    = X.columns\n",
    "features['importance'] = rf.feature_importances_\n",
    "features.sort_values('importance', ascending=False)"
   ]
  },
  {
   "cell_type": "code",
   "execution_count": null,
   "metadata": {},
   "outputs": [],
   "source": [
    "df.columns"
   ]
  },
  {
   "cell_type": "code",
   "execution_count": null,
   "metadata": {},
   "outputs": [],
   "source": [
    "df.head()"
   ]
  },
  {
   "cell_type": "code",
   "execution_count": null,
   "metadata": {},
   "outputs": [],
   "source": []
  },
  {
   "cell_type": "code",
   "execution_count": null,
   "metadata": {},
   "outputs": [],
   "source": []
  },
  {
   "cell_type": "code",
   "execution_count": null,
   "metadata": {},
   "outputs": [],
   "source": [
    "train_test_split(df)\n",
    "X_train, X_test, y_train, y_test = train_test_split(df, df_features, test_size=.2)"
   ]
  },
  {
   "cell_type": "code",
   "execution_count": null,
   "metadata": {},
   "outputs": [],
   "source": [
    "logreg = LogisticRegression(fit_intercept=False, C=1e12, solver='lbfgs')\n",
    "\n",
    "model_log = logreg.fit(X_train, y_train)\n",
    "model_log"
   ]
  },
  {
   "cell_type": "code",
   "execution_count": null,
   "metadata": {},
   "outputs": [],
   "source": []
  },
  {
   "cell_type": "code",
   "execution_count": null,
   "metadata": {},
   "outputs": [],
   "source": []
  },
  {
   "cell_type": "code",
   "execution_count": null,
   "metadata": {},
   "outputs": [],
   "source": []
  },
  {
   "cell_type": "code",
   "execution_count": null,
   "metadata": {},
   "outputs": [],
   "source": []
  },
  {
   "cell_type": "code",
   "execution_count": null,
   "metadata": {},
   "outputs": [],
   "source": []
  },
  {
   "cell_type": "code",
   "execution_count": null,
   "metadata": {},
   "outputs": [],
   "source": []
  },
  {
   "cell_type": "code",
   "execution_count": null,
   "metadata": {},
   "outputs": [],
   "source": [
    "pd.get_dummies(df)"
   ]
  },
  {
   "cell_type": "code",
   "execution_count": null,
   "metadata": {},
   "outputs": [],
   "source": [
    "'''\n",
    "X_train, X_test, y_train, y_test = train_test_split(df_feature_dums, df_target, test_size=0.2, random_state=42)\n",
    "\n",
    "# Construct some pipelines\n",
    "pipe_lr = Pipeline([('scl', StandardScaler()),\n",
    "            ('pca', PCA(n_components=2)),\n",
    "            ('clf', LogisticRegression(random_state=42))])\n",
    "\n",
    "pipe_svm = Pipeline([('scl', StandardScaler()),\n",
    "            ('pca', PCA(n_components=2)),\n",
    "            ('clf', svm.SVC(random_state=42))])\n",
    "        \n",
    "pipe_dt = Pipeline([('scl', StandardScaler()),\n",
    "            ('pca', PCA(n_components=2)),\n",
    "            ('clf', tree.DecisionTreeClassifier(random_state=42))])\n",
    "\n",
    "# List of pipelines for ease of iteration\n",
    "pipelines = [pipe_lr, pipe_svm, pipe_dt]\n",
    "\n",
    "# Dictionary of pipelines and classifier types for ease of reference\n",
    "pipe_dict = {0: 'Logistic Regression', 1: 'Support Vector Machine', 2: 'Decision Tree'}\n",
    "\n",
    "# Fit the pipelines\n",
    "for pipe in pipelines:\n",
    "    pipe.fit(X_train, y_train)\n",
    "\n",
    "# Compare accuracies\n",
    "for idx, val in enumerate(pipelines):\n",
    "    print('%s pipeline test accuracy: %.3f' % (pipe_dict[idx], val.score(X_test, y_test)))\n",
    "\n",
    "# Identify the most accurate model on test data\n",
    "best_acc = 0.0\n",
    "best_clf = 0\n",
    "best_pipe = ''\n",
    "for idx, val in enumerate(pipelines):\n",
    "    if val.score(X_test, y_test) > best_acc:\n",
    "        best_acc = val.score(X_test, y_test)\n",
    "        best_pipe = val\n",
    "        best_clf = idx\n",
    "print('Classifier with best accuracy: %s' % pipe_dict[best_clf])\n",
    "'''"
   ]
  },
  {
   "cell_type": "code",
   "execution_count": null,
   "metadata": {},
   "outputs": [],
   "source": []
  }
 ],
 "metadata": {
  "kernelspec": {
   "display_name": "learn-env",
   "language": "python",
   "name": "learn-env"
  },
  "language_info": {
   "codemirror_mode": {
    "name": "ipython",
    "version": 3
   },
   "file_extension": ".py",
   "mimetype": "text/x-python",
   "name": "python",
   "nbconvert_exporter": "python",
   "pygments_lexer": "ipython3",
   "version": "3.6.6"
  },
  "toc": {
   "base_numbering": 1,
   "nav_menu": {},
   "number_sections": true,
   "sideBar": true,
   "skip_h1_title": false,
   "title_cell": "Table of Contents",
   "title_sidebar": "Contents",
   "toc_cell": true,
   "toc_position": {},
   "toc_section_display": true,
   "toc_window_display": false
  }
 },
 "nbformat": 4,
 "nbformat_minor": 2
}
