{
 "cells": [
  {
   "cell_type": "markdown",
   "metadata": {
    "toc": true
   },
   "source": [
    "<h1>Table of Contents<span class=\"tocSkip\"></span></h1>\n",
    "<div class=\"toc\"><ul class=\"toc-item\"><li><span><a href=\"#ROC/AUC:\" data-toc-modified-id=\"ROC/AUC:-1\"><span class=\"toc-item-num\">1&nbsp;&nbsp;</span>ROC/AUC:</a></span><ul class=\"toc-item\"><li><span><a href=\"#SMOTE:\" data-toc-modified-id=\"SMOTE:-1.1\"><span class=\"toc-item-num\">1.1&nbsp;&nbsp;</span>SMOTE:</a></span></li></ul></li><li><span><a href=\"#Pruning\" data-toc-modified-id=\"Pruning-2\"><span class=\"toc-item-num\">2&nbsp;&nbsp;</span>Pruning</a></span></li><li><span><a href=\"#Decision-Tree:\" data-toc-modified-id=\"Decision-Tree:-3\"><span class=\"toc-item-num\">3&nbsp;&nbsp;</span>Decision Tree:</a></span></li></ul></div>"
   ]
  },
  {
   "cell_type": "markdown",
   "metadata": {},
   "source": [
    "- Who is controlling 4 central squares: d4, d5, e4, e5\n",
    "- Who captured the first piece\n",
    "- Which player castles sooner\n",
    "- Does player castle (yes, no)\n",
    "- Who moves all of their pieces off of the back row the quickest"
   ]
  },
  {
   "cell_type": "markdown",
   "metadata": {},
   "source": [
    "    # tutor.peterl@gmail.com"
   ]
  },
  {
   "cell_type": "markdown",
   "metadata": {},
   "source": [
    "Logistic Regression\n",
    "Matrix Feature adjustments (need name)\n",
    "Feature importance\n",
    "Subspace sampling\n",
    "Ensemble methods\n",
    "Random forest method\n",
    "GridsearchCV (combinatorial, exhaustive)\n",
    "\n",
    "Parameter Tuning\n",
    "\n",
    "Grid Searching Cross val score for random forest classifier\n",
    "AdaBoost - tuning gradient boosted trees\n",
    "Gradient Boosting\n",
    "Weak vs Strong learners\n",
    "XGBoost - extreme gradient boosting"
   ]
  },
  {
   "cell_type": "code",
   "execution_count": 1,
   "metadata": {},
   "outputs": [],
   "source": [
    "import pandas as pd\n",
    "import numpy as np\n",
    "import itertools\n",
    "import matplotlib.pyplot as plt\n",
    "%matplotlib inline\n",
    "import seaborn as sns\n",
    "#import sqlalchemy\n",
    "#from sqlalchemy import create_engine\n",
    "#from sqlalchemy.orm import Session, sessionmaker\n",
    "import scipy.stats as stats\n",
    "from scipy.stats import norm\n",
    "import statsmodels.api as sm\n",
    "from statsmodels.formula.api import ols\n",
    "\n",
    "\n",
    "from sklearn.datasets import load_iris\n",
    "from sklearn.model_selection import train_test_split, GridSearchCV, cross_val_score \n",
    "from sklearn.preprocessing import StandardScaler\n",
    "from sklearn.decomposition import PCA\n",
    "from sklearn.pipeline import Pipeline\n",
    "from sklearn.externals import joblib\n",
    "from sklearn.linear_model import LogisticRegression\n",
    "from sklearn.ensemble import RandomForestClassifier\n",
    "from sklearn.naive_bayes import MultinomialNB\n",
    "from sklearn.metrics import roc_curve, auc, accuracy_score\n",
    "from sklearn import svm\n",
    "from sklearn.tree import DecisionTreeClassifier \n",
    "from imblearn.over_sampling import SMOTE, ADASYN"
   ]
  },
  {
   "cell_type": "code",
   "execution_count": 2,
   "metadata": {},
   "outputs": [
    {
     "data": {
      "text/plain": [
       "Index(['id', 'rated', 'created_at', 'last_move_at', 'turns', 'victory_status',\n",
       "       'winner', 'increment_code', 'white_id', 'white_rating', 'black_id',\n",
       "       'black_rating', 'moves', 'opening_eco', 'opening_name', 'opening_ply'],\n",
       "      dtype='object')"
      ]
     },
     "execution_count": 2,
     "metadata": {},
     "output_type": "execute_result"
    }
   ],
   "source": [
    "df = pd.read_csv('games.csv')\n",
    "df.columns"
   ]
  },
  {
   "cell_type": "code",
   "execution_count": 3,
   "metadata": {},
   "outputs": [
    {
     "name": "stdout",
     "output_type": "stream",
     "text": [
      "0    d4 d5 c4 c6 cxd5 e6 dxe6 fxe6 Nf3 Bb4+ Nc3 Ba5...\n",
      "Name: moves, dtype: object\n"
     ]
    }
   ],
   "source": [
    "print(df.moves[:1])"
   ]
  },
  {
   "cell_type": "code",
   "execution_count": 4,
   "metadata": {},
   "outputs": [
    {
     "data": {
      "text/html": [
       "<div>\n",
       "<style scoped>\n",
       "    .dataframe tbody tr th:only-of-type {\n",
       "        vertical-align: middle;\n",
       "    }\n",
       "\n",
       "    .dataframe tbody tr th {\n",
       "        vertical-align: top;\n",
       "    }\n",
       "\n",
       "    .dataframe thead th {\n",
       "        text-align: right;\n",
       "    }\n",
       "</style>\n",
       "<table border=\"1\" class=\"dataframe\">\n",
       "  <thead>\n",
       "    <tr style=\"text-align: right;\">\n",
       "      <th></th>\n",
       "      <th>id</th>\n",
       "      <th>rated</th>\n",
       "      <th>created_at</th>\n",
       "      <th>last_move_at</th>\n",
       "      <th>turns</th>\n",
       "      <th>victory_status</th>\n",
       "      <th>winner</th>\n",
       "      <th>increment_code</th>\n",
       "      <th>white_id</th>\n",
       "      <th>white_rating</th>\n",
       "      <th>black_id</th>\n",
       "      <th>black_rating</th>\n",
       "      <th>moves</th>\n",
       "      <th>opening_eco</th>\n",
       "      <th>opening_name</th>\n",
       "      <th>opening_ply</th>\n",
       "    </tr>\n",
       "  </thead>\n",
       "  <tbody>\n",
       "    <tr>\n",
       "      <th>0</th>\n",
       "      <td>TZJHLljE</td>\n",
       "      <td>False</td>\n",
       "      <td>1.504210e+12</td>\n",
       "      <td>1.504210e+12</td>\n",
       "      <td>13</td>\n",
       "      <td>outoftime</td>\n",
       "      <td>white</td>\n",
       "      <td>15+2</td>\n",
       "      <td>bourgris</td>\n",
       "      <td>1500</td>\n",
       "      <td>a-00</td>\n",
       "      <td>1191</td>\n",
       "      <td>d4 d5 c4 c6 cxd5 e6 dxe6 fxe6 Nf3 Bb4+ Nc3 Ba5...</td>\n",
       "      <td>D10</td>\n",
       "      <td>Slav Defense: Exchange Variation</td>\n",
       "      <td>5</td>\n",
       "    </tr>\n",
       "    <tr>\n",
       "      <th>1</th>\n",
       "      <td>l1NXvwaE</td>\n",
       "      <td>True</td>\n",
       "      <td>1.504130e+12</td>\n",
       "      <td>1.504130e+12</td>\n",
       "      <td>16</td>\n",
       "      <td>resign</td>\n",
       "      <td>black</td>\n",
       "      <td>5+10</td>\n",
       "      <td>a-00</td>\n",
       "      <td>1322</td>\n",
       "      <td>skinnerua</td>\n",
       "      <td>1261</td>\n",
       "      <td>d4 Nc6 e4 e5 f4 f6 dxe5 fxe5 fxe5 Nxe5 Qd4 Nc6...</td>\n",
       "      <td>B00</td>\n",
       "      <td>Nimzowitsch Defense: Kennedy Variation</td>\n",
       "      <td>4</td>\n",
       "    </tr>\n",
       "  </tbody>\n",
       "</table>\n",
       "</div>"
      ],
      "text/plain": [
       "         id  rated    created_at  last_move_at  turns victory_status winner  \\\n",
       "0  TZJHLljE  False  1.504210e+12  1.504210e+12     13      outoftime  white   \n",
       "1  l1NXvwaE   True  1.504130e+12  1.504130e+12     16         resign  black   \n",
       "\n",
       "  increment_code  white_id  white_rating   black_id  black_rating  \\\n",
       "0           15+2  bourgris          1500       a-00          1191   \n",
       "1           5+10      a-00          1322  skinnerua          1261   \n",
       "\n",
       "                                               moves opening_eco  \\\n",
       "0  d4 d5 c4 c6 cxd5 e6 dxe6 fxe6 Nf3 Bb4+ Nc3 Ba5...         D10   \n",
       "1  d4 Nc6 e4 e5 f4 f6 dxe5 fxe5 fxe5 Nxe5 Qd4 Nc6...         B00   \n",
       "\n",
       "                             opening_name  opening_ply  \n",
       "0        Slav Defense: Exchange Variation            5  \n",
       "1  Nimzowitsch Defense: Kennedy Variation            4  "
      ]
     },
     "execution_count": 4,
     "metadata": {},
     "output_type": "execute_result"
    }
   ],
   "source": [
    "df.head(2)"
   ]
  },
  {
   "cell_type": "code",
   "execution_count": 5,
   "metadata": {},
   "outputs": [
    {
     "data": {
      "text/plain": [
       "white    10001\n",
       "black     9107\n",
       "draw       950\n",
       "Name: winner, dtype: int64"
      ]
     },
     "execution_count": 5,
     "metadata": {},
     "output_type": "execute_result"
    }
   ],
   "source": [
    "df.winner.value_counts()"
   ]
  },
  {
   "cell_type": "code",
   "execution_count": 6,
   "metadata": {},
   "outputs": [],
   "source": [
    "df['rating_difference'] = (df['white_rating'] - df['black_rating'])"
   ]
  },
  {
   "cell_type": "code",
   "execution_count": 7,
   "metadata": {},
   "outputs": [
    {
     "data": {
      "text/plain": [
       "<matplotlib.axes._subplots.AxesSubplot at 0x1c262fa390>"
      ]
     },
     "execution_count": 7,
     "metadata": {},
     "output_type": "execute_result"
    },
    {
     "data": {
      "image/png": "[encoded data removed]",
      "text/plain": [
       "<Figure size 432x288 with 1 Axes>"
      ]
     },
     "metadata": {
      "needs_background": "light"
     },
     "output_type": "display_data"
    }
   ],
   "source": [
    "df.rating_difference[df.winner == 'white'].hist()"
   ]
  },
  {
   "cell_type": "code",
   "execution_count": 8,
   "metadata": {
    "scrolled": false
   },
   "outputs": [
    {
     "data": {
      "text/plain": [
       "<matplotlib.axes._subplots.AxesSubplot at 0x1c25cee470>"
      ]
     },
     "execution_count": 8,
     "metadata": {},
     "output_type": "execute_result"
    },
    {
     "data": {
      "image/png": "[encoded data removed]",
      "text/plain": [
       "<Figure size 432x288 with 1 Axes>"
      ]
     },
     "metadata": {
      "needs_background": "light"
     },
     "output_type": "display_data"
    }
   ],
   "source": [
    "df.rating_difference[df.winner == 'black'].hist()"
   ]
  },
  {
   "cell_type": "code",
   "execution_count": 9,
   "metadata": {
    "scrolled": true
   },
   "outputs": [
    {
     "data": {
      "text/plain": [
       "['d4',\n",
       " 'd5',\n",
       " 'c4',\n",
       " 'c6',\n",
       " 'cxd5',\n",
       " 'e6',\n",
       " 'dxe6',\n",
       " 'fxe6',\n",
       " 'Nf3',\n",
       " 'Bb4+',\n",
       " 'Nc3',\n",
       " 'Ba5',\n",
       " 'Bf4']"
      ]
     },
     "execution_count": 9,
     "metadata": {},
     "output_type": "execute_result"
    }
   ],
   "source": [
    "df.moves[0].split()"
   ]
  },
  {
   "cell_type": "code",
   "execution_count": 10,
   "metadata": {
    "scrolled": true
   },
   "outputs": [
    {
     "data": {
      "text/plain": [
       "id                                                            mIICvQHh\n",
       "rated                                                             True\n",
       "created_at                                                 1.50413e+12\n",
       "last_move_at                                               1.50413e+12\n",
       "turns                                                               61\n",
       "victory_status                                                    mate\n",
       "winner                                                           white\n",
       "increment_code                                                    5+10\n",
       "white_id                                                        ischia\n",
       "white_rating                                                      1496\n",
       "black_id                                                          a-00\n",
       "black_rating                                                      1500\n",
       "moves                e4 e5 d3 d6 Be3 c6 Be2 b5 Nd2 a5 a4 c5 axb5 Nc...\n",
       "opening_eco                                                        C20\n",
       "opening_name                     King's Pawn Game: Leonardis Variation\n",
       "opening_ply                                                          3\n",
       "rating_difference                                                   -4\n",
       "Name: 2, dtype: object"
      ]
     },
     "execution_count": 10,
     "metadata": {},
     "output_type": "execute_result"
    }
   ],
   "source": [
    "df.iloc[2]"
   ]
  },
  {
   "cell_type": "code",
   "execution_count": 11,
   "metadata": {},
   "outputs": [
    {
     "data": {
      "text/plain": [
       "e4 e5                                                                                                                                                                                                                                                                                                                                                                                                                                                                                                                                                                                                                                         27\n",
       "e4 d5                                                                                                                                                                                                                                                                                                                                                                                                                                                                                                                                                                                                                                         21\n",
       "d4 d5                                                                                                                                                                                                                                                                                                                                                                                                                                                                                                                                                                                                                                         17\n",
       "e4 e5 Nf3                                                                                                                                                                                                                                                                                                                                                                                                                                                                                                                                                                                                                                     16\n",
       "f4 e6 g4 Qh4#                                                                                                                                                                                                                                                                                                                                                                                                                                                                                                                                                                                                                                 14\n",
       "e4                                                                                                                                                                                                                                                                                                                                                                                                                                                                                                                                                                                                                                            12\n",
       "e4 c5                                                                                                                                                                                                                                                                                                                                                                                                                                                                                                                                                                                                                                         10\n",
       "d3 e6                                                                                                                                                                                                                                                                                                                                                                                                                                                                                                                                                                                                                                         10\n",
       "e4 e6                                                                                                                                                                                                                                                                                                                                                                                                                                                                                                                                                                                                                                          9\n",
       "e3 e5                                                                                                                                                                                                                                                                                                                                                                                                                                                                                                                                                                                                                                          9\n",
       "e3 e6                                                                                                                                                                                                                                                                                                                                                                                                                                                                                                                                                                                                                                          8\n",
       "e3 d6                                                                                                                                                                                                                                                                                                                                                                                                                                                                                                                                                                                                                                          6\n",
       "d4 e6                                                                                                                                                                                                                                                                                                                                                                                                                                                                                                                                                                                                                                          6\n",
       "Nf3 d5 g3 c5 Bg2 Nc6 d3 Nf6 O-O e5 Nc3 d4 Ne4 Nxe4 dxe4 Be7 e3 O-O exd4 cxd4 Re1 Be6 Bd2 Qb6 b3 f6 Qe2 Nb4 Bxb4 Bxb4 Red1 Rac8 Rac1 Rc6 Nh4 Ba3 Rb1 Rfc8 Rd2 Bb4 Rdd1 Rxc2 Qf3 Rxa2 Nf5 Rcc2 Rf1 Bf8 Rfc1 Rxf2                                                                                                                                                                                                                                                                                                                                                                                                                                 5\n",
       "e4 e5 Nf3 Nc6                                                                                                                                                                                                                                                                                                                                                                                                                                                                                                                                                                                                                                  5\n",
       "e4 d6                                                                                                                                                                                                                                                                                                                                                                                                                                                                                                                                                                                                                                          5\n",
       "e4 e5 Nf3 Nc6 Bc4 Nf6 Nc3 Bc5 O-O O-O d3 d6 Bg5 h6 Bh4 Bg4 h3 Bh5 Re1 Qe8 a3 Qe7 Rf1 Rfe8 Qe2 a6 Rfe1 Nd4 Nxd4 Bxe2 Rxe2 Bxd4 Na4 b5 Bb3 bxa4 Bxa4 Bxb2 Rb1 Bxa3 Rb3 Bc5 c3 Reb8 Ra3 Bxa3 f3 Rb2 Re3 Bc5 Bf2 Bxe3 Bxe3 Ra2 Bb3 Ra3 Bc4 Rxc3 Ba2 Rxd3 Bc1 Rd1+ Kf2 Rxc1 Bb3 Rb1 Bc4 Rb2+ Kf1 Rb1+ Kf2 a5 Ba2 Rb2+ Ke3 Rxa2 Kd3 Rxg2 Ke3 Rg3 Kf2 Rxh3 Ke2 Rxf3 Kxf3 Nxe4 Kxe4 a4 Kd3 a3 Kc2 a2 Kb2 a1=Q+ Kc2 Qh4 Kd3 Ra4 Ke3 Qe4+ Kf2 Qc3 Kf1 Qec2 Kg1 Ra1#                                                                                                                                                                                      4\n",
       "e4 Nf6                                                                                                                                                                                                                                                                                                                                                                                                                                                                                                                                                                                                                                         4\n",
       "e4 e5 Nf3 Nc6 d4 exd4 Nxd4 Nxd4 Qxd4 f6 Bc4 b6 Qd5 Ne7 Qf7#                                                                                                                                                                                                                                                                                                                                                                                                                                                                                                                                                                                    4\n",
       "e3 e5 d4 exd4 exd4 Nf6 Nf3 Nc6 Nc3 Bb4 a3 Ba5 Bb5 a6 Bxc6 dxc6 Qe2+ Be6 Bg5 O-O O-O-O h6 Bxf6 Qxf6 b4 Bb6 Ne5 Qg5+ Qd2 f6 Nd7 Bxd7 Qxg5 hxg5 d5 cxd5 Nxd5 Bc6 Nxb6 cxb6 f3 g4 fxg4 Bxg2 Rhg1 Bf3 Rd3 Be4 Re3 Rae8 Rge1 Bc6 Rxe8 Rxe8 Rxe8+ Bxe8 Kd2 Kh7 Ke3 Bd7 Kf4 Kg6 h4 a5 g5 fxg5+ hxg5 Bf5 c3 axb4 cxb4 Bb1 a4 Kf7 a5 bxa5 bxa5 Bd3 Ke5 Bb5 Kf4 Ba6 Kf5 g6+ Ke5 Ke7 Kf4 Ke6 Ke4 Kd6 Kd4 Kc6 Kc3 Kb5 Kb3 Kxa5 Ka3 Kb5 Kb3 Kc5 Kc3 Kd5 Kd2 Ke5 Ke3 Kf5 Kf3 Kxg5 Kg3 b5 Kf3 b4 Ke3 b3 Kd2 b2 Kc3 b1=Q                                                                                                                                        4\n",
       "e4 d5 exd5 Qxd5 Nc3 Qe5+ Be2 e6 Nf3 Qa5 d3 c5 Bd2 c4 Nd5 exd5 Bxa5 Nc6 Bc3 Nf6 dxc4 dxc4 Bxc4 Na5 Bxa5 b6 Bb4 a5 Bxf8 Rxf8 Bb5+ Nd7 Bxd7+ Kd8 Bc6+ Kc7 Bxa8 Bb7 Bxb7 Kxb7 Qe2 f5 Qe5 g5 Nxg5 h5 Qe7+ Kc6 Qxf8 f4 Qxf4 b5 Qh4 Kc5 Qxh5 b4 Ne6+ Kd6 Qxa5 Kxe6 Qxb4 Kd5 a4 Ke5 a5 Kf6 a6 Ke6 a7 Kd7 a8=Q Kc7 Qbb7+ Kd6                                                                                                                                                                                                                                                                                                                            4\n",
       "e4 e5 Nf3 Nc6 Bb5 a6 Ba4 b5 Bb3 d6 a3 Na5 Ba2 Bg4 O-O Nf6 h3 Bh5 Re1 Be7 d3 O-O Nc3 h6 Nd5 c6 Nxf6+ Bxf6 d4 exd4 Qd2 c5 e5 dxe5 Nxe5 Bxe5 Rxe5 Bg6 Rxc5 Rb8 Rd5 Qe7 Rxd4 Rbd8 Rxd8 Rxd8 Qxa5 Rd1+ Kh2 Qd6+ g3 Qd7 Qxa6 Bxc2 Qa8+ Kh7 Qf3 Qd4 Be3 Qd3 Rxd1 Bxd1 Qxf7 Qc2 Qg8+ Kg6 Bf7+ Kf6 Bd4+ Kg5 Qxg7+ Kf5 Qg6#                                                                                                                                                                                                                                                                                                                              4\n",
       "e4 e5 d4 exd4 Qxd4 Nc6 Qe3 Nf6 Nc3 Nb4 Qe2 Bc5 a3 Nc6 b4 Bd4 Bd2 O-O Nf3 Re8 Bg5 h6 Bxf6 Bxf6 Qe3 Bxc3+ Qxc3 Rxe4+ Be2 d6 O-O Rxe2 Nd4 Nxd4 Qxd4 Rxc2 Rae1 Bf5 Re3 c5 bxc5 dxc5 Qf4 Bd3 Rfe1 Rb2 Re7 Rb1 Qxf7+ Kh8 Qxg7#                                                                                                                                                                                                                                                                                                                                                                                                                       4\n",
       "e4 c5 Nf3 g6 d4 cxd4 Nxd4 Bg7 Nc3 a6 Bc4 e6 Bf4 Nc6 Nxc6 bxc6 Kf1 Ne7 Ke2 d5 exd5 cxd5 Bb3 O-O Re1 a5 Nb5 Ba6 c4 dxc4 Bxc4 Qxd1+ Raxd1 Nf5 Kf1 Nd4 Nxd4 Bxc4+ Kg1 Bxa2 Nb5 Bd5 Nc7 Rad8 Nxd5 Rxd5 Bd6 Rxd1 Rxd1 Rd8 Kf1 Bf8 Ke1 Bxd6 Ra1 Rb8 Rxa5 Bb4+ Kd1 Bxa5                                                                                                                                                                                                                                                                                                                                                                                4\n",
       "e3 e6 Qf3 Nf6 Nc3 Nc6 Nb5 a6 Nd4 Nxd4 exd4 c5 dxc5 Bxc5 Qg3 O-O b3 Qb6 Bb2 Bd6 f4 Re8 Bxf6 g6 h4 Qc5 h5 e5 hxg6 fxg6 Bc4+ Kf8 Rxh7 Qxg1+ Ke2 Qxa1 Bg7+ Ke7 Qg5#                                                                                                                                                                                                                                                                                                                                                                                                                                                                                4\n",
       "e4 e5 Qh5 g6 Qxe5+ Be7 Qxh8                                                                                                                                                                                                                                                                                                                                                                                                                                                                                                                                                                                                                    4\n",
       "e4 e5 Nf3 Nc6 Bb5 a6 Bxc6 dxc6 Nxe5 Qd4 Qf3 Qxe5 Nc3 Nf6 O-O Bg4 Qe3 Bc5 Qe1 Qf4 d4 Bxd4 Bxf4 Bxc3 bxc3 O-O e5 Rfe8 h3 Bf5 Qe2 Nd5 g3 Nxc3 Qf3 Nd5 Rab1 Bxh3 Rfe1 Bf5 Rxb7 Bxc2 Rc1 Ba4 Qa3 Rab8 Rxb8 Rxb8 Qxa4 Nxf4 gxf4 Rb6 Rxc6 Rb1+ Kg2 Rb6 Rxb6 cxb6 Qe8#                                                                                                                                                                                                                                                                                                                                                                                 4\n",
       "e4 e5 Nf3 Nc6 d4 d6 dxe5 Nxe5 Nxe5 dxe5 Qxd8+ Kxd8 Nc3 Nf6 a3 Bc5 Bc4 Ng4 O-O Nxf2 Rxf2 Bxf2+ Kxf2 Be6 Bxe6 fxe6 b3 Rf8+ Kg1 Ke7 Bb2 Rad8 Rd1 Rxd1+ Nxd1 Rd8 Ne3 Rd2 Bxe5 Re2 Bf4 Kf7 Kf1 Rd2 Ke1 Rd4 Bxc7 Rxe4 Ke2 Ke8 Bb8 a6 Ba7 Rh4 h3 h5 Kd3 g5 Bb8 g4 Bg3 gxh3 Bxh4 h2 Bf2 h1=Q                                                                                                                                                                                                                                                                                                                                                           4\n",
       "e4 e6 d4 Qh4 Nc3 Nf6 e5 Ne4 Nf3 Qxf2#                                                                                                                                                                                                                                                                                                                                                                                                                                                                                                                                                                                                          4\n",
       "g3 e5 e4 Nf6 Bg2 Bc5 a3 a5 Nc3 d6 h3 O-O b3 c6 Nf3 d5 Nxe5 Re8 Nd3 Bd4 Bb2 dxe4 Nf4 Bf5 f3 exf3+ Kf1 fxg2+ Kxg2 Bxc3 Bxc3 Be4+ Kh2 Bxh1 Kxh1 Ne4 Bb2 Nxg3+ Kg2 Qh4 Qf3 Nf5 Nh5 Qg5+ Kh2 Nh4 Qg4 Qxg4 hxg4 f6 Kg3 Ng6 Rf1 Nd7 Nxf6+ Nxf6 Bxf6 gxf6 Rxf6 Re2 Rd6 Rf8 Rd7 Rf7 Rd8+ Kg7 Rd6 Ree7 g5 Rd7 Re6 Rfe7 Rf6 Rxd2 Kg4 Rxc2 Kf5 Rf2+ Kg4 Rxf6 gxf6+ Kxf6 a4 Re3 Kh5 Rxb3 Kh6 Nf8 Kh5 Rb4 Kh6 Rxa4 Kh5 Rb4 Kh6 a4                                                                                                                                                                                                                            4\n",
       "                                                                                                                                                                                                                                                                                                                                                                                                                                                                                                                                                                                                                                              ..\n",
       "e4 e5 Nf3 Nc6 d4 Bd6 Bc4 h6 O-O Qf6 Qe2 Be7 c3 d6 Be3 Qg6 Nbd2 Bh3 Nh4 Bxh4 Qf3 Bg4 Bxf7+ Qxf7 Qxg4 Be7 f4 h5 Qh3 Qg6 f5 Qf6 dxe5 Nxe5 Bd4 c5 Bxe5 dxe5 Qd3 a6 Rad1 Rd8 Qf3 c4 Nxc4 Bc5+ Kh1 Rxd1 Rxd1 Kf7 Rd7+ Ke8 Rxb7 Qd8 Nxe5 Nf6 Nc6 Qd2 Rb8+ Kd7 Qf1 Rxb8 Nxb8+ Kc7 Nxa6+ Kc6 Nxc5 Kxc5 b4+ Kc6 Qc4+ Kd6 Qc5+ Kd7 Qa7+ Ke8 b5 Ng4 g3 Qxh2#                                                                                                                                                                                                                                                                                               1\n",
       "e4 e6 d3 d5 Nd2 c5 Ngf3 Nc6 g3 Qb6 Bg2 Bd7 O-O Rc8 exd5 exd5 Re1+ Be7 b3 Nf6 Bb2 O-O h3 h6 Ne5 Rfe8 Nxd7 Nxd7 Bxd5 Nb4 Bg2 Nf6 Nc4 Qc7 a3 Nc6 Qf3 b5 Qxc6 Qxc6 Bxc6 Rxc6 Ne5 Re6 f4 Bd6 Kf2 Bxe5 Bxe5 Nd5 c4 bxc4 dxc4 Nb6 Bc3 Rxe1 Bxe1 Rxe1 Rxe1 Kh7 Re7 Nc8 Rc7 Nd6 Rxa7 Ne4+ Kf3 Nd2+ Ke3 Nxb3 Rxf7 Na5 Rc7 Nxc4+ Kf3 Nxa3 Rxc5 Nb1 g4 Nd2+ Ke3 Nf1+ Ke2 Ng3+ Kf3 Nf1 Rc2 Kg6 Rf2 Nh2+ Rxh2 Kf6 Ra2 Kg6 h4 Kh7 Ke4 Kg6 Ra7 Kh7 Kf5 Kg8 Kg6 Kf8 g5 hxg5 hxg5 Ke8 f5 Kf8 f6 gxf6 gxf6 Ke8 f7+ Kf8 Ra8+ Ke7 f8=Q+ Ke6 Re8+ Kd5 Qf5+ Kd4 Rd8+ Ke3 Qe6+ Kf4 Rd4+ Kf3 Qf5+ Ke3 Qd3+ Kf2 Rf4+ Kg2 Qf3+ Kg1 Rg4+ Kh2 Qg2#                          1\n",
       "e4 c5 Ke2 d5 exd5 Qxd5 Qe1 Nf6 h3 Nc6 Nc3 Qe5+ Kd1 Qxe1+ Kxe1 g6 Bb5 Bd7 Nf3 O-O-O d3 a6 Bxc6 Bxc6 Ne5 Bxg2 Rg1 Bd5 Nxd5 Nxd5 Nxf7 Bg7 Nxh8 Bxh8 Rb1 Bd4 c3 Be5 f4 Nxf4 Bxf4 Bxf4 Rg4 Be5 d4 cxd4 cxd4 Rxd4 Rc1+ Kd7 Rxd4+ Bxd4 Ke2 h5 Kf3 b5 b3 b4 Rd1 e5 Ke4 Ke6 h4 a5 Rf1 Bc5 Rc1 Be7 Rc6+ Kd7 Rxg6 Bxh4 Rh6 Kc7 Rxh5 Bg3 Kd5 Kd7 Rh7+ Kd8 Ra7 Ke8 Ke6 Kf8 Kf6 Kg8 Rg7+ Kf8 Rxg3 e4 Ke6 Ke8 Rg8#                                                                                                                                                                                                                                            1\n",
       "Nf3 e6 g3 Bc5 Bg2 Nf6 O-O Ng4 e3 O-O d4 Bb4 c3 Bd6 Nbd2 Qf6 e4 e5 Re1 Be7 dxe5 Nxe5 Nxe5 Qxe5 Nf3 Qc5 Be3 Qc4 Qb3 Qxe4 Nd4 Qg4 Bxb7 Bxb7 Qxb7 Nc6 Qxc7 Rac8 Qf4 Qg6 Nxc6 dxc6 Qf3 Rfe8 Bxa7 Bd6 Bd4 f6 a3 Qc2 b4 Qd2 Rxe8+ Rxe8 Rd1 Re1+ Rxe1 Qxe1+ Kg2 Qa1 Qxc6 Bf8 a4 Qxa4 Qxa4 Bxb4 cxb4 Kf7 Qd7+ Kg6 f4 f5 Qe8+ Kh6 h4 g6 Qf8+ Kh5 Qg7 h6 Qe5 Kg4 Qe2#                                                                                                                                                                                                                                                                                     1\n",
       "f4 e5 g4 Qh4#                                                                                                                                                                                                                                                                                                                                                                                                                                                                                                                                                                                                                                  1\n",
       "Nf3 d5 d4 Nf6 Bf4 Bf5 e3 c5 c3 Nc6 Nbd2 Qb6 b3 e6 Rc1 Be7 Be2                                                                                                                                                                                                                                                                                                                                                                                                                                                                                                                                                                                  1\n",
       "e4 c5 Nf3 g6 d4 cxd4 Nxd4 Nc6 Be3 Bg7 Nc3 Nf6 f3 d6 Be2 Qb6 Qc1 Qc7 Nxc6 bxc6 Bh6 O-O Bxg7 Kxg7 Qe3 Rb8 O-O-O Qb6 Qxb6 Rxb6 g4 Be6 h4 h5 gxh5 Nxh5 Rhg1 Rfb8 b3 Kh7 Rdf1 Bh3 Rf2 Nf4 a4 d5 exd5 cxd5 Rd1 e6 a5 Rc6 Nb5 a6 Nd4 Rd6 c3 e5 Rh2 exd4 Rxd4 Nxe2+ Rxe2 Rxb3 Re7 Kg7 Re3 Bf5 Kd2 Rb2+ Kc1 Rc2+ Kd1 Rc6 Rxd5 R2xc3 Rxc3 Rxc3 Rd6 Rxf3 Rxa6 Ra3 Ra8 Ra2 a6 Be4 Ra7 Bf3+ Ke1 Kf6 Kf1 Bd5 Kg1 Be6 Kf1 g5 Kg1 gxh4 Kh1 h3 Kg1 h2+ Kh1 Bd5#                                                                                                                                                                                                 1\n",
       "e4 e5 Bc4 Nf6 d3 d5 exd5 Nxd5 Nf3 Nc6 Bg5 f6 Bh4 Bg4 h3 Bxf3 Qxf3 Qd7 Bxd5 Nb4 Bb3 O-O-O O-O g5 Bg3 Be7 c3 Nc6 Na3 h5 Nb5 Rh7 Qe4 Rdh8 Bh2 g4 h4 f5 Qa4 a6 Na3 b5 Nxb5 Qxd3 Qxa6+ Kd7 Rfd1 Qxd1+ Rxd1+ Ke8 Qxc6+ Kf8 Nxc7 Rh6 Qd5 Rd6 Qa8+ Kg7 Bxe5+ Rf6 Bxf6+ Bxf6 Ne6+ Kg6 Nf4+ Kh6 Qc6 Rf8 Qd6 Rd8 Qxf6+ Kh7 Qxd8 g3 fxg3 Kh6 Rd6+ Kh7 Qd7+ Kh8 Re6 Kg8 Re8#                                                                                                                                                                                                                                                                                1\n",
       "d4 f5 g3 d5 Bg2 e6 Nh3 Nf6 Bf4 Bd6 c4 c6 Nc3 O-O O-O Ne4 Qc2 Nd7 Bxe4 fxe4 Bxd6 Rf6 Bf4 Nb6 cxd5 exd5 b3 Bxh3 Rfe1 Rxf4                                                                                                                                                                                                                                                                                                                                                                                                                                                                                                                        1\n",
       "e4 c5 Nf3 g6 d4 cxd4 Nxd4 Nc6 Be3 Bg7 Nc3 Nxd4 Bxd4 Nf6 e5 Nh5 g4 Nf4 Qd2 Ne6 f4 Nxd4 Qxd4 e6 O-O-O O-O h4 f6 h5 fxe5 fxe5 g5 h6 Bh8 Bd3 Qe7 Rdf1 d5 Rxf8+ Qxf8 Bxh7+ Kxh7 Qd3+ Kg8 Qg6+                                                                                                                                                                                                                                                                                                                                                                                                                                                       1\n",
       "e4 e5 Nf3 Nc6 Bb5 Nf6 O-O Nxe4 Re1 Nf6 Nxe5 d6 Nxc6+ Be7 Nxd8+ Kxd8 Nc3 c6 Bf1 d5 d4 Bd6 Bg5 h6 Bxf6+ gxf6 Qf3 Rg8 Qxf6+ Kc7 Qxf7+ Kb6 Na4+ Ka5 Qxg8 Bb4 c3 Kxa4 cxb4 Kxb4 a3+ Kb3 Qg3+ Kxb2 Reb1+ Kc2 Qd3#                                                                                                                                                                                                                                                                                                                                                                                                                                    1\n",
       "e4 Nc6 Nf3 d5 exd5 Qxd5 Nc3 Qa5 d4 Bg4 Be3 O-O-O Be2 e5 d5 Nf6 dxc6 Rxd1+ Rxd1 bxc6 O-O Bc5 Bd2 Bb4 a3 Bd6 h3 Bh5 Rfe1 Qb6 b4 e4 Ng5 Bxe2 Nxe2 Rf8 Nc3 Qd4 Ncxe4 Nxe4 Nxe4 Qb2 Bc3 Qxc2 Bxg7 Rd8 Rc1 Qd3 Bf6 Rd7 Re3 Qd5 g3 Qf5 Kg2 h5 Rxc6 Kb7 Rcc3 Bf8 Re2 a6 Bg5 Rd4 Nc5+ Bxc5 Rxc5 Rd5 Be3 Qe4+ f3 Qf5 g4 hxg4 hxg4 Qd7 Rec2 Rxc5 Rxc5 c6 Rf5 Qe6 Bc5 Kc7 a4 Kd7 a5 Qe2+ Kg3 Ke6 Rf4 Qe1+ Bf2 Qb1 Re4+ Kd5 Bc5 f6 Kf4 Qh1 Re3 Qh2+ Kf5 Qh4 f4 Qh6 Rd3+ Kc4 Rd6 Qh7+ Kxf6 Qh6+ Kf5 Qh7+ Rg6 Qf7+ Kg5 Qd5+ f5 Qd2+ Kf6 Qd8+ Kg7 Qd7+ Kf6 Qd8+ Kf7 Qd7+ Be7 Qd5+ Kf8 Kb5 f6 Qe6 g5 Ka4 Rg7 Kb5 g6 Ka4 Rf7 Qc8+ Kg7 Kb5 Bc5 Qe8 Re7 Qd8 f7     1\n",
       "c3 d5 a3 Nf6 d4 Nc6 Bf4 e6 e3 Ne4 Bd3 g5 Bxe4 gxf4 Bf3 fxe3 fxe3 Bd6 Ne2 e5 Bh5 Qh4+ Ng3 e4 Qe2 Bxg3+ Kd2 Bd6 g3 Bxg3 Rg1 Qxh2 Bxf7+ Kxf7 Rg2 Qh4 Qf1+ Ke7 a4 Bh3 Na3 Bxg2 Qxg2 Qh2 Rg1 Rhg8 Kc1 Qxg2 Rxg2 Bd6                                                                                                                                                                                                                                                                                                                                                                                                                                 1\n",
       "e4 e5 Nf3 Nc6 Bc4 Nf6 d3 d6 c3 g6 Bb3 Bg7 Bf4 exf4                                                                                                                                                                                                                                                                                                                                                                                                                                                                                                                                                                                             1\n",
       "d4 d6 c4 Nf6 Nc3 b6 e4 Bg4 Be2 Bd7 Nf3 Bc6 d5 Bb7 O-O c5 a3 h6 e5 dxe5 Nxe5 Qd6 Bf4 g5 Bg3 Rh7 Nxf7 Qd7 Ne5 Qc8 Bh5+ Nxh5 Qxh5+ Kd8 Rad1 Nd7 Nf7+ Rxf7 Qxf7 Ba6 b3 b5 Ne4 bxc4 bxc4 Bxc4 Rfe1 Qa6 Qf3 Qb7 d6 exd6 Nxd6 Bxd6 Qxb7                                                                                                                                                                                                                                                                                                                                                                                                               1\n",
       "e4 d5 exd5 Qxd5 Qf3 Qxf3 gxf3 Nf6 Bh3 Bxh3 Nxh3 Nc6 Nc3 e5 f4 e4 d4 Nxd4 b4 Nxc2+ Kd2 Nxa1 Nb5 Rd8+ Ke3 Nc2+ Ke2 Bxb4 Rd1 Rxd1 Kxd1 Nd4 Nxc7+ Kd7 a3 Bxa3 Ng5 Bxc1 Kxc1 Kxc7 Nxf7 Rc8 Ng5 b5 h4 a5 Kb2 Nf3 Ne6+ Kd6 Nxg7 Nxh4 Nf5+ Nxf5 Kb3 a4+ Kb4 Nd5+ Kxb5 a3 Ka6 a2 Kb7 Kd7 Ka7 e3 fxe3 Nfxe3 f5 a1=Q+ Kb7 Qb2+ Ka6 Rc6+ Ka5 Qb6+ Ka4 Nc3+ Ka3 Qa6+ Kb4 Rb6+ Kxc3 h5 f6 Qc8+ Kd4 Nc2+ Kd3 Rd6+ Ke4 Qe8+ Kf5 Nd4+ Kg5 Ne6+ Kf5 Rd5+ Ke4 Kd6 f7 Rd4+ Kf5 Ng7+ Kg6 Rg4+ Kf6 Qe6#                                                                                                                                                              1\n",
       "e4 c5 Nf3 Nc6 d4 g6 d5 Nb4 c3 Na6 Bxa6 bxa6 Ne5 Nh6 Qf3 Bg7 Bxh6 Bxh6 Qxf7#                                                                                                                                                                                                                                                                                                                                                                                                                                                                                                                                                                    1\n",
       "e4 c5 Nf3 d6 Bb5+ Bd7 Bxd7+ Nxd7 O-O Ngf6 Nc3 g6 d3 Bg7 Bg5 O-O Nd5 Nxd5 exd5 Bxb2 Bh6 Bg7 Bxg7 Kxg7 Ng5 Kg8 d4 c4 c3 e5 Re1 Qxg5 Qa4 Rfd8 Qa3 exd4 cxd4 Qxd5 Rad1 Re8 Re3 Rxe3 fxe3 b6 Re1 Nf6 Qc3 Ne4 Qb4 c3 Rc1 Rc8 Qa4 a5 Qd7 Rf8 Qa7 Qxa2 Qxb6 Qf2+ Kh1 Qd2 Rg1 Nf2#                                                                                                                                                                                                                                                                                                                                                                      1\n",
       "e4 e5 Nf3 Nc6 Bc4 Bc5 d4 exd4 Ng5 Nh6 Qh5 O-O Nxh7 Kxh7 Bxh6 gxh6 Qf5+ Kh8 g4 Qg5 Qxg5 hxg5 h4 Kg7 h5 d6 f3 Ne5 Ke2                                                                                                                                                                                                                                                                                                                                                                                                                                                                                                                            1\n",
       "e4 c5 d3 d6 Nd2 Nc6 Ngf3 Nf6 Be2 g6 O-O Bg7 Re1 O-O Nf1 Bg4 Bd2 Bxf3 Bxf3 Nd4 c3 Nxf3+ Qxf3 e5 Bg5 h6 Bxf6 Qxf6 Qxf6 Bxf6 Ne3 Bd8 Nd5 f5 f3 Rf7 c4 Ba5 Reb1 Raf8 a3 fxe4 dxe4 Bd2 Rd1 Bg5 b4 b6 b5 Bd8 a4 g5 h3 h5 Ne3 Be7 Nf5 Rxf5 exf5 Rxf5 a5 Bd8 Rxd6 Bc7 Rd7                                                                                                                                                                                                                                                                                                                                                                              1\n",
       "e4 e5 f4 exf4 Nf3 Nf6 e5 Ng4 Bc4 Bc5 d4 Bb6 Bxf4 h6 h3 Nxe5 Nxe5 Qh4+ g3 Qe7 Bxf7+ Kd8 O-O d6 Ng6 Qxf7 Bg5+ Ke8 Rxf7 Kxf7 Qh5 Bxd4+ Kg2 Bxh3+ Kxh3 Bxb2 Nxh8+ Kg8 Qe8+ Kh7 Be7 Bxa1 c3 d5 Kh4 d4 Bf8 Bxc3 Qg6+ Kxh8 Qxg7#                                                                                                                                                                                                                                                                                                                                                                                                                      1\n",
       "e4 c5 Nf3 Nc6 d4 cxd4 Nxd4 a6 Nc3 e6 f4 Bc5 Be3 Qb6 Na4 Qa5+ c3 Nxd4 Nxc5 Qxc5 Bxd4 Qf8 Qg4 Nf6 Qh4 Qe7 Bd3 d5 O-O dxe4 Bxf6 Qxf6 Qxf6 gxf6 Bxe4 f5 Bf3 Ke7 Rfe1 Rb8 a4 b6 b4 Bb7 Bxb7 Rxb7 c4 Rc7 Rac1 Rhc8 a5 bxa5 bxa5 Rxc4 Rxc4 Rxc4 Rb1 Rc5 Ra1 Kd6 Kf2 h5 h4 f6 Ra3 e5 Kf3 e4+ Ke3 Kd5 g3 Rc4 Kd2 Kc5 Rb3 Rb4 Rc3+ Kd5 Ra3 Kd4 Ke2 Rb2+ Kd1 e3 Ra4+ Kc3 Ra3+ Rb3 Ra2 Kd3 Rc2 e2+ Rxe2 Rb1#                                                                                                                                                                                                                                               1\n",
       "e4 e5 Nf3 Nf6 Nxe5 Bd6 Nf3 Nxe4 Qe2 f5 d3 Qe7 dxe4 fxe4 Bg5 Qe6 Nd4 Qd5 Qe3 Rf8 Nc3 Rf3 Nxd5 Rxe3+ Bxe3 a5 O-O-O Nc6 Nxc6 dxc6 Nc3 Be5 Bd4 Bd6 Nxe4 Bf4+ Kb1 Bg4 Re1 Rd8 Nf6+ Kf7 Nxg4 Rxd4 Bd3 Bd2 Ne5+ Ke8 Nxc6+ Kd7 Nxd4 Bxe1 Rxe1                                                                                                                                                                                                                                                                                                                                                                                                          1\n",
       "e4 c6 Nf3 d5 exd5 cxd5 Nc3 Bf5 d4 h6 Bb5+ Nd7 Nxd5 a6 Bd3 Be6 Nc3 Ndf6 O-O Bd7 Ne5 Bc8 Be3 e6 Qf3 Be7 Rad1 Bd6 Rfe1 Ne7 Qg3 Ng6 Ne4 O-O Nxd6 Qxd6 Nxg6 Qxg3 fxg3 fxg6 Bxg6 Nd5 a3 Nxe3 Rxe3 Bd7 d5 exd5 Rxd5 Bc6 Rd4 Rac8 Bd3 Bb5 Bxb5 axb5 c3 b4 axb4 b5 Rd7 Kh8 Ree7 Rg8 Rb7 Rcd8 Red7 Rde8 Re7 Ra8 Rf7 Ra1+ Kf2 Rb1 Rxb5 Rxb2+ Ke1 Re8+ Kd1 Rbe2 Rf8+ Rxf8 Kxe2 Re8+ Kd3                                                                                                                                                                                                                                                                    1\n",
       "e4 c5 Nf3 d6 d4 cxd4 Nxd4 Nf6 Nc3 a6 Be2 e6 Be3 Be7 Qd2 Nbd7 O-O-O Qc7 f3 O-O g4 Ne5 h4 Nc4 Bxc4 Qxc4 g5 Nd7 f4 b5 f5 e5 Nf3 Bb7 h5 Bxe4 Rdf1 Rfc8 f6 Bf8 fxg7 Bxg7 g6 f5 gxh7+ Kh8 Bh6 Bxh6 Qxh6 b4 Rhg1 bxc3 Rg8+ Rxg8 hxg8=Q+ Kxg8 Rg1+ Kf7 Rg7+ Ke8 Qg6+ Kd8 Qg5+ Kc7 bxc3 Qf1+ Kb2 Rb8+ Ka3 Qc1+ Ka4 Qxc2+ Ka5 Qxa2#                                                                                                                                                                                                                                                                                                                      1\n",
       "e4 e5 Nf3 Nc6 Bc4 d6 h3 Qe7 d3 Be6 Bb3 Bxb3 axb3 Nf6 Bg5 h6 Bh4 g5 Bg3 Bg7 Nc3 Nd4 Nxd4 exd4 Nb5 O-O Nxd4 a6 Nf5 Qe6 Nxg7 Kxg7 O-O c6 Re1 Rfe8 Qe2 Nh5 Qxh5 d5 Qf3 dxe4 Rxe4 Qd7 Be5+ Kg8 Qf6 Rxe5 Qxe5 Qe8 Qxe8+ Rxe8 Rxe8+ Kg7 Rb8                                                                                                                                                                                                                                                                                                                                                                                                           1\n",
       "e4 e6 d4 d5 exd5 exd5 Nc3 Bb4 Nf3 Bf5 Bd3 Ne7 Bxf5 Nxf5 O-O Bxc3 bxc3 O-O Qd3 Qd7 Rb1 b6 Ne5 Qe6 Bf4 Nd6 Rbe1 Nd7 Nc6 Qf6 Ne7+ Kh8 Nxd5 Qf5 Qxf5 Nxf5 Nxc7 Rac8 Nd5 Rfe8 g4 Nxd4 cxd4 Rxc2 Rxe8+                                                                                                                                                                                                                                                                                                                                                                                                                                               1\n",
       "e4 d5 e5 Nc6 d4 e6 Nf3 Nxd4 Nxd4 Qh4 g3 Qe4+ Be2 Bb4+ c3 Qxh1+ Bf1 Qe4+ Be3 Bc5 f3 Qxe3+                                                                                                                                                                                                                                                                                                                                                                                                                                                                                                                                                       1\n",
       "d4 d5 c3 c6 Nd2 Bg4 h3 Bh5 g4 Bg6 f4 f6 f5 Bf7 Ngf3 Nd7 e4 Qc7 exd5 Bxd5 Rg1 O-O-O a4 e6 b4 exf5 gxf5 Re8+ Kf2 Bd6 c4 Bf7 b5 Nb8 c5 Bf4 a5 Ne7 a6 Nxf5 axb7+ Qxb7 bxc6 Nxc6 Ba6 Be3+ Kg2 Nh4+ Nxh4 Nb4+ Bxb7+                                                                                                                                                                                                                                                                                                                                                                                                                                  1\n",
       "e4 c5 Nf3 Nc6 Bb5 Nf6 Nc3 e6 e5 Ng8 Ne4 d5 exd6 Bxd6 Bxc6+ bxc6 Nxd6+ Qxd6 O-O Nf6 d3 Ba6 Re1 O-O b3 Rab8 Bb2 Qf4 Be5 Qf5                                                                                                                                                                                                                                                                                                                                                                                                                                                                                                                      1\n",
       "Name: moves, Length: 18920, dtype: int64"
      ]
     },
     "execution_count": 11,
     "metadata": {},
     "output_type": "execute_result"
    }
   ],
   "source": [
    "df.moves.value_counts()"
   ]
  },
  {
   "cell_type": "code",
   "execution_count": 12,
   "metadata": {},
   "outputs": [],
   "source": [
    "def first_capture(moves):\n",
    "    for index, move in enumerate(moves.split()):\n",
    "        if 'x' in move:\n",
    "            if index%2==0:\n",
    "                return 'white'\n",
    "            else:\n",
    "                return 'black'\n",
    "    return None\n",
    "\n",
    "\n",
    "def count_captures(moves):\n",
    "    white_captures = 0\n",
    "    black_captures = 0\n",
    "    for index, move in enumerate(moves.split()):\n",
    "        if 'x' in move:\n",
    "            if index%2 == 0:\n",
    "                white_captures += 1\n",
    "            else:\n",
    "                black_captures += 1\n",
    "    return [white_captures, black_captures]\n",
    "\n",
    "\n",
    "def count_n_captures(moves, n=3):\n",
    "    white_captures = 0\n",
    "    black_captures = 0\n",
    "    for index, move in enumerate(moves.split()):\n",
    "        if 'x' in move:\n",
    "            if index%2 == 0:\n",
    "                white_captures += 1\n",
    "            else:\n",
    "                black_captures += 1\n",
    "        if white_captures == n or black_captures == n:\n",
    "            return 'white' if white_captures == n else 'black'\n",
    "        \n",
    "def first_castle(moves):\n",
    "    for index, move in enumerate(moves.split()):\n",
    "        if move in ('O-O', 'O-O-O'):\n",
    "            color = 'white' if index%2==0 else 'black'\n",
    "            return '{}_{}'.format(color, move.replace(\"-\", \"_\"))\n",
    "    return None \n",
    "\n",
    "\n",
    "def make_features(df, n):\n",
    "    df['count_captures'] = df['moves'].apply(count_captures)\n",
    "    n_captures = [count_n_captures(move, n) for move in df['moves']]\n",
    "    df[f'count_{n}_captures'] = n_captures\n",
    "    df['first_castle'] = df['moves'].apply(first_castle)\n",
    "    return df"
   ]
  },
  {
   "cell_type": "code",
   "execution_count": 13,
   "metadata": {},
   "outputs": [
    {
     "data": {
      "text/html": [
       "<div>\n",
       "<style scoped>\n",
       "    .dataframe tbody tr th:only-of-type {\n",
       "        vertical-align: middle;\n",
       "    }\n",
       "\n",
       "    .dataframe tbody tr th {\n",
       "        vertical-align: top;\n",
       "    }\n",
       "\n",
       "    .dataframe thead th {\n",
       "        text-align: right;\n",
       "    }\n",
       "</style>\n",
       "<table border=\"1\" class=\"dataframe\">\n",
       "  <thead>\n",
       "    <tr style=\"text-align: right;\">\n",
       "      <th></th>\n",
       "      <th>id</th>\n",
       "      <th>rated</th>\n",
       "      <th>created_at</th>\n",
       "      <th>last_move_at</th>\n",
       "      <th>turns</th>\n",
       "      <th>victory_status</th>\n",
       "      <th>winner</th>\n",
       "      <th>increment_code</th>\n",
       "      <th>white_id</th>\n",
       "      <th>white_rating</th>\n",
       "      <th>black_id</th>\n",
       "      <th>black_rating</th>\n",
       "      <th>moves</th>\n",
       "      <th>opening_eco</th>\n",
       "      <th>opening_name</th>\n",
       "      <th>opening_ply</th>\n",
       "    </tr>\n",
       "  </thead>\n",
       "  <tbody>\n",
       "    <tr>\n",
       "      <th>0</th>\n",
       "      <td>TZJHLljE</td>\n",
       "      <td>False</td>\n",
       "      <td>1.504210e+12</td>\n",
       "      <td>1.504210e+12</td>\n",
       "      <td>13</td>\n",
       "      <td>outoftime</td>\n",
       "      <td>white</td>\n",
       "      <td>15+2</td>\n",
       "      <td>bourgris</td>\n",
       "      <td>1500</td>\n",
       "      <td>a-00</td>\n",
       "      <td>1191</td>\n",
       "      <td>d4 d5 c4 c6 cxd5 e6 dxe6 fxe6 Nf3 Bb4+ Nc3 Ba5...</td>\n",
       "      <td>D10</td>\n",
       "      <td>Slav Defense: Exchange Variation</td>\n",
       "      <td>5</td>\n",
       "    </tr>\n",
       "  </tbody>\n",
       "</table>\n",
       "</div>"
      ],
      "text/plain": [
       "         id  rated    created_at  last_move_at  turns victory_status winner  \\\n",
       "0  TZJHLljE  False  1.504210e+12  1.504210e+12     13      outoftime  white   \n",
       "\n",
       "  increment_code  white_id  white_rating black_id  black_rating  \\\n",
       "0           15+2  bourgris          1500     a-00          1191   \n",
       "\n",
       "                                               moves opening_eco  \\\n",
       "0  d4 d5 c4 c6 cxd5 e6 dxe6 fxe6 Nf3 Bb4+ Nc3 Ba5...         D10   \n",
       "\n",
       "                       opening_name  opening_ply  \n",
       "0  Slav Defense: Exchange Variation            5  "
      ]
     },
     "execution_count": 13,
     "metadata": {},
     "output_type": "execute_result"
    }
   ],
   "source": [
    "raf_df = pd.read_csv(\"games.csv\")\n",
    "raf_df.head(1)"
   ]
  },
  {
   "cell_type": "code",
   "execution_count": 14,
   "metadata": {},
   "outputs": [
    {
     "data": {
      "text/html": [
       "<div>\n",
       "<style scoped>\n",
       "    .dataframe tbody tr th:only-of-type {\n",
       "        vertical-align: middle;\n",
       "    }\n",
       "\n",
       "    .dataframe tbody tr th {\n",
       "        vertical-align: top;\n",
       "    }\n",
       "\n",
       "    .dataframe thead th {\n",
       "        text-align: right;\n",
       "    }\n",
       "</style>\n",
       "<table border=\"1\" class=\"dataframe\">\n",
       "  <thead>\n",
       "    <tr style=\"text-align: right;\">\n",
       "      <th></th>\n",
       "      <th>id</th>\n",
       "      <th>rated</th>\n",
       "      <th>created_at</th>\n",
       "      <th>last_move_at</th>\n",
       "      <th>turns</th>\n",
       "      <th>victory_status</th>\n",
       "      <th>winner</th>\n",
       "      <th>increment_code</th>\n",
       "      <th>white_id</th>\n",
       "      <th>white_rating</th>\n",
       "      <th>black_id</th>\n",
       "      <th>black_rating</th>\n",
       "      <th>moves</th>\n",
       "      <th>opening_eco</th>\n",
       "      <th>opening_name</th>\n",
       "      <th>opening_ply</th>\n",
       "      <th>count_captures</th>\n",
       "      <th>count_5_captures</th>\n",
       "      <th>first_castle</th>\n",
       "    </tr>\n",
       "  </thead>\n",
       "  <tbody>\n",
       "    <tr>\n",
       "      <th>0</th>\n",
       "      <td>TZJHLljE</td>\n",
       "      <td>False</td>\n",
       "      <td>1.504210e+12</td>\n",
       "      <td>1.504210e+12</td>\n",
       "      <td>13</td>\n",
       "      <td>outoftime</td>\n",
       "      <td>white</td>\n",
       "      <td>15+2</td>\n",
       "      <td>bourgris</td>\n",
       "      <td>1500</td>\n",
       "      <td>a-00</td>\n",
       "      <td>1191</td>\n",
       "      <td>d4 d5 c4 c6 cxd5 e6 dxe6 fxe6 Nf3 Bb4+ Nc3 Ba5...</td>\n",
       "      <td>D10</td>\n",
       "      <td>Slav Defense: Exchange Variation</td>\n",
       "      <td>5</td>\n",
       "      <td>[2, 1]</td>\n",
       "      <td>None</td>\n",
       "      <td>None</td>\n",
       "    </tr>\n",
       "    <tr>\n",
       "      <th>1</th>\n",
       "      <td>l1NXvwaE</td>\n",
       "      <td>True</td>\n",
       "      <td>1.504130e+12</td>\n",
       "      <td>1.504130e+12</td>\n",
       "      <td>16</td>\n",
       "      <td>resign</td>\n",
       "      <td>black</td>\n",
       "      <td>5+10</td>\n",
       "      <td>a-00</td>\n",
       "      <td>1322</td>\n",
       "      <td>skinnerua</td>\n",
       "      <td>1261</td>\n",
       "      <td>d4 Nc6 e4 e5 f4 f6 dxe5 fxe5 fxe5 Nxe5 Qd4 Nc6...</td>\n",
       "      <td>B00</td>\n",
       "      <td>Nimzowitsch Defense: Kennedy Variation</td>\n",
       "      <td>4</td>\n",
       "      <td>[2, 3]</td>\n",
       "      <td>None</td>\n",
       "      <td>None</td>\n",
       "    </tr>\n",
       "    <tr>\n",
       "      <th>2</th>\n",
       "      <td>mIICvQHh</td>\n",
       "      <td>True</td>\n",
       "      <td>1.504130e+12</td>\n",
       "      <td>1.504130e+12</td>\n",
       "      <td>61</td>\n",
       "      <td>mate</td>\n",
       "      <td>white</td>\n",
       "      <td>5+10</td>\n",
       "      <td>ischia</td>\n",
       "      <td>1496</td>\n",
       "      <td>a-00</td>\n",
       "      <td>1500</td>\n",
       "      <td>e4 e5 d3 d6 Be3 c6 Be2 b5 Nd2 a5 a4 c5 axb5 Nc...</td>\n",
       "      <td>C20</td>\n",
       "      <td>King's Pawn Game: Leonardis Variation</td>\n",
       "      <td>3</td>\n",
       "      <td>[14, 3]</td>\n",
       "      <td>white</td>\n",
       "      <td>None</td>\n",
       "    </tr>\n",
       "  </tbody>\n",
       "</table>\n",
       "</div>"
      ],
      "text/plain": [
       "         id  rated    created_at  last_move_at  turns victory_status winner  \\\n",
       "0  TZJHLljE  False  1.504210e+12  1.504210e+12     13      outoftime  white   \n",
       "1  l1NXvwaE   True  1.504130e+12  1.504130e+12     16         resign  black   \n",
       "2  mIICvQHh   True  1.504130e+12  1.504130e+12     61           mate  white   \n",
       "\n",
       "  increment_code  white_id  white_rating   black_id  black_rating  \\\n",
       "0           15+2  bourgris          1500       a-00          1191   \n",
       "1           5+10      a-00          1322  skinnerua          1261   \n",
       "2           5+10    ischia          1496       a-00          1500   \n",
       "\n",
       "                                               moves opening_eco  \\\n",
       "0  d4 d5 c4 c6 cxd5 e6 dxe6 fxe6 Nf3 Bb4+ Nc3 Ba5...         D10   \n",
       "1  d4 Nc6 e4 e5 f4 f6 dxe5 fxe5 fxe5 Nxe5 Qd4 Nc6...         B00   \n",
       "2  e4 e5 d3 d6 Be3 c6 Be2 b5 Nd2 a5 a4 c5 axb5 Nc...         C20   \n",
       "\n",
       "                             opening_name  opening_ply count_captures  \\\n",
       "0        Slav Defense: Exchange Variation            5         [2, 1]   \n",
       "1  Nimzowitsch Defense: Kennedy Variation            4         [2, 3]   \n",
       "2   King's Pawn Game: Leonardis Variation            3        [14, 3]   \n",
       "\n",
       "  count_5_captures first_castle  \n",
       "0             None         None  \n",
       "1             None         None  \n",
       "2            white         None  "
      ]
     },
     "execution_count": 14,
     "metadata": {},
     "output_type": "execute_result"
    }
   ],
   "source": [
    "raf_df = make_features(raf_df, n=5)\n",
    "raf_df.head(3)"
   ]
  },
  {
   "cell_type": "code",
   "execution_count": 15,
   "metadata": {},
   "outputs": [
    {
     "data": {
      "text/plain": [
       "Index(['id', 'rated', 'created_at', 'last_move_at', 'turns', 'victory_status',\n",
       "       'winner', 'increment_code', 'white_id', 'white_rating', 'black_id',\n",
       "       'black_rating', 'moves', 'opening_eco', 'opening_name', 'opening_ply',\n",
       "       'count_captures', 'count_5_captures', 'first_castle'],\n",
       "      dtype='object')"
      ]
     },
     "execution_count": 15,
     "metadata": {},
     "output_type": "execute_result"
    }
   ],
   "source": [
    "raf_df.columns"
   ]
  },
  {
   "cell_type": "code",
   "execution_count": 16,
   "metadata": {},
   "outputs": [
    {
     "name": "stdout",
     "output_type": "stream",
     "text": [
      "Index(['id', 'rated', 'created_at', 'last_move_at', 'turns', 'victory_status',\n",
      "       'winner', 'increment_code', 'white_id', 'white_rating', 'black_id',\n",
      "       'black_rating', 'moves', 'opening_eco', 'opening_name', 'opening_ply',\n",
      "       'count_captures', 'count_5_captures', 'first_castle'],\n",
      "      dtype='object')\n"
     ]
    },
    {
     "data": {
      "text/html": [
       "<div>\n",
       "<style scoped>\n",
       "    .dataframe tbody tr th:only-of-type {\n",
       "        vertical-align: middle;\n",
       "    }\n",
       "\n",
       "    .dataframe tbody tr th {\n",
       "        vertical-align: top;\n",
       "    }\n",
       "\n",
       "    .dataframe thead th {\n",
       "        text-align: right;\n",
       "    }\n",
       "</style>\n",
       "<table border=\"1\" class=\"dataframe\">\n",
       "  <thead>\n",
       "    <tr style=\"text-align: right;\">\n",
       "      <th></th>\n",
       "      <th>id</th>\n",
       "      <th>rated</th>\n",
       "      <th>created_at</th>\n",
       "      <th>last_move_at</th>\n",
       "      <th>turns</th>\n",
       "      <th>victory_status</th>\n",
       "      <th>winner</th>\n",
       "      <th>increment_code</th>\n",
       "      <th>white_id</th>\n",
       "      <th>white_rating</th>\n",
       "      <th>black_id</th>\n",
       "      <th>black_rating</th>\n",
       "      <th>moves</th>\n",
       "      <th>opening_eco</th>\n",
       "      <th>opening_name</th>\n",
       "      <th>opening_ply</th>\n",
       "      <th>count_captures</th>\n",
       "      <th>count_5_captures</th>\n",
       "      <th>first_castle</th>\n",
       "    </tr>\n",
       "  </thead>\n",
       "  <tbody>\n",
       "    <tr>\n",
       "      <th>0</th>\n",
       "      <td>TZJHLljE</td>\n",
       "      <td>False</td>\n",
       "      <td>1.504210e+12</td>\n",
       "      <td>1.504210e+12</td>\n",
       "      <td>13</td>\n",
       "      <td>outoftime</td>\n",
       "      <td>white</td>\n",
       "      <td>15+2</td>\n",
       "      <td>bourgris</td>\n",
       "      <td>1500</td>\n",
       "      <td>a-00</td>\n",
       "      <td>1191</td>\n",
       "      <td>d4 d5 c4 c6 cxd5 e6 dxe6 fxe6 Nf3 Bb4+ Nc3 Ba5...</td>\n",
       "      <td>D10</td>\n",
       "      <td>Slav Defense: Exchange Variation</td>\n",
       "      <td>5</td>\n",
       "      <td>[2, 1]</td>\n",
       "      <td>None</td>\n",
       "      <td>None</td>\n",
       "    </tr>\n",
       "    <tr>\n",
       "      <th>1</th>\n",
       "      <td>l1NXvwaE</td>\n",
       "      <td>True</td>\n",
       "      <td>1.504130e+12</td>\n",
       "      <td>1.504130e+12</td>\n",
       "      <td>16</td>\n",
       "      <td>resign</td>\n",
       "      <td>black</td>\n",
       "      <td>5+10</td>\n",
       "      <td>a-00</td>\n",
       "      <td>1322</td>\n",
       "      <td>skinnerua</td>\n",
       "      <td>1261</td>\n",
       "      <td>d4 Nc6 e4 e5 f4 f6 dxe5 fxe5 fxe5 Nxe5 Qd4 Nc6...</td>\n",
       "      <td>B00</td>\n",
       "      <td>Nimzowitsch Defense: Kennedy Variation</td>\n",
       "      <td>4</td>\n",
       "      <td>[2, 3]</td>\n",
       "      <td>None</td>\n",
       "      <td>None</td>\n",
       "    </tr>\n",
       "    <tr>\n",
       "      <th>2</th>\n",
       "      <td>mIICvQHh</td>\n",
       "      <td>True</td>\n",
       "      <td>1.504130e+12</td>\n",
       "      <td>1.504130e+12</td>\n",
       "      <td>61</td>\n",
       "      <td>mate</td>\n",
       "      <td>white</td>\n",
       "      <td>5+10</td>\n",
       "      <td>ischia</td>\n",
       "      <td>1496</td>\n",
       "      <td>a-00</td>\n",
       "      <td>1500</td>\n",
       "      <td>e4 e5 d3 d6 Be3 c6 Be2 b5 Nd2 a5 a4 c5 axb5 Nc...</td>\n",
       "      <td>C20</td>\n",
       "      <td>King's Pawn Game: Leonardis Variation</td>\n",
       "      <td>3</td>\n",
       "      <td>[14, 3]</td>\n",
       "      <td>white</td>\n",
       "      <td>None</td>\n",
       "    </tr>\n",
       "    <tr>\n",
       "      <th>3</th>\n",
       "      <td>kWKvrqYL</td>\n",
       "      <td>True</td>\n",
       "      <td>1.504110e+12</td>\n",
       "      <td>1.504110e+12</td>\n",
       "      <td>61</td>\n",
       "      <td>mate</td>\n",
       "      <td>white</td>\n",
       "      <td>20+0</td>\n",
       "      <td>daniamurashov</td>\n",
       "      <td>1439</td>\n",
       "      <td>adivanov2009</td>\n",
       "      <td>1454</td>\n",
       "      <td>d4 d5 Nf3 Bf5 Nc3 Nf6 Bf4 Ng4 e3 Nc6 Be2 Qd7 O...</td>\n",
       "      <td>D02</td>\n",
       "      <td>Queen's Pawn Game: Zukertort Variation</td>\n",
       "      <td>3</td>\n",
       "      <td>[10, 4]</td>\n",
       "      <td>white</td>\n",
       "      <td>white_O_O</td>\n",
       "    </tr>\n",
       "    <tr>\n",
       "      <th>4</th>\n",
       "      <td>9tXo1AUZ</td>\n",
       "      <td>True</td>\n",
       "      <td>1.504030e+12</td>\n",
       "      <td>1.504030e+12</td>\n",
       "      <td>95</td>\n",
       "      <td>mate</td>\n",
       "      <td>white</td>\n",
       "      <td>30+3</td>\n",
       "      <td>nik221107</td>\n",
       "      <td>1523</td>\n",
       "      <td>adivanov2009</td>\n",
       "      <td>1469</td>\n",
       "      <td>e4 e5 Nf3 d6 d4 Nc6 d5 Nb4 a3 Na6 Nc3 Be7 b4 N...</td>\n",
       "      <td>C41</td>\n",
       "      <td>Philidor Defense</td>\n",
       "      <td>5</td>\n",
       "      <td>[14, 10]</td>\n",
       "      <td>white</td>\n",
       "      <td>black_O_O</td>\n",
       "    </tr>\n",
       "  </tbody>\n",
       "</table>\n",
       "</div>"
      ],
      "text/plain": [
       "         id  rated    created_at  last_move_at  turns victory_status winner  \\\n",
       "0  TZJHLljE  False  1.504210e+12  1.504210e+12     13      outoftime  white   \n",
       "1  l1NXvwaE   True  1.504130e+12  1.504130e+12     16         resign  black   \n",
       "2  mIICvQHh   True  1.504130e+12  1.504130e+12     61           mate  white   \n",
       "3  kWKvrqYL   True  1.504110e+12  1.504110e+12     61           mate  white   \n",
       "4  9tXo1AUZ   True  1.504030e+12  1.504030e+12     95           mate  white   \n",
       "\n",
       "  increment_code       white_id  white_rating      black_id  black_rating  \\\n",
       "0           15+2       bourgris          1500          a-00          1191   \n",
       "1           5+10           a-00          1322     skinnerua          1261   \n",
       "2           5+10         ischia          1496          a-00          1500   \n",
       "3           20+0  daniamurashov          1439  adivanov2009          1454   \n",
       "4           30+3      nik221107          1523  adivanov2009          1469   \n",
       "\n",
       "                                               moves opening_eco  \\\n",
       "0  d4 d5 c4 c6 cxd5 e6 dxe6 fxe6 Nf3 Bb4+ Nc3 Ba5...         D10   \n",
       "1  d4 Nc6 e4 e5 f4 f6 dxe5 fxe5 fxe5 Nxe5 Qd4 Nc6...         B00   \n",
       "2  e4 e5 d3 d6 Be3 c6 Be2 b5 Nd2 a5 a4 c5 axb5 Nc...         C20   \n",
       "3  d4 d5 Nf3 Bf5 Nc3 Nf6 Bf4 Ng4 e3 Nc6 Be2 Qd7 O...         D02   \n",
       "4  e4 e5 Nf3 d6 d4 Nc6 d5 Nb4 a3 Na6 Nc3 Be7 b4 N...         C41   \n",
       "\n",
       "                             opening_name  opening_ply count_captures  \\\n",
       "0        Slav Defense: Exchange Variation            5         [2, 1]   \n",
       "1  Nimzowitsch Defense: Kennedy Variation            4         [2, 3]   \n",
       "2   King's Pawn Game: Leonardis Variation            3        [14, 3]   \n",
       "3  Queen's Pawn Game: Zukertort Variation            3        [10, 4]   \n",
       "4                        Philidor Defense            5       [14, 10]   \n",
       "\n",
       "  count_5_captures first_castle  \n",
       "0             None         None  \n",
       "1             None         None  \n",
       "2            white         None  \n",
       "3            white    white_O_O  \n",
       "4            white    black_O_O  "
      ]
     },
     "execution_count": 16,
     "metadata": {},
     "output_type": "execute_result"
    }
   ],
   "source": [
    "df = raf_df.copy()\n",
    "print(df.columns)\n",
    "df.head()"
   ]
  },
  {
   "cell_type": "code",
   "execution_count": null,
   "metadata": {},
   "outputs": [],
   "source": [
    "#moves0 = raf_df.moves[0]\n",
    "#first_capture(moves0), count_captures(moves0), count_n_captures(moves0, 2)"
   ]
  },
  {
   "cell_type": "code",
   "execution_count": 17,
   "metadata": {},
   "outputs": [
    {
     "data": {
      "text/plain": [
       "'d4 d5 e4 dxe4 Nc3 Nf6 f3 exf3 Nxf3 Nc6 Bb5 a6 Bd3 Bg4 O-O Nxd4 Be2 Nxe2+ Qxe2 Bxf3 Qxf3 Qd4+ Be3 Qg4 Qxb7 Rd8 Qc6+ Nd7 Nd5 e6 Nxc7+ Ke7 Bd2'"
      ]
     },
     "execution_count": 17,
     "metadata": {},
     "output_type": "execute_result"
    }
   ],
   "source": [
    "df.moves[6]"
   ]
  },
  {
   "cell_type": "code",
   "execution_count": 18,
   "metadata": {},
   "outputs": [
    {
     "data": {
      "text/plain": [
       "'black_O_O'"
      ]
     },
     "execution_count": 18,
     "metadata": {},
     "output_type": "execute_result"
    }
   ],
   "source": [
    "first_castle(df.moves[4])"
   ]
  },
  {
   "cell_type": "code",
   "execution_count": 19,
   "metadata": {},
   "outputs": [
    {
     "data": {
      "text/html": [
       "<div>\n",
       "<style scoped>\n",
       "    .dataframe tbody tr th:only-of-type {\n",
       "        vertical-align: middle;\n",
       "    }\n",
       "\n",
       "    .dataframe tbody tr th {\n",
       "        vertical-align: top;\n",
       "    }\n",
       "\n",
       "    .dataframe thead th {\n",
       "        text-align: right;\n",
       "    }\n",
       "</style>\n",
       "<table border=\"1\" class=\"dataframe\">\n",
       "  <thead>\n",
       "    <tr style=\"text-align: right;\">\n",
       "      <th></th>\n",
       "      <th>id</th>\n",
       "      <th>rated</th>\n",
       "      <th>created_at</th>\n",
       "      <th>last_move_at</th>\n",
       "      <th>turns</th>\n",
       "      <th>victory_status</th>\n",
       "      <th>winner</th>\n",
       "      <th>increment_code</th>\n",
       "      <th>white_id</th>\n",
       "      <th>white_rating</th>\n",
       "      <th>...</th>\n",
       "      <th>black_rating</th>\n",
       "      <th>moves</th>\n",
       "      <th>opening_eco</th>\n",
       "      <th>opening_name</th>\n",
       "      <th>opening_ply</th>\n",
       "      <th>count_captures</th>\n",
       "      <th>count_5_captures</th>\n",
       "      <th>first_castle</th>\n",
       "      <th>minutes</th>\n",
       "      <th>increment_secs</th>\n",
       "    </tr>\n",
       "  </thead>\n",
       "  <tbody>\n",
       "    <tr>\n",
       "      <th>0</th>\n",
       "      <td>TZJHLljE</td>\n",
       "      <td>False</td>\n",
       "      <td>1.504210e+12</td>\n",
       "      <td>1.504210e+12</td>\n",
       "      <td>13</td>\n",
       "      <td>outoftime</td>\n",
       "      <td>white</td>\n",
       "      <td>15+2</td>\n",
       "      <td>bourgris</td>\n",
       "      <td>1500</td>\n",
       "      <td>...</td>\n",
       "      <td>1191</td>\n",
       "      <td>d4 d5 c4 c6 cxd5 e6 dxe6 fxe6 Nf3 Bb4+ Nc3 Ba5...</td>\n",
       "      <td>D10</td>\n",
       "      <td>Slav Defense: Exchange Variation</td>\n",
       "      <td>5</td>\n",
       "      <td>[2, 1]</td>\n",
       "      <td>None</td>\n",
       "      <td>None</td>\n",
       "      <td>15</td>\n",
       "      <td>2</td>\n",
       "    </tr>\n",
       "    <tr>\n",
       "      <th>1</th>\n",
       "      <td>l1NXvwaE</td>\n",
       "      <td>True</td>\n",
       "      <td>1.504130e+12</td>\n",
       "      <td>1.504130e+12</td>\n",
       "      <td>16</td>\n",
       "      <td>resign</td>\n",
       "      <td>black</td>\n",
       "      <td>5+10</td>\n",
       "      <td>a-00</td>\n",
       "      <td>1322</td>\n",
       "      <td>...</td>\n",
       "      <td>1261</td>\n",
       "      <td>d4 Nc6 e4 e5 f4 f6 dxe5 fxe5 fxe5 Nxe5 Qd4 Nc6...</td>\n",
       "      <td>B00</td>\n",
       "      <td>Nimzowitsch Defense: Kennedy Variation</td>\n",
       "      <td>4</td>\n",
       "      <td>[2, 3]</td>\n",
       "      <td>None</td>\n",
       "      <td>None</td>\n",
       "      <td>5</td>\n",
       "      <td>10</td>\n",
       "    </tr>\n",
       "    <tr>\n",
       "      <th>2</th>\n",
       "      <td>mIICvQHh</td>\n",
       "      <td>True</td>\n",
       "      <td>1.504130e+12</td>\n",
       "      <td>1.504130e+12</td>\n",
       "      <td>61</td>\n",
       "      <td>mate</td>\n",
       "      <td>white</td>\n",
       "      <td>5+10</td>\n",
       "      <td>ischia</td>\n",
       "      <td>1496</td>\n",
       "      <td>...</td>\n",
       "      <td>1500</td>\n",
       "      <td>e4 e5 d3 d6 Be3 c6 Be2 b5 Nd2 a5 a4 c5 axb5 Nc...</td>\n",
       "      <td>C20</td>\n",
       "      <td>King's Pawn Game: Leonardis Variation</td>\n",
       "      <td>3</td>\n",
       "      <td>[14, 3]</td>\n",
       "      <td>white</td>\n",
       "      <td>None</td>\n",
       "      <td>5</td>\n",
       "      <td>10</td>\n",
       "    </tr>\n",
       "  </tbody>\n",
       "</table>\n",
       "<p>3 rows × 21 columns</p>\n",
       "</div>"
      ],
      "text/plain": [
       "         id  rated    created_at  last_move_at  turns victory_status winner  \\\n",
       "0  TZJHLljE  False  1.504210e+12  1.504210e+12     13      outoftime  white   \n",
       "1  l1NXvwaE   True  1.504130e+12  1.504130e+12     16         resign  black   \n",
       "2  mIICvQHh   True  1.504130e+12  1.504130e+12     61           mate  white   \n",
       "\n",
       "  increment_code  white_id  white_rating      ...       black_rating  \\\n",
       "0           15+2  bourgris          1500      ...               1191   \n",
       "1           5+10      a-00          1322      ...               1261   \n",
       "2           5+10    ischia          1496      ...               1500   \n",
       "\n",
       "                                               moves opening_eco  \\\n",
       "0  d4 d5 c4 c6 cxd5 e6 dxe6 fxe6 Nf3 Bb4+ Nc3 Ba5...         D10   \n",
       "1  d4 Nc6 e4 e5 f4 f6 dxe5 fxe5 fxe5 Nxe5 Qd4 Nc6...         B00   \n",
       "2  e4 e5 d3 d6 Be3 c6 Be2 b5 Nd2 a5 a4 c5 axb5 Nc...         C20   \n",
       "\n",
       "                             opening_name opening_ply  count_captures  \\\n",
       "0        Slav Defense: Exchange Variation           5          [2, 1]   \n",
       "1  Nimzowitsch Defense: Kennedy Variation           4          [2, 3]   \n",
       "2   King's Pawn Game: Leonardis Variation           3         [14, 3]   \n",
       "\n",
       "  count_5_captures first_castle minutes increment_secs  \n",
       "0             None         None      15              2  \n",
       "1             None         None       5             10  \n",
       "2            white         None       5             10  \n",
       "\n",
       "[3 rows x 21 columns]"
      ]
     },
     "execution_count": 19,
     "metadata": {},
     "output_type": "execute_result"
    }
   ],
   "source": [
    "# Splitting time into minutes and increment_seconds:\n",
    "df['minutes'] = df['increment_code'].apply(lambda x: x.split('+')[0])\n",
    "\n",
    "df['increment_secs'] = df['increment_code'].apply(lambda x: x.split('+')[1])\n",
    "df.head(3)"
   ]
  },
  {
   "cell_type": "code",
   "execution_count": 20,
   "metadata": {},
   "outputs": [
    {
     "data": {
      "text/plain": [
       "resign       11147\n",
       "mate          6325\n",
       "outoftime     1680\n",
       "draw           906\n",
       "Name: victory_status, dtype: int64"
      ]
     },
     "execution_count": 20,
     "metadata": {},
     "output_type": "execute_result"
    }
   ],
   "source": [
    "df.victory_status.value_counts()"
   ]
  },
  {
   "cell_type": "code",
   "execution_count": 21,
   "metadata": {},
   "outputs": [
    {
     "data": {
      "image/png": "[encoded data removed]",
      "text/plain": [
       "<Figure size 432x288 with 1 Axes>"
      ]
     },
     "metadata": {
      "needs_background": "light"
     },
     "output_type": "display_data"
    }
   ],
   "source": [
    "g = sns.boxplot(x = 'victory_status', y = 'turns', data = df)"
   ]
  },
  {
   "cell_type": "code",
   "execution_count": 22,
   "metadata": {},
   "outputs": [
    {
     "name": "stdout",
     "output_type": "stream",
     "text": [
      "white    10001\n",
      "black     9107\n",
      "draw       950\n",
      "Name: winner, dtype: int64\n",
      "\n",
      "1    16155\n",
      "0     3903\n",
      "Name: rated, dtype: int64\n"
     ]
    }
   ],
   "source": [
    "#df.winner.replace({'black': 0, 'white': 1}, inplace=True)\n",
    "df.rated.replace({False: 0, True: 1}, inplace=True)\n",
    "print(df.winner.value_counts())\n",
    "print('')\n",
    "print(df.rated.value_counts())"
   ]
  },
  {
   "cell_type": "code",
   "execution_count": 23,
   "metadata": {},
   "outputs": [
    {
     "data": {
      "text/html": [
       "<div>\n",
       "<style scoped>\n",
       "    .dataframe tbody tr th:only-of-type {\n",
       "        vertical-align: middle;\n",
       "    }\n",
       "\n",
       "    .dataframe tbody tr th {\n",
       "        vertical-align: top;\n",
       "    }\n",
       "\n",
       "    .dataframe thead th {\n",
       "        text-align: right;\n",
       "    }\n",
       "</style>\n",
       "<table border=\"1\" class=\"dataframe\">\n",
       "  <thead>\n",
       "    <tr style=\"text-align: right;\">\n",
       "      <th></th>\n",
       "      <th>id</th>\n",
       "      <th>rated</th>\n",
       "      <th>created_at</th>\n",
       "      <th>last_move_at</th>\n",
       "      <th>turns</th>\n",
       "      <th>victory_status</th>\n",
       "      <th>winner</th>\n",
       "      <th>increment_code</th>\n",
       "      <th>white_id</th>\n",
       "      <th>white_rating</th>\n",
       "      <th>...</th>\n",
       "      <th>black_rating</th>\n",
       "      <th>moves</th>\n",
       "      <th>opening_eco</th>\n",
       "      <th>opening_name</th>\n",
       "      <th>opening_ply</th>\n",
       "      <th>count_captures</th>\n",
       "      <th>count_5_captures</th>\n",
       "      <th>first_castle</th>\n",
       "      <th>minutes</th>\n",
       "      <th>increment_secs</th>\n",
       "    </tr>\n",
       "  </thead>\n",
       "  <tbody>\n",
       "    <tr>\n",
       "      <th>0</th>\n",
       "      <td>TZJHLljE</td>\n",
       "      <td>0</td>\n",
       "      <td>1.504210e+12</td>\n",
       "      <td>1.504210e+12</td>\n",
       "      <td>13</td>\n",
       "      <td>outoftime</td>\n",
       "      <td>white</td>\n",
       "      <td>15+2</td>\n",
       "      <td>bourgris</td>\n",
       "      <td>1500</td>\n",
       "      <td>...</td>\n",
       "      <td>1191</td>\n",
       "      <td>d4 d5 c4 c6 cxd5 e6 dxe6 fxe6 Nf3 Bb4+ Nc3 Ba5...</td>\n",
       "      <td>D10</td>\n",
       "      <td>Slav Defense: Exchange Variation</td>\n",
       "      <td>5</td>\n",
       "      <td>[2, 1]</td>\n",
       "      <td>None</td>\n",
       "      <td>None</td>\n",
       "      <td>15</td>\n",
       "      <td>2</td>\n",
       "    </tr>\n",
       "    <tr>\n",
       "      <th>1</th>\n",
       "      <td>l1NXvwaE</td>\n",
       "      <td>1</td>\n",
       "      <td>1.504130e+12</td>\n",
       "      <td>1.504130e+12</td>\n",
       "      <td>16</td>\n",
       "      <td>resign</td>\n",
       "      <td>black</td>\n",
       "      <td>5+10</td>\n",
       "      <td>a-00</td>\n",
       "      <td>1322</td>\n",
       "      <td>...</td>\n",
       "      <td>1261</td>\n",
       "      <td>d4 Nc6 e4 e5 f4 f6 dxe5 fxe5 fxe5 Nxe5 Qd4 Nc6...</td>\n",
       "      <td>B00</td>\n",
       "      <td>Nimzowitsch Defense: Kennedy Variation</td>\n",
       "      <td>4</td>\n",
       "      <td>[2, 3]</td>\n",
       "      <td>None</td>\n",
       "      <td>None</td>\n",
       "      <td>5</td>\n",
       "      <td>10</td>\n",
       "    </tr>\n",
       "    <tr>\n",
       "      <th>2</th>\n",
       "      <td>mIICvQHh</td>\n",
       "      <td>1</td>\n",
       "      <td>1.504130e+12</td>\n",
       "      <td>1.504130e+12</td>\n",
       "      <td>61</td>\n",
       "      <td>mate</td>\n",
       "      <td>white</td>\n",
       "      <td>5+10</td>\n",
       "      <td>ischia</td>\n",
       "      <td>1496</td>\n",
       "      <td>...</td>\n",
       "      <td>1500</td>\n",
       "      <td>e4 e5 d3 d6 Be3 c6 Be2 b5 Nd2 a5 a4 c5 axb5 Nc...</td>\n",
       "      <td>C20</td>\n",
       "      <td>King's Pawn Game: Leonardis Variation</td>\n",
       "      <td>3</td>\n",
       "      <td>[14, 3]</td>\n",
       "      <td>white</td>\n",
       "      <td>None</td>\n",
       "      <td>5</td>\n",
       "      <td>10</td>\n",
       "    </tr>\n",
       "    <tr>\n",
       "      <th>3</th>\n",
       "      <td>kWKvrqYL</td>\n",
       "      <td>1</td>\n",
       "      <td>1.504110e+12</td>\n",
       "      <td>1.504110e+12</td>\n",
       "      <td>61</td>\n",
       "      <td>mate</td>\n",
       "      <td>white</td>\n",
       "      <td>20+0</td>\n",
       "      <td>daniamurashov</td>\n",
       "      <td>1439</td>\n",
       "      <td>...</td>\n",
       "      <td>1454</td>\n",
       "      <td>d4 d5 Nf3 Bf5 Nc3 Nf6 Bf4 Ng4 e3 Nc6 Be2 Qd7 O...</td>\n",
       "      <td>D02</td>\n",
       "      <td>Queen's Pawn Game: Zukertort Variation</td>\n",
       "      <td>3</td>\n",
       "      <td>[10, 4]</td>\n",
       "      <td>white</td>\n",
       "      <td>white_O_O</td>\n",
       "      <td>20</td>\n",
       "      <td>0</td>\n",
       "    </tr>\n",
       "    <tr>\n",
       "      <th>4</th>\n",
       "      <td>9tXo1AUZ</td>\n",
       "      <td>1</td>\n",
       "      <td>1.504030e+12</td>\n",
       "      <td>1.504030e+12</td>\n",
       "      <td>95</td>\n",
       "      <td>mate</td>\n",
       "      <td>white</td>\n",
       "      <td>30+3</td>\n",
       "      <td>nik221107</td>\n",
       "      <td>1523</td>\n",
       "      <td>...</td>\n",
       "      <td>1469</td>\n",
       "      <td>e4 e5 Nf3 d6 d4 Nc6 d5 Nb4 a3 Na6 Nc3 Be7 b4 N...</td>\n",
       "      <td>C41</td>\n",
       "      <td>Philidor Defense</td>\n",
       "      <td>5</td>\n",
       "      <td>[14, 10]</td>\n",
       "      <td>white</td>\n",
       "      <td>black_O_O</td>\n",
       "      <td>30</td>\n",
       "      <td>3</td>\n",
       "    </tr>\n",
       "  </tbody>\n",
       "</table>\n",
       "<p>5 rows × 21 columns</p>\n",
       "</div>"
      ],
      "text/plain": [
       "         id  rated    created_at  last_move_at  turns victory_status winner  \\\n",
       "0  TZJHLljE      0  1.504210e+12  1.504210e+12     13      outoftime  white   \n",
       "1  l1NXvwaE      1  1.504130e+12  1.504130e+12     16         resign  black   \n",
       "2  mIICvQHh      1  1.504130e+12  1.504130e+12     61           mate  white   \n",
       "3  kWKvrqYL      1  1.504110e+12  1.504110e+12     61           mate  white   \n",
       "4  9tXo1AUZ      1  1.504030e+12  1.504030e+12     95           mate  white   \n",
       "\n",
       "  increment_code       white_id  white_rating      ...       black_rating  \\\n",
       "0           15+2       bourgris          1500      ...               1191   \n",
       "1           5+10           a-00          1322      ...               1261   \n",
       "2           5+10         ischia          1496      ...               1500   \n",
       "3           20+0  daniamurashov          1439      ...               1454   \n",
       "4           30+3      nik221107          1523      ...               1469   \n",
       "\n",
       "                                               moves opening_eco  \\\n",
       "0  d4 d5 c4 c6 cxd5 e6 dxe6 fxe6 Nf3 Bb4+ Nc3 Ba5...         D10   \n",
       "1  d4 Nc6 e4 e5 f4 f6 dxe5 fxe5 fxe5 Nxe5 Qd4 Nc6...         B00   \n",
       "2  e4 e5 d3 d6 Be3 c6 Be2 b5 Nd2 a5 a4 c5 axb5 Nc...         C20   \n",
       "3  d4 d5 Nf3 Bf5 Nc3 Nf6 Bf4 Ng4 e3 Nc6 Be2 Qd7 O...         D02   \n",
       "4  e4 e5 Nf3 d6 d4 Nc6 d5 Nb4 a3 Na6 Nc3 Be7 b4 N...         C41   \n",
       "\n",
       "                             opening_name opening_ply  count_captures  \\\n",
       "0        Slav Defense: Exchange Variation           5          [2, 1]   \n",
       "1  Nimzowitsch Defense: Kennedy Variation           4          [2, 3]   \n",
       "2   King's Pawn Game: Leonardis Variation           3         [14, 3]   \n",
       "3  Queen's Pawn Game: Zukertort Variation           3         [10, 4]   \n",
       "4                        Philidor Defense           5        [14, 10]   \n",
       "\n",
       "  count_5_captures first_castle minutes increment_secs  \n",
       "0             None         None      15              2  \n",
       "1             None         None       5             10  \n",
       "2            white         None       5             10  \n",
       "3            white    white_O_O      20              0  \n",
       "4            white    black_O_O      30              3  \n",
       "\n",
       "[5 rows x 21 columns]"
      ]
     },
     "execution_count": 23,
     "metadata": {},
     "output_type": "execute_result"
    }
   ],
   "source": [
    "df.head()"
   ]
  },
  {
   "cell_type": "code",
   "execution_count": 24,
   "metadata": {},
   "outputs": [],
   "source": [
    "# Drop unnecessary features from dataframe:\n",
    "df.drop(['id', 'created_at', 'last_move_at', 'white_id', 'black_id'], axis=1, inplace=True)\n",
    "#df_target = df.winner\n",
    "#df.drop(['winner'], axis=1, inplace=True)"
   ]
  },
  {
   "cell_type": "code",
   "execution_count": 25,
   "metadata": {},
   "outputs": [
    {
     "data": {
      "text/plain": [
       "array(['white', 'black'], dtype=object)"
      ]
     },
     "execution_count": 25,
     "metadata": {},
     "output_type": "execute_result"
    }
   ],
   "source": [
    "df = df[df['winner'] != 'draw']\n",
    "df.winner.unique()"
   ]
  },
  {
   "cell_type": "code",
   "execution_count": 26,
   "metadata": {},
   "outputs": [
    {
     "ename": "NameError",
     "evalue": "name 'y' is not defined",
     "output_type": "error",
     "traceback": [
      "\u001b[0;31m---------------------------------------------------------------------------\u001b[0m",
      "\u001b[0;31mNameError\u001b[0m                                 Traceback (most recent call last)",
      "\u001b[0;32m<ipython-input-26-5b07edb5faff>\u001b[0m in \u001b[0;36m<module>\u001b[0;34m()\u001b[0m\n\u001b[0;32m----> 1\u001b[0;31m \u001b[0my\u001b[0m\u001b[0;34m.\u001b[0m\u001b[0mwinner\u001b[0m\u001b[0;34m.\u001b[0m\u001b[0munique\u001b[0m\u001b[0;34m(\u001b[0m\u001b[0;34m)\u001b[0m\u001b[0;34m\u001b[0m\u001b[0m\n\u001b[0m",
      "\u001b[0;31mNameError\u001b[0m: name 'y' is not defined"
     ]
    }
   ],
   "source": [
    "y.winner.unique()"
   ]
  },
  {
   "cell_type": "code",
   "execution_count": 27,
   "metadata": {},
   "outputs": [
    {
     "ename": "KeyError",
     "evalue": "\"['first_move'] not in index\"",
     "output_type": "error",
     "traceback": [
      "\u001b[0;31m---------------------------------------------------------------------------\u001b[0m",
      "\u001b[0;31mKeyError\u001b[0m                                  Traceback (most recent call last)",
      "\u001b[0;32m<ipython-input-27-cb40c7a17852>\u001b[0m in \u001b[0;36m<module>\u001b[0;34m()\u001b[0m\n\u001b[1;32m      1\u001b[0m \u001b[0;31m# Winner vs. First move:\u001b[0m\u001b[0;34m\u001b[0m\u001b[0;34m\u001b[0m\u001b[0m\n\u001b[1;32m      2\u001b[0m \u001b[0;34m\u001b[0m\u001b[0m\n\u001b[0;32m----> 3\u001b[0;31m \u001b[0mdf\u001b[0m\u001b[0;34m[\u001b[0m\u001b[0;34m[\u001b[0m\u001b[0;34m'first_move'\u001b[0m\u001b[0;34m,\u001b[0m \u001b[0;34m'winner'\u001b[0m\u001b[0;34m,\u001b[0m \u001b[0;34m'victory_status'\u001b[0m\u001b[0;34m]\u001b[0m\u001b[0;34m]\u001b[0m\u001b[0;34m.\u001b[0m\u001b[0mgroupby\u001b[0m\u001b[0;34m(\u001b[0m\u001b[0;34m[\u001b[0m\u001b[0;34m'first_move'\u001b[0m\u001b[0;34m,\u001b[0m \u001b[0;34m'winner'\u001b[0m\u001b[0;34m]\u001b[0m\u001b[0;34m)\u001b[0m\u001b[0;34m.\u001b[0m\u001b[0mcount\u001b[0m\u001b[0;34m(\u001b[0m\u001b[0;34m)\u001b[0m\u001b[0;31m#.plot(kind='barh')\u001b[0m\u001b[0;34m\u001b[0m\u001b[0m\n\u001b[0m\u001b[1;32m      4\u001b[0m \u001b[0;34m\u001b[0m\u001b[0m\n\u001b[1;32m      5\u001b[0m \u001b[0;31m#sns.barplot()\u001b[0m\u001b[0;34m\u001b[0m\u001b[0;34m\u001b[0m\u001b[0m\n",
      "\u001b[0;32m~/anaconda3/envs/learn-env/lib/python3.6/site-packages/pandas/core/frame.py\u001b[0m in \u001b[0;36m__getitem__\u001b[0;34m(self, key)\u001b[0m\n\u001b[1;32m   2680\u001b[0m         \u001b[0;32mif\u001b[0m \u001b[0misinstance\u001b[0m\u001b[0;34m(\u001b[0m\u001b[0mkey\u001b[0m\u001b[0;34m,\u001b[0m \u001b[0;34m(\u001b[0m\u001b[0mSeries\u001b[0m\u001b[0;34m,\u001b[0m \u001b[0mnp\u001b[0m\u001b[0;34m.\u001b[0m\u001b[0mndarray\u001b[0m\u001b[0;34m,\u001b[0m \u001b[0mIndex\u001b[0m\u001b[0;34m,\u001b[0m \u001b[0mlist\u001b[0m\u001b[0;34m)\u001b[0m\u001b[0;34m)\u001b[0m\u001b[0;34m:\u001b[0m\u001b[0;34m\u001b[0m\u001b[0m\n\u001b[1;32m   2681\u001b[0m             \u001b[0;31m# either boolean or fancy integer index\u001b[0m\u001b[0;34m\u001b[0m\u001b[0;34m\u001b[0m\u001b[0m\n\u001b[0;32m-> 2682\u001b[0;31m             \u001b[0;32mreturn\u001b[0m \u001b[0mself\u001b[0m\u001b[0;34m.\u001b[0m\u001b[0m_getitem_array\u001b[0m\u001b[0;34m(\u001b[0m\u001b[0mkey\u001b[0m\u001b[0;34m)\u001b[0m\u001b[0;34m\u001b[0m\u001b[0m\n\u001b[0m\u001b[1;32m   2683\u001b[0m         \u001b[0;32melif\u001b[0m \u001b[0misinstance\u001b[0m\u001b[0;34m(\u001b[0m\u001b[0mkey\u001b[0m\u001b[0;34m,\u001b[0m \u001b[0mDataFrame\u001b[0m\u001b[0;34m)\u001b[0m\u001b[0;34m:\u001b[0m\u001b[0;34m\u001b[0m\u001b[0m\n\u001b[1;32m   2684\u001b[0m             \u001b[0;32mreturn\u001b[0m \u001b[0mself\u001b[0m\u001b[0;34m.\u001b[0m\u001b[0m_getitem_frame\u001b[0m\u001b[0;34m(\u001b[0m\u001b[0mkey\u001b[0m\u001b[0;34m)\u001b[0m\u001b[0;34m\u001b[0m\u001b[0m\n",
      "\u001b[0;32m~/anaconda3/envs/learn-env/lib/python3.6/site-packages/pandas/core/frame.py\u001b[0m in \u001b[0;36m_getitem_array\u001b[0;34m(self, key)\u001b[0m\n\u001b[1;32m   2724\u001b[0m             \u001b[0;32mreturn\u001b[0m \u001b[0mself\u001b[0m\u001b[0;34m.\u001b[0m\u001b[0m_take\u001b[0m\u001b[0;34m(\u001b[0m\u001b[0mindexer\u001b[0m\u001b[0;34m,\u001b[0m \u001b[0maxis\u001b[0m\u001b[0;34m=\u001b[0m\u001b[0;36m0\u001b[0m\u001b[0;34m)\u001b[0m\u001b[0;34m\u001b[0m\u001b[0m\n\u001b[1;32m   2725\u001b[0m         \u001b[0;32melse\u001b[0m\u001b[0;34m:\u001b[0m\u001b[0;34m\u001b[0m\u001b[0m\n\u001b[0;32m-> 2726\u001b[0;31m             \u001b[0mindexer\u001b[0m \u001b[0;34m=\u001b[0m \u001b[0mself\u001b[0m\u001b[0;34m.\u001b[0m\u001b[0mloc\u001b[0m\u001b[0;34m.\u001b[0m\u001b[0m_convert_to_indexer\u001b[0m\u001b[0;34m(\u001b[0m\u001b[0mkey\u001b[0m\u001b[0;34m,\u001b[0m \u001b[0maxis\u001b[0m\u001b[0;34m=\u001b[0m\u001b[0;36m1\u001b[0m\u001b[0;34m)\u001b[0m\u001b[0;34m\u001b[0m\u001b[0m\n\u001b[0m\u001b[1;32m   2727\u001b[0m             \u001b[0;32mreturn\u001b[0m \u001b[0mself\u001b[0m\u001b[0;34m.\u001b[0m\u001b[0m_take\u001b[0m\u001b[0;34m(\u001b[0m\u001b[0mindexer\u001b[0m\u001b[0;34m,\u001b[0m \u001b[0maxis\u001b[0m\u001b[0;34m=\u001b[0m\u001b[0;36m1\u001b[0m\u001b[0;34m)\u001b[0m\u001b[0;34m\u001b[0m\u001b[0m\n\u001b[1;32m   2728\u001b[0m \u001b[0;34m\u001b[0m\u001b[0m\n",
      "\u001b[0;32m~/anaconda3/envs/learn-env/lib/python3.6/site-packages/pandas/core/indexing.py\u001b[0m in \u001b[0;36m_convert_to_indexer\u001b[0;34m(self, obj, axis, is_setter)\u001b[0m\n\u001b[1;32m   1325\u001b[0m                 \u001b[0;32mif\u001b[0m \u001b[0mmask\u001b[0m\u001b[0;34m.\u001b[0m\u001b[0many\u001b[0m\u001b[0;34m(\u001b[0m\u001b[0;34m)\u001b[0m\u001b[0;34m:\u001b[0m\u001b[0;34m\u001b[0m\u001b[0m\n\u001b[1;32m   1326\u001b[0m                     raise KeyError('{mask} not in index'\n\u001b[0;32m-> 1327\u001b[0;31m                                    .format(mask=objarr[mask]))\n\u001b[0m\u001b[1;32m   1328\u001b[0m \u001b[0;34m\u001b[0m\u001b[0m\n\u001b[1;32m   1329\u001b[0m                 \u001b[0;32mreturn\u001b[0m \u001b[0mcom\u001b[0m\u001b[0;34m.\u001b[0m\u001b[0m_values_from_object\u001b[0m\u001b[0;34m(\u001b[0m\u001b[0mindexer\u001b[0m\u001b[0;34m)\u001b[0m\u001b[0;34m\u001b[0m\u001b[0m\n",
      "\u001b[0;31mKeyError\u001b[0m: \"['first_move'] not in index\""
     ]
    }
   ],
   "source": [
    "# Winner vs. First move:\n",
    "\n",
    "df[['first_move', 'winner', 'victory_status']].groupby(['first_move', 'winner']).count()#.plot(kind='barh')\n",
    "\n",
    "#sns.barplot()"
   ]
  },
  {
   "cell_type": "code",
   "execution_count": null,
   "metadata": {
    "scrolled": true
   },
   "outputs": [],
   "source": [
    "# Creating Dummies and Dropping Columns:\n",
    "first_move_dummies = pd.get_dummies(df.first_move, prefix = 'first')\n",
    "df.drop(['first_move'], axis=1, inplace=True)\n",
    "df.drop(['moves'], axis=1, inplace=True)\n",
    "df = pd.concat([df, first_move_dummies], axis=1)\n",
    "\n",
    "# Removing games with no pieces captured and creating dummies\n",
    "df = df[df.first_capture != 'no']\n",
    "first_capture_dummies = pd.get_dummies(df.first_capture, prefix = 'first_cap')\n",
    "df = pd.concat([df, first_capture_dummies], axis=1)\n",
    "\n",
    "first_5_capture_dummies = pd.get_dummies(df.first_5_captures, prefix = 'first_5_cap')\n",
    "df = pd.concat([df, first_5_capture_dummies], axis=1)\n",
    "\n",
    "first_castle_dummies = pd.get_dummies(df.first_castle, prefix = 'first_castle')\n",
    "df.drop(['first_castle'], axis=1, inplace=True)\n",
    "df = pd.concat([df, first_castle_dummies], axis=1)\n",
    "\n",
    "victory_status_dummies = pd.get_dummies(df.victory_status, prefix='victory')\n",
    "df = pd.concat([df, victory_status_dummies], axis=1)\n",
    "df.drop(['victory_status'], axis=1, inplace=True)\n",
    "\n",
    "opening_eco_dummies = pd.get_dummies(df.opening_eco, prefix='opening_eco')\n",
    "df.drop(['opening_eco'], axis=1, inplace=True)\n",
    "df = pd.concat([df, opening_eco_dummies], axis=1)\n",
    "\n",
    "df.drop(['opening_name', 'increment_code', ], axis=1, inplace=True)\n",
    "\n",
    "df.head(10)"
   ]
  },
  {
   "cell_type": "code",
   "execution_count": null,
   "metadata": {},
   "outputs": [],
   "source": []
  },
  {
   "cell_type": "code",
   "execution_count": null,
   "metadata": {
    "scrolled": true
   },
   "outputs": [],
   "source": [
    "#for col in df.columns:\n",
    "#    print(df[col].value_counts())"
   ]
  },
  {
   "cell_type": "code",
   "execution_count": null,
   "metadata": {},
   "outputs": [],
   "source": [
    "PCA_code = \"\"\"\n",
    "from sklearn.decomposition import PCA\n",
    "\n",
    "pca = PCA(n_components = 2)\n",
    "PCs = pca.fit_transform(first_move_dummies)\n",
    "\n",
    "PCs_df = pd.DataFrame(data = PCs, columns = ['PC1', 'PC2'])\n",
    "PCs_df = PCs_df.assign(winner = df['winner'])\n",
    "\n",
    "sns.scatterplot(x = 'PC1', y = 'PC2',\n",
    "                hue = 'winner',\n",
    "                data = PCs_df,\n",
    "                alpha = 0.5)\n",
    "\n",
    "PCs_df.head()\n",
    "\"\"\""
   ]
  },
  {
   "cell_type": "code",
   "execution_count": null,
   "metadata": {},
   "outputs": [],
   "source": [
    "# Selecting 8 most common first moves:\n",
    "moves_to_use = first_move_dummies.sum().sort_values(ascending=False).head(8).index.tolist()\n",
    "moves_to_use"
   ]
  },
  {
   "cell_type": "code",
   "execution_count": null,
   "metadata": {},
   "outputs": [],
   "source": [
    "# Normalizing Rating Difference:\n",
    "col = 'rating_difference'\n",
    "df['rating_difference_norm'] = (df[col] - min(df[col])) / (max(df[col]) - min(df[col]))"
   ]
  },
  {
   "cell_type": "code",
   "execution_count": null,
   "metadata": {
    "scrolled": false
   },
   "outputs": [],
   "source": [
    "# Reviewing Distribution:\n",
    "df.rating_difference_norm.hist(density=True)"
   ]
  },
  {
   "cell_type": "code",
   "execution_count": null,
   "metadata": {
    "scrolled": true
   },
   "outputs": [],
   "source": [
    "df.describe()"
   ]
  },
  {
   "cell_type": "code",
   "execution_count": null,
   "metadata": {},
   "outputs": [],
   "source": [
    "# Feature Engineering - How many of first 3 moves control/attack the center 'e4, e5, d4, d5'\n",
    "# Possible moves:\n",
    "#    - White: d3, d4, e3, e4, Nf3, Nc3, \n",
    "#    - Black:"
   ]
  },
  {
   "cell_type": "code",
   "execution_count": null,
   "metadata": {},
   "outputs": [],
   "source": [
    "# Feature Engineering - Queen Side vs. King Side Castling:\n",
    "# Implement this!!!"
   ]
  },
  {
   "cell_type": "code",
   "execution_count": null,
   "metadata": {},
   "outputs": [],
   "source": [
    "# Choose X, y:\n",
    "#X = df[['first_cap_black', 'first_5_cap_black', 'first_5_cap_white', 'rating_difference_norm', 'first_castle_white', 'first_castle_no', 'first_castle_black', '']]\n",
    "#X = df.winner.drop(inplace=False)\n",
    "#y = df['winner']"
   ]
  },
  {
   "cell_type": "code",
   "execution_count": null,
   "metadata": {},
   "outputs": [],
   "source": [
    "#df.first_castle_black.unique()"
   ]
  },
  {
   "cell_type": "code",
   "execution_count": null,
   "metadata": {},
   "outputs": [],
   "source": [
    "#df.first_5_cap_tie.unique()"
   ]
  },
  {
   "cell_type": "code",
   "execution_count": null,
   "metadata": {
    "scrolled": true
   },
   "outputs": [],
   "source": [
    "# This code would normalize columns: Should I run this before instead of just normalizing\n",
    "# rating difference above?\n",
    "\n",
    "#for col in df.columns:\n",
    "#    df[col] = (df[col] - min(df[col])) / (max(df[col]) - min(df[col]))"
   ]
  },
  {
   "cell_type": "code",
   "execution_count": null,
   "metadata": {
    "scrolled": true
   },
   "outputs": [],
   "source": [
    "# INSTEAD: I would prefer to make target first column and just reference it by slicing\n",
    "# instead of creating new dataframe. Is that better?\n",
    "\n",
    "y = df[['winner']]\n",
    "X = df.drop(['winner'], axis=1)\n",
    "\n",
    "X.columns"
   ]
  },
  {
   "cell_type": "code",
   "execution_count": null,
   "metadata": {},
   "outputs": [],
   "source": [
    "y.winner.value_counts()"
   ]
  },
  {
   "cell_type": "code",
   "execution_count": null,
   "metadata": {
    "scrolled": true
   },
   "outputs": [],
   "source": [
    "print(X.shape)\n",
    "print(y.shape)\n",
    "y.head( 3 )"
   ]
  },
  {
   "cell_type": "code",
   "execution_count": null,
   "metadata": {},
   "outputs": [],
   "source": [
    "y.head()"
   ]
  },
  {
   "cell_type": "code",
   "execution_count": null,
   "metadata": {},
   "outputs": [],
   "source": [
    "display(X.head())\n",
    "display(y.head())"
   ]
  },
  {
   "cell_type": "code",
   "execution_count": null,
   "metadata": {
    "scrolled": true
   },
   "outputs": [],
   "source": [
    "#Normalize the Data\n",
    "#for col in df.columns:\n",
    "#    df[col] = (df[col]-min(df[col]))/ (max(df[col]) - min(df[col]))\n",
    "\n",
    "# Split the data into train and test sets.\n",
    "X_train, X_test, y_train, y_test = train_test_split(X, y, test_size=.20)"
   ]
  },
  {
   "cell_type": "code",
   "execution_count": null,
   "metadata": {
    "scrolled": false
   },
   "outputs": [],
   "source": [
    "# Fit a model\n",
    "logreg = LogisticRegression(fit_intercept = False, C = 1e12, verbose=1) #Starter code\n",
    "logreg.fit(X_train, y_train)\n",
    " #Preview model params\n",
    "display(logreg)\n",
    "# Predict\n",
    "y_hat_test = logreg.predict(X_test)\n",
    "y_hat_train = logreg.predict(X_train)"
   ]
  },
  {
   "cell_type": "code",
   "execution_count": null,
   "metadata": {},
   "outputs": [],
   "source": [
    "logreg.score(X_test, y_test), logreg.score(X_train, y_train)"
   ]
  },
  {
   "cell_type": "code",
   "execution_count": null,
   "metadata": {},
   "outputs": [],
   "source": [
    "train_residuals =  np.equal(y_train.values.reshape(1, -1), y_hat_train.reshape(1, -1))[0]\n",
    "train_residuals"
   ]
  },
  {
   "cell_type": "code",
   "execution_count": null,
   "metadata": {},
   "outputs": [],
   "source": [
    "X.shape"
   ]
  },
  {
   "cell_type": "code",
   "execution_count": null,
   "metadata": {},
   "outputs": [],
   "source": [
    "for col in df.columns:\n",
    "    print(col)"
   ]
  },
  {
   "cell_type": "code",
   "execution_count": null,
   "metadata": {},
   "outputs": [],
   "source": [
    "for col1 in X.columns:\n",
    "    for col2 in X.columns:\n",
    "        if col2 == col1:\n",
    "            pass\n",
    "        else:\n",
    "            corr = np.corrcoef(X[col1], X[col2])[0][1]\n",
    "            if corr > 0.20:\n",
    "                print(col1, col2, corr)"
   ]
  },
  {
   "cell_type": "code",
   "execution_count": null,
   "metadata": {},
   "outputs": [],
   "source": [
    "'''\n",
    "def plot_confusion_matrix(cm, classes,\n",
    "                          title='Confusion Matrix',\n",
    "                          cmap=plt.cm.Blues):\n",
    "    #Print the confusion matrix\n",
    "    print(cm)\n",
    "    \n",
    "    #Create the basic matrix.\n",
    "    plt.imshow(cm, interpolation='nearest', cmap=cmap)\n",
    "    \n",
    "    #Add title and Axis Labels\n",
    "    plt.title(title)\n",
    "    plt.colorbar()\n",
    "    tick_marks = np.arange(len(classes))\n",
    "    plt.xticks(tick_marks, classes, rotation=45)\n",
    "    plt.yticks(tick_marks, classes)\n",
    "\n",
    "    fmt = '.2f' if normalize else 'd'\n",
    "    thresh = cm.max() / 2.\n",
    "    for i, j in itertools.product(range(cm.shape[0]), range(cm.shape[1])):\n",
    "        plt.text(j, i, format(cm[i, j], fmt),\n",
    "                 horizontalalignment=\"center\",\n",
    "                 color=\"white\" if cm[i, j] > thresh else \"black\")\n",
    "\n",
    "    plt.tight_layout()\n",
    "    plt.ylabel('True Label')\n",
    "    plt.xlabel('Predicted Label')\n",
    "'''"
   ]
  },
  {
   "cell_type": "code",
   "execution_count": null,
   "metadata": {},
   "outputs": [],
   "source": [
    "# Creating function to plot confusion matrices:\n",
    "def plot_confusion_matrix(cm, classes,\n",
    "                          normalize=False,\n",
    "                          title='Confusion matrix',\n",
    "                          cmap=plt.cm.Blues):\n",
    "    # Check if Normalization Option is Set to True. \n",
    "    # If so, normalize the raw confusion matrix before visualizing\n",
    "    if normalize:\n",
    "        cm = cm.astype('float') / cm.sum(axis=1)[:, np.newaxis]\n",
    "        print(\"Normalized Confusion Matrix\")\n",
    "    else:\n",
    "        print('Confusion Matrix, without Normalization')\n",
    "        \n",
    "    # Print CNF Matrix\n",
    "    print(cm)\n",
    "    \n",
    "    # Create the Matrix\n",
    "    plt.imshow(cm, interpolation='nearest', cmap=cmap)\n",
    "    \n",
    "    # Add Title, Axis Labels:\n",
    "    # . classes = class_names\n",
    "    plt.title(title)\n",
    "    plt.colorbar()\n",
    "    tick_marks = np.arange(len(classes))\n",
    "    plt.xticks(tick_marks, classes, rotation=45)\n",
    "    plt.yticks(tick_marks, classes)\n",
    "    \n",
    "    # Add cell labels:\n",
    "    fmt = '.2f' if normalize else 'd'\n",
    "    thresh = cm.max() / 2.\n",
    "    for i, j in itertools.product(range(cm.shape[0]), range(cm.shape[1])):\n",
    "        plt.text(j, i, format(cm[i, j], fmt),\n",
    "                 horizontalalignment=\"center\",\n",
    "                 color=\"white\" if cm[i, j] > thresh else \"black\")\n",
    "\n",
    "    plt.ylabel('True Label')\n",
    "    plt.xlabel('Predicted Label')\n",
    "    plt.tight_layout()"
   ]
  },
  {
   "cell_type": "code",
   "execution_count": null,
   "metadata": {
    "scrolled": true
   },
   "outputs": [],
   "source": [
    "# DF object has no att val_counts\n",
    "\n",
    "#print(y_train.value_counts())\n",
    "#print(y_test.value_counts())"
   ]
  },
  {
   "cell_type": "code",
   "execution_count": null,
   "metadata": {},
   "outputs": [],
   "source": [
    "y_hat_test = logreg.predict(X_test)\n",
    "y_hat_train = logreg.predict(X_train)"
   ]
  },
  {
   "cell_type": "code",
   "execution_count": null,
   "metadata": {},
   "outputs": [],
   "source": [
    "# Train test split:\n",
    "#X_train, X_test, y_train, y_test = train_test_split(X, y, test_size=.2)\n",
    "\n",
    "# Fit a model:\n",
    "#logreg = LogisticRegression(fit_intercept = False, C = 1e12) #Starter code\n",
    "#model_log = logreg.fit(X_train, y_train)\n",
    "#print(model_log) #Preview model params\n",
    "\n",
    "# Predict:\n",
    "#y_hat_test = logreg.predict(X_test)"
   ]
  },
  {
   "cell_type": "code",
   "execution_count": null,
   "metadata": {},
   "outputs": [],
   "source": [
    "from sklearn.metrics import confusion_matrix\n",
    "\n",
    "cnf_matrix = confusion_matrix(y_hat_test, y_test)\n",
    "print('Confusion Matrix:\\n', cnf_matrix)"
   ]
  },
  {
   "cell_type": "code",
   "execution_count": null,
   "metadata": {},
   "outputs": [],
   "source": [
    "# Visualizing Normalized CNF Matrix:\n",
    "class_names = set( y )\n",
    "print( class_names )\n",
    "plt.figure()\n",
    "plot_confusion_matrix(cnf_matrix, classes = class_names, normalize=True, title='Normed CNF Matrix')\n",
    "plt.show()"
   ]
  },
  {
   "cell_type": "code",
   "execution_count": null,
   "metadata": {},
   "outputs": [],
   "source": [
    "# Initial Evaluation:\n",
    "residuals = y_train - y_hat_train\n",
    "print(pd.Series(residuals).value_counts())\n",
    "print(pd.Series(residuals).value_counts(normalize=True))"
   ]
  },
  {
   "cell_type": "code",
   "execution_count": null,
   "metadata": {},
   "outputs": [],
   "source": [
    "# Fit a model\n",
    "logreg = LogisticRegression(fit_intercept = False, C = 1e12, solver='lbfgs') #Starter code\n",
    "\n",
    "model_log = logreg.fit(X_train, y_train)\n",
    "model_log #Preview model params"
   ]
  },
  {
   "cell_type": "markdown",
   "metadata": {},
   "source": [
    "## ROC/AUC:"
   ]
  },
  {
   "cell_type": "code",
   "execution_count": null,
   "metadata": {},
   "outputs": [],
   "source": [
    "#AUC/ROC Not yet working:\n",
    "\n",
    "#Initial Model:\n",
    "logreg = LogisticRegression(fit_intercept = False)\n",
    "\n",
    "# Probability scores for test set:\n",
    "y_score = logreg.fit(X_train, y_train).decision_function(X_test)\n",
    "\n",
    "# False Positive Rate (fpr) and True Positive Rate (tpr):\n",
    "fpr, tpr, thresholds = roc_curve(y_true=y_test, y_score=y_score, pos_label='white')\n",
    "\n",
    "sns.set_style(\"darkgrid\", {\"axes.facecolor\": \".9\"})\n",
    "\n",
    "# Print AUC, Plot ROC Curve:\n",
    "print('AUC: {}'.format(auc(fpr, tpr)))\n",
    "plt.figure(figsize=(10,8))\n",
    "lw = 2\n",
    "plt.plot(fpr, tpr, color='darkorange',\n",
    "         lw=lw, label='ROC curve')\n",
    "\n",
    "plt.plot([0, 1], [0, 1], color='navy', lw=lw, linestyle='--')\n",
    "plt.xlim([0.0, 1.0])\n",
    "plt.ylim([0.0, 1.05])\n",
    "plt.yticks([i/20.0 for i in range(21)])\n",
    "plt.xticks([i/20.0 for i in range(21)])\n",
    "plt.xlabel('False Positive Rate')\n",
    "plt.ylabel('True Positive Rate')\n",
    "plt.title('Receiver operating characteristic (ROC) Curve')\n",
    "plt.legend(loc=\"best\")\n",
    "plt.show()"
   ]
  },
  {
   "cell_type": "code",
   "execution_count": null,
   "metadata": {},
   "outputs": [],
   "source": []
  },
  {
   "cell_type": "code",
   "execution_count": null,
   "metadata": {},
   "outputs": [],
   "source": []
  },
  {
   "cell_type": "code",
   "execution_count": null,
   "metadata": {},
   "outputs": [],
   "source": []
  },
  {
   "cell_type": "code",
   "execution_count": null,
   "metadata": {},
   "outputs": [],
   "source": []
  },
  {
   "cell_type": "code",
   "execution_count": null,
   "metadata": {},
   "outputs": [],
   "source": []
  },
  {
   "cell_type": "code",
   "execution_count": null,
   "metadata": {},
   "outputs": [],
   "source": [
    "# Fit model:\n",
    "#logreg = LogisticRegression(fit_intercept=False, C=1e12)\n",
    "#model_log = logreg.fit(X_train, y_train)\n",
    "#print(model_log) #preview params\n",
    "\n",
    "# Predict:\n",
    "#y_hat_test = logreg.predict(X_test)"
   ]
  },
  {
   "cell_type": "markdown",
   "metadata": {},
   "source": [
    "Next we will employ various techniques in order to tune our initial model:"
   ]
  },
  {
   "cell_type": "code",
   "execution_count": null,
   "metadata": {
    "scrolled": true
   },
   "outputs": [],
   "source": [
    "C_param_range = [0.001,0.01,0.1,1,10,100]\n",
    "names = [0.001,0.01,0.1,1,10,100]\n",
    "colors = sns.color_palette('Set2')\n",
    "\n",
    "plt.figure(figsize=(10,8))\n",
    "\n",
    "for n, c in enumerate(C_param_range):\n",
    "    # Fit a model:\n",
    "    logreg = LogisticRegression(fit_intercept = False, C = c) #Starter code\n",
    "    logreg = logreg.fit(X_train, y_train)\n",
    "    print(logreg) #Preview model params\n",
    "\n",
    "    #Predict\n",
    "    y_hat_test = logreg.predict(X_test)\n",
    "\n",
    "    y_score = logreg.fit(X_train, y_train).decision_function(X_test)\n",
    "\n",
    "    fpr, tpr, thresholds = roc_curve(y_test, y_score, pos_label='white')\n",
    "    \n",
    "    print('AUC for {}: {}'.format(names[n], auc(fpr, tpr)))\n",
    "    lw = 2\n",
    "    plt.plot(fpr, tpr, color=colors[n],\n",
    "             lw=lw, label='ROC curve Normalization Weight: {}'.format(names[n]))\n",
    "plt.plot([0, 1], [0, 1], color='teal', lw=lw, linestyle='--')\n",
    "plt.xlim([0.0, 1.0])\n",
    "plt.ylim([0.0, 1.05])\n",
    "\n",
    "plt.yticks([i/20.0 for i in range(21)])\n",
    "plt.xticks([i/20.0 for i in range(21)])\n",
    "plt.xlabel('False Positive Rate')\n",
    "plt.ylabel('True Positive Rate')\n",
    "plt.title('Receiver operating characteristic (ROC) Curve')\n",
    "plt.legend(loc='best')\n",
    "plt.show()"
   ]
  },
  {
   "cell_type": "markdown",
   "metadata": {},
   "source": [
    "Necessary?\n",
    "\n",
    "\n",
    "### SMOTE:\n",
    "\n",
    "Next, let's use the SMOTE class from imblearn to improve model performance on the minority class."
   ]
  },
  {
   "cell_type": "code",
   "execution_count": null,
   "metadata": {},
   "outputs": [],
   "source": [
    "print(y_train.value_counts()) #Previous original class distribution\n",
    "X_train_resampled, y_train_resampled = SMOTE().fit_sample(X_train, y_train) \n",
    "print(pd.Series(y_train_resampled).value_counts()) #Preview synthetic sample class distribution"
   ]
  },
  {
   "cell_type": "code",
   "execution_count": null,
   "metadata": {},
   "outputs": [],
   "source": [
    "# Now let's compare a few different regularization performances on the dataset:\n",
    "C_param_range = [0.005, 0.1, 0.2, 0.5, 0.8, 1, 1.25, 1.5, 2]\n",
    "names = [0.005, 0.1, 0.2, 0.5, 0.8, 1, 1.25, 1.5, 2]\n",
    "colors = sns.color_palette(\"Set2\", n_colors=len(names))\n",
    "\n",
    "plt.figure(figsize=(10,8))\n",
    "\n",
    "for n, c in enumerate(C_param_range):\n",
    "    #Fit a model\n",
    "    logreg = LogisticRegression(fit_intercept = False, C = c) #Starter code\n",
    "    model_log = logreg.fit(X_train_resampled, y_train_resampled)\n",
    "    print(model_log) #Preview model params\n",
    "\n",
    "    #Predict\n",
    "    y_hat_test = logreg.predict(X_test)\n",
    "\n",
    "    y_score = logreg.fit(X_train_resampled, y_train_resampled).decision_function(X_test)\n",
    "\n",
    "    fpr, tpr, thresholds = roc_curve(y_test, y_score)\n",
    "    \n",
    "    print('AUC for {}: {}'.format(names[n], auc(fpr, tpr)))\n",
    "    lw = 2\n",
    "    plt.plot(fpr, tpr, color=colors[n],\n",
    "             lw=lw, label='ROC curve Regularization Weight: {}'.format(names[n]))\n",
    "plt.plot([0, 1], [0, 1], color='navy', lw=lw, linestyle='--')\n",
    "plt.xlim([0.0, 1.0])\n",
    "plt.ylim([0.0, 1.05])\n",
    "\n",
    "plt.yticks([i/20.0 for i in range(21)])\n",
    "plt.xticks([i/20.0 for i in range(21)])\n",
    "plt.xlabel('False Positive Rate')\n",
    "plt.ylabel('True Positive Rate')\n",
    "plt.title('Receiver operating characteristic (ROC) Curve')\n",
    "plt.legend(loc=\"lower right\")\n",
    "plt.show()"
   ]
  },
  {
   "cell_type": "code",
   "execution_count": null,
   "metadata": {},
   "outputs": [],
   "source": []
  },
  {
   "cell_type": "code",
   "execution_count": null,
   "metadata": {},
   "outputs": [],
   "source": []
  },
  {
   "cell_type": "code",
   "execution_count": null,
   "metadata": {},
   "outputs": [],
   "source": []
  },
  {
   "cell_type": "code",
   "execution_count": null,
   "metadata": {},
   "outputs": [],
   "source": []
  },
  {
   "cell_type": "code",
   "execution_count": null,
   "metadata": {},
   "outputs": [],
   "source": []
  },
  {
   "cell_type": "code",
   "execution_count": null,
   "metadata": {
    "scrolled": true
   },
   "outputs": [],
   "source": [
    "y.winner.value_counts()"
   ]
  },
  {
   "cell_type": "code",
   "execution_count": null,
   "metadata": {},
   "outputs": [],
   "source": [
    "y.head(10)"
   ]
  },
  {
   "cell_type": "code",
   "execution_count": null,
   "metadata": {},
   "outputs": [],
   "source": [
    "# Calculate the probability scores of each of the datapoints:\n",
    "#y_score = model_log.decision_function(X_test)\n",
    "\n",
    "#fpr, tpr, thresholds = roc_curve(y_test, y_score)\n",
    "\n",
    "#y_train_score = model_log.decision_function(X_train)\n",
    "#train_fpr, train_tpr, thresholds = roc_curve(y_train, y_train_score)"
   ]
  },
  {
   "cell_type": "code",
   "execution_count": null,
   "metadata": {},
   "outputs": [],
   "source": [
    "# Create first model:\n",
    "lr = LogisticRegression(fit_intercept=False, C=1e12, solver='lbfgs')\n",
    "rf = RandomForestClassifier(n_estimators = 100)\n",
    "nb = MultinomialNB()\n",
    "\n",
    "models = {\n",
    "    'Logistic Regression' : lr,\n",
    "    'Random Forest'       : rf,\n",
    "    'Mult. Naive Bayes'   : nb\n",
    "}\n",
    "\n",
    "for name, model in models.items():\n",
    "    model.fit(X, y)\n",
    "    print(name, end = '')\n",
    "    # Calculating Scores:\n",
    "    scores = cross_val_score(model, X, y, cv=10)\n",
    "    print(' - mean score: ', np.mean(scores))\n",
    "    #print(scores)"
   ]
  },
  {
   "cell_type": "code",
   "execution_count": null,
   "metadata": {},
   "outputs": [],
   "source": []
  },
  {
   "cell_type": "markdown",
   "metadata": {},
   "source": [
    "## Pruning"
   ]
  },
  {
   "cell_type": "code",
   "execution_count": null,
   "metadata": {},
   "outputs": [],
   "source": [
    "# Feature Importance\n",
    "features = pd.DataFrame(columns = ['feature', 'importance'])\n",
    "features['feature']    = X.columns\n",
    "features['importance'] = rf.feature_importances_\n",
    "features.sort_values('importance', ascending=False)"
   ]
  },
  {
   "cell_type": "code",
   "execution_count": null,
   "metadata": {},
   "outputs": [],
   "source": [
    "df.columns"
   ]
  },
  {
   "cell_type": "code",
   "execution_count": null,
   "metadata": {},
   "outputs": [],
   "source": [
    "df.head()"
   ]
  },
  {
   "cell_type": "code",
   "execution_count": null,
   "metadata": {},
   "outputs": [],
   "source": []
  },
  {
   "cell_type": "code",
   "execution_count": null,
   "metadata": {},
   "outputs": [],
   "source": []
  },
  {
   "cell_type": "code",
   "execution_count": null,
   "metadata": {},
   "outputs": [],
   "source": [
    "train_test_split(df)\n",
    "X_train, X_test, y_train, y_test = train_test_split(df, df_features, test_size=.2)"
   ]
  },
  {
   "cell_type": "code",
   "execution_count": null,
   "metadata": {},
   "outputs": [],
   "source": [
    "logreg = LogisticRegression(fit_intercept=False, C=1e12, solver='lbfgs')\n",
    "\n",
    "model_log = logreg.fit(X_train, y_train)\n",
    "model_log"
   ]
  },
  {
   "cell_type": "code",
   "execution_count": null,
   "metadata": {},
   "outputs": [],
   "source": []
  },
  {
   "cell_type": "code",
   "execution_count": null,
   "metadata": {},
   "outputs": [],
   "source": []
  },
  {
   "cell_type": "code",
   "execution_count": null,
   "metadata": {},
   "outputs": [],
   "source": []
  },
  {
   "cell_type": "markdown",
   "metadata": {},
   "source": [
    "## Decision Tree:"
   ]
  },
  {
   "cell_type": "code",
   "execution_count": null,
   "metadata": {},
   "outputs": [],
   "source": [
    "from sklearn.tree import DecisionTreeClassifier"
   ]
  },
  {
   "cell_type": "code",
   "execution_count": null,
   "metadata": {},
   "outputs": [],
   "source": [
    "# Train Decision Tree Classifier:\n",
    "classifier = DecisionTreeClassifier()\n",
    "classifier.fit(X_train, y_train)"
   ]
  },
  {
   "cell_type": "code",
   "execution_count": null,
   "metadata": {},
   "outputs": [],
   "source": [
    "# Make Predictions for test data:\n",
    "y_pred = classifier.predict(X_test)"
   ]
  },
  {
   "cell_type": "code",
   "execution_count": null,
   "metadata": {},
   "outputs": [],
   "source": [
    "# Calculate Accuracy , AUC and Confusion matrix \n",
    "acc = accuracy_score(y_test,y_pred) * 100\n",
    "print(\"Accuracy is :{0}\".format(acc))\n",
    "\n",
    "# Check the AUC for predictions\n",
    "false_positive_rate, true_positive_rate, thresholds = roc_curve(y_test, y_pred, pos_label='white')\n",
    "roc_auc = auc(false_positive_rate, true_positive_rate)\n",
    "print(\"\\nAUC is :{0}\".format(round(roc_auc,2)))\n",
    "\n",
    "# Create and print a confusion matrix \n",
    "print('\\nConfusion Matrix')\n",
    "print('----------------')\n",
    "pd.crosstab(y_test, y_pred, rownames=['True'], colnames=['Predicted'], margins=True)"
   ]
  },
  {
   "cell_type": "code",
   "execution_count": null,
   "metadata": {},
   "outputs": [],
   "source": [
    "# Train a DT classifier using entropy:\n",
    "classifier2 = DecisionTreeClassifier(random_state=10, criterion='entropy')  \n",
    "classifier2.fit(X_train, y_train)  \n",
    "\n",
    "# Make predictions for test data\n",
    "y_pred = classifier2.predict(X_test) \n",
    "\n",
    "# Calculate Accuracy \n",
    "acc = accuracy_score(y_test,y_pred) * 100\n",
    "print(\"Accuracy is :{0}\".format(acc))\n",
    "\n",
    "# Check the AUC for predictions\n",
    "false_positive_rate, true_positive_rate, thresholds = roc_curve(y_test, y_pred, pos_label='white')\n",
    "roc_auc = auc(false_positive_rate, true_positive_rate)\n",
    "print(\"\\nAUC is :{0}\".format(round(roc_auc,2)))\n",
    "\n",
    "# Create and print a confusion matrix \n",
    "print('\\nConfusion Matrix')\n",
    "print('----------------')\n",
    "print(pd.crosstab(y_test, y_pred, rownames=['True'], colnames=['Predicted'], margins=True))\n",
    "\n",
    "# Visualize the tree trained from complete dataset (optional)\n",
    "dot_data = StringIO()\n",
    "export_graphviz(classifier2, out_file=dot_data, filled=True, rounded=True,special_characters=True)\n",
    "graph = pydotplus.graph_from_dot_data(dot_data.getvalue())  \n",
    "Image(graph.create_png())"
   ]
  },
  {
   "cell_type": "code",
   "execution_count": null,
   "metadata": {
    "scrolled": true
   },
   "outputs": [],
   "source": [
    "fpr, tpr, thresholds = roc_curve(y_test, y_hat_test, pos_label='white')\n",
    "\n",
    "sns.set_style('whitegrid', {'axes.facecolor': '.9'})\n",
    "\n",
    "print(f'AUC: {auc(fpr, tpr)}')\n",
    "plt.figure(figsize=(8,6.5))\n",
    "lw=2\n",
    "\n",
    "plt.plot(fpr, tpr, color='orange', lw=lw, label='ROC Curve')\n",
    "plt.plot([0,1], [0,1], color='cyan', lw=lw, linestyle='--')\n",
    "plt.xlim([0.0,1.0])\n",
    "plt.ylim([0.0, 1.05])\n",
    "plt.yticks([i/20.0 for i in range(21)])\n",
    "plt.xticks([i/20.0 for i in range(21)])\n",
    "plt.xlabel('False Positive Rate')\n",
    "plt.ylabel('True Positive Rate')\n",
    "plt.title('Receiver Operating Characteristic (ROC) Curve')\n",
    "plt.legend(loc=\"lower right\")\n",
    "plt.show()"
   ]
  },
  {
   "cell_type": "code",
   "execution_count": null,
   "metadata": {},
   "outputs": [],
   "source": [
    "print(type(y_test))\n",
    "print(type(y_pred))"
   ]
  },
  {
   "cell_type": "code",
   "execution_count": null,
   "metadata": {},
   "outputs": [],
   "source": [
    "y_test.head()"
   ]
  },
  {
   "cell_type": "code",
   "execution_count": null,
   "metadata": {},
   "outputs": [],
   "source": [
    "y_pred.head()"
   ]
  },
  {
   "cell_type": "code",
   "execution_count": null,
   "metadata": {},
   "outputs": [],
   "source": [
    "'''\n",
    "X_train, X_test, y_train, y_test = train_test_split(df_feature_dums, df_target, test_size=0.2, random_state=42)\n",
    "\n",
    "# Construct some pipelines\n",
    "pipe_lr = Pipeline([('scl', StandardScaler()),\n",
    "            ('pca', PCA(n_components=2)),\n",
    "            ('clf', LogisticRegression(random_state=42))])\n",
    "\n",
    "pipe_svm = Pipeline([('scl', StandardScaler()),\n",
    "            ('pca', PCA(n_components=2)),\n",
    "            ('clf', svm.SVC(random_state=42))])\n",
    "        \n",
    "pipe_dt = Pipeline([('scl', StandardScaler()),\n",
    "            ('pca', PCA(n_components=2)),\n",
    "            ('clf', tree.DecisionTreeClassifier(random_state=42))])\n",
    "\n",
    "# List of pipelines for ease of iteration\n",
    "pipelines = [pipe_lr, pipe_svm, pipe_dt]\n",
    "\n",
    "# Dictionary of pipelines and classifier types for ease of reference\n",
    "pipe_dict = {0: 'Logistic Regression', 1: 'Support Vector Machine', 2: 'Decision Tree'}\n",
    "\n",
    "# Fit the pipelines\n",
    "for pipe in pipelines:\n",
    "    pipe.fit(X_train, y_train)\n",
    "\n",
    "# Compare accuracies\n",
    "for idx, val in enumerate(pipelines):\n",
    "    print('%s pipeline test accuracy: %.3f' % (pipe_dict[idx], val.score(X_test, y_test)))\n",
    "\n",
    "# Identify the most accurate model on test data\n",
    "best_acc = 0.0\n",
    "best_clf = 0\n",
    "best_pipe = ''\n",
    "for idx, val in enumerate(pipelines):\n",
    "    if val.score(X_test, y_test) > best_acc:\n",
    "        best_acc = val.score(X_test, y_test)\n",
    "        best_pipe = val\n",
    "        best_clf = idx\n",
    "print('Classifier with best accuracy: %s' % pipe_dict[best_clf])\n",
    "'''"
   ]
  },
  {
   "cell_type": "code",
   "execution_count": null,
   "metadata": {},
   "outputs": [],
   "source": [
    "'''\n",
    "# Visualizing CNF Matrix:\n",
    "plt.imshow(cnf_matrix,  cmap=plt.cm.Blues) #Create the basic matrix.\n",
    "\n",
    "#Add title and Axis Labels\n",
    "plt.title('Confusion Matrix')\n",
    "plt.ylabel('True Label')\n",
    "plt.xlabel('Predicted Label')\n",
    "\n",
    "#Add appropriate Axis Scales\n",
    "class_names = set(y) #Get class labels to add to matrix\n",
    "tick_marks = np.arange(len(class_names))\n",
    "plt.xticks(tick_marks, class_names, rotation=45)\n",
    "plt.yticks(tick_marks, class_names)\n",
    "\n",
    "#Add Labels to Each Cell\n",
    "thresh = cnf_matrix.max() / 2. #Used for text coloring below\n",
    "#Here we iterate through the confusion matrix and append labels to our visualization.\n",
    "for i, j in itertools.product(range(cnf_matrix.shape[0]), range(cnf_matrix.shape[1])):\n",
    "        plt.text(j, i, cnf_matrix[i, j],\n",
    "                 horizontalalignment=\"center\",\n",
    "                 color=\"white\" if cnf_matrix[i, j] > thresh else \"black\")\n",
    "\n",
    "#Add a Side Bar Legend Showing Colors\n",
    "plt.colorbar()\n",
    "'''"
   ]
  },
  {
   "cell_type": "code",
   "execution_count": null,
   "metadata": {},
   "outputs": [],
   "source": []
  },
  {
   "cell_type": "code",
   "execution_count": null,
   "metadata": {},
   "outputs": [],
   "source": []
  },
  {
   "cell_type": "code",
   "execution_count": null,
   "metadata": {},
   "outputs": [],
   "source": []
  },
  {
   "cell_type": "code",
   "execution_count": null,
   "metadata": {},
   "outputs": [],
   "source": []
  },
  {
   "cell_type": "code",
   "execution_count": null,
   "metadata": {},
   "outputs": [],
   "source": []
  },
  {
   "cell_type": "code",
   "execution_count": null,
   "metadata": {},
   "outputs": [],
   "source": []
  }
 ],
 "metadata": {
  "kernelspec": {
   "display_name": "learn-env",
   "language": "python",
   "name": "learn-env"
  },
  "language_info": {
   "codemirror_mode": {
    "name": "ipython",
    "version": 3
   },
   "file_extension": ".py",
   "mimetype": "text/x-python",
   "name": "python",
   "nbconvert_exporter": "python",
   "pygments_lexer": "ipython3",
   "version": "3.6.6"
  },
  "toc": {
   "base_numbering": 1,
   "nav_menu": {},
   "number_sections": true,
   "sideBar": true,
   "skip_h1_title": false,
   "title_cell": "Table of Contents",
   "title_sidebar": "Contents",
   "toc_cell": true,
   "toc_position": {},
   "toc_section_display": true,
   "toc_window_display": false
  }
 },
 "nbformat": 4,
 "nbformat_minor": 2
}
